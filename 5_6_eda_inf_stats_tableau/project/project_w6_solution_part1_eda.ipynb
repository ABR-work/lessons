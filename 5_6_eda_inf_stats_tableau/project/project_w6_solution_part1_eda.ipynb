{
 "cells": [
  {
   "cell_type": "markdown",
   "id": "f6a59bfb-6d7c-45dd-86cf-7be79577f1d4",
   "metadata": {},
   "source": [
    "# Case Study: Navigating Vanguard's Digital Redesign"
   ]
  },
  {
   "cell_type": "markdown",
   "id": "acbbe8b9-4cc6-4be8-9088-18832c6e8314",
   "metadata": {},
   "source": [
    "Note: This is one of many possible solutions. This should serve as a guide."
   ]
  },
  {
   "cell_type": "markdown",
   "id": "f7a78dc9-b7b4-41a5-9b46-dff9d13ad2ad",
   "metadata": {},
   "source": [
    "Here's a brief overview of each dataset:\n",
    "\n",
    "1. **df_demo**: Contains demographic details for each client, such as tenure, age, gender, number of accounts, balance, etc.\n",
    "2. **df_experiment_clients**: Provides information on whether a client was exposed to the old (\"Control\") or new (\"Test\") digital process.\n",
    "3. **df_web_data**: Captures the client's navigation through the digital process, detailing the steps they took."
   ]
  },
  {
   "cell_type": "markdown",
   "id": "9ac3cebb-38c4-4b2e-9c30-e3023e5d6bc8",
   "metadata": {},
   "source": [
    "Let's load the datasets and combine the split data files (df_final_web_data_pt_1 and df_final_web_data_pt_2)."
   ]
  },
  {
   "cell_type": "code",
   "execution_count": null,
   "id": "8ac26c48-62a7-4390-931c-ae7372a50b05",
   "metadata": {},
   "outputs": [],
   "source": [
    "import pandas as pd\n",
    "\n",
    "path = 'https://github.com/data-bootcamp-v4/lessons/raw/main/6_inf_stats/project/files_for_project/'\n",
    "\n",
    "# Correctly parsing the dataframes\n",
    "df_demo = pd.read_csv(path+'df_final_demo.txt', sep=\",\")\n",
    "df_experiment_clients = pd.read_csv(path+'df_final_experiment_clients.txt', sep=\",\")\n",
    "df_web_data_pt_1 = pd.read_csv(path+'df_final_web_data_pt_1.txt', sep=\",\")\n",
    "df_web_data_pt_2 = pd.read_csv(path+'df_final_web_data_pt_2.txt', sep=\",\")\n",
    "\n",
    "# Combining web data\n",
    "df_web_data = pd.concat([df_web_data_pt_1, df_web_data_pt_2], ignore_index=True)"
   ]
  },
  {
   "cell_type": "markdown",
   "id": "bd6191d5-901b-4240-853c-25a5e9c6d765",
   "metadata": {},
   "source": [
    "## EDA and Data Cleaning"
   ]
  },
  {
   "cell_type": "markdown",
   "id": "210295bf-b3f9-46fa-9742-1051ecc8339b",
   "metadata": {},
   "source": [
    "Let's start with the Exploratory Data Analysis (EDA). Whenever necessary, we will also do data cleaning."
   ]
  },
  {
   "cell_type": "markdown",
   "id": "d7dd06c0-234e-4f3e-a9cf-fe3635c1559c",
   "metadata": {},
   "source": [
    "### Duplicates, missing values and outliers"
   ]
  },
  {
   "cell_type": "markdown",
   "id": "44a3d3f9-1747-48f6-91af-1fdfe69804d8",
   "metadata": {},
   "source": [
    "1. **Handling Duplicates**:\n",
    "    - Check if there are any duplicate rows in each dataframe and remove them if necessary."
   ]
  },
  {
   "cell_type": "code",
   "execution_count": null,
   "id": "22baa9a9-181e-4d2d-81ff-e2142c8ce5a3",
   "metadata": {},
   "outputs": [],
   "source": [
    "# 1. Handling Duplicates\n",
    "\n",
    "# Check for duplicate rows in each dataframe\n",
    "duplicates = {\n",
    "    \"df_demo\": df_demo.duplicated().sum(),\n",
    "    \"df_experiment_clients\": df_experiment_clients.duplicated().sum(),\n",
    "    \"df_web_data\": df_web_data.duplicated().sum()\n",
    "}\n",
    "\n",
    "# If there are duplicates, we will drop them\n",
    "if duplicates[\"df_demo\"] > 0:\n",
    "    df_demo.drop_duplicates(inplace=True)\n",
    "if duplicates[\"df_experiment_clients\"] > 0:\n",
    "    df_experiment_clients.drop_duplicates(inplace=True)\n",
    "if duplicates[\"df_web_data\"] > 0:\n",
    "    df_web_data.drop_duplicates(inplace=True)\n",
    "\n",
    "duplicates # Before\n"
   ]
  },
  {
   "cell_type": "code",
   "execution_count": null,
   "id": "ebcf0813-938b-4e05-a242-56563d02c822",
   "metadata": {},
   "outputs": [],
   "source": [
    "{\n",
    "    \"df_demo\": df_demo.duplicated().sum(),\n",
    "    \"df_experiment_clients\": df_experiment_clients.duplicated().sum(),\n",
    "    \"df_web_data\": df_web_data.duplicated().sum()\n",
    "} # after"
   ]
  },
  {
   "cell_type": "markdown",
   "id": "62cd5f7d-25b4-43fa-8bab-415ab461f1fa",
   "metadata": {},
   "source": [
    "We observed that there were 10,764 duplicate rows in the `df_web_data` dataframe. These duplicates have been removed."
   ]
  },
  {
   "cell_type": "markdown",
   "id": "fa48fd80-c417-4dde-b332-cf9a5a7a4e69",
   "metadata": {},
   "source": [
    "\n",
    "2. **Handling Missing Values**:\n",
    "    - Address the missing values. Depending on the nature of the missing data, we can either:\n",
    "        - Fill with mean, median, or mode (for numerical data).\n",
    "        - Fill with a specific value or category.\n",
    "        - Remove the rows with missing data (if the proportion of missing data is small)."
   ]
  },
  {
   "cell_type": "markdown",
   "id": "09e65896-47ed-4dfb-a042-7694194c9407",
   "metadata": {},
   "source": [
    "Let's start by checking for missing values in each dataframe."
   ]
  },
  {
   "cell_type": "code",
   "execution_count": null,
   "id": "887e8659-c7b2-42d0-9a9d-7d1781ab0f83",
   "metadata": {},
   "outputs": [],
   "source": [
    "# Checking for missing values in each dataframe\n",
    "missing_values = {\n",
    "    \"df_demo\": df_demo.isnull().sum(),\n",
    "    \"df_experiment_clients\": df_experiment_clients.isnull().sum(),\n",
    "    \"df_web_data\": df_web_data.isnull().sum()\n",
    "}\n",
    "\n",
    "missing_values"
   ]
  },
  {
   "cell_type": "markdown",
   "id": "d6135518-c0f0-4d74-8bc0-b47789fac36e",
   "metadata": {},
   "source": [
    "Here are the findings regarding missing values:\n",
    "\n",
    "1. **df_demo**:\n",
    "   - `clnt_tenure_yr`, `clnt_tenure_mnth`, `gendr`, `num_accts`, `bal`, `calls_6_mnth`, and `logons_6_mnth` each have 14 missing values.\n",
    "   - `clnt_age` has 15 missing values.\n",
    "\n",
    "2. **df_experiment_clients**:\n",
    "   - `Variation` has 20,109 missing values.\n",
    "\n",
    "3. **df_web_data**:\n",
    "   - There are no missing values in this dataframe.\n"
   ]
  },
  {
   "cell_type": "markdown",
   "id": "1c6f097e-6803-494f-8379-89d563ec24d1",
   "metadata": {},
   "source": [
    "Let's address missing values the following way:"
   ]
  },
  {
   "cell_type": "markdown",
   "id": "8fd5a778-8742-49e9-b871-100d40f4518d",
   "metadata": {},
   "source": [
    "1. For the `df_demo` dataframe, we'll fill missing values for numeric columns with their median and for the categorical column `gendr` with the mode.\n",
    "2. For the `df_experiment_clients` dataframe, the `Variation` column has missing values indicating clients who weren't part of the experiment, we'll ignore them for now."
   ]
  },
  {
   "cell_type": "code",
   "execution_count": null,
   "id": "a0604c5a-781a-498e-a5f8-159c3bcb62aa",
   "metadata": {},
   "outputs": [],
   "source": [
    "# 2. Handling Missing Values\n",
    "\n",
    "# For df_demo dataframe\n",
    "numeric_cols_demo = ['clnt_tenure_yr', 'clnt_tenure_mnth', 'clnt_age', 'num_accts', 'bal', 'calls_6_mnth', 'logons_6_mnth']\n",
    "for col in numeric_cols_demo:\n",
    "    df_demo[col].fillna(df_demo[col].median(), inplace=True)\n",
    "    \n",
    "df_demo['gendr'].fillna(df_demo['gendr'].mode()[0], inplace=True)\n",
    "\n",
    "# Check if missing values are addressed\n",
    "missing_values_updated = {\n",
    "    \"df_demo\": df_demo.isnull().sum().max(),\n",
    "    \"df_experiment_clients\": df_experiment_clients.isnull().sum().max(),\n",
    "    \"df_web_data\": df_web_data.isnull().sum().max()\n",
    "}\n",
    "\n",
    "missing_values_updated\n"
   ]
  },
  {
   "cell_type": "markdown",
   "id": "5354396a-d3ab-48b8-8b43-9c7e59c4b568",
   "metadata": {},
   "source": [
    "All missing values have been successfully addressed:\n",
    "\n",
    "- For the `df_demo` dataframe, numerical columns were filled with their respective medians, and the `gendr` column was filled with its mode.\n",
    "- For the `df_experiment_clients` dataframe, the `Variation` column's missing values were filled with the label \"Not_Participated\"."
   ]
  },
  {
   "cell_type": "markdown",
   "id": "d4558806-e753-49f4-8af6-393722dc496e",
   "metadata": {},
   "source": [
    "\n",
    "    \n",
    "3. **Addressing Outliers**:\n",
    "    - Identify potential outliers in the key numerical columns and decide on an approach to handle them."
   ]
  },
  {
   "cell_type": "markdown",
   "id": "f3d6e0df-d1a8-47e0-82e5-d5c20c15db47",
   "metadata": {},
   "source": [
    "\n",
    "Let's identify and handle potential outliers in the key numerical columns of the `df_demo` dataframe. We'll use the IQR (Interquartile Range) method to detect outliers. The columns of primary interest for outlier detection include `clnt_age`, `bal`, `calls_6_mnth`, and `logons_6_mnth`.\n",
    "\n",
    "\n"
   ]
  },
  {
   "cell_type": "code",
   "execution_count": null,
   "id": "80dce5b6-f241-46ea-83c2-dad1adc6cd49",
   "metadata": {},
   "outputs": [],
   "source": [
    "# 3. Addressing Outliers\n",
    "\n",
    "# Columns to check for outliers\n",
    "cols_to_check = ['clnt_age', 'bal', 'calls_6_mnth', 'logons_6_mnth']\n",
    "\n",
    "outliers = {}\n",
    "\n",
    "# Detect outliers using IQR method\n",
    "for col in cols_to_check:\n",
    "    Q1 = df_demo[col].quantile(0.25)\n",
    "    Q3 = df_demo[col].quantile(0.75)\n",
    "    IQR = Q3 - Q1\n",
    "    lower_bound = Q1 - 1.5 * IQR\n",
    "    upper_bound = Q3 + 1.5 * IQR\n",
    "    \n",
    "    outliers[col] = df_demo[(df_demo[col] < lower_bound) | (df_demo[col] > upper_bound)].shape[0]\n",
    "\n",
    "outliers\n"
   ]
  },
  {
   "cell_type": "markdown",
   "id": "82acbc5d-c661-4802-80a1-344dea17bd2a",
   "metadata": {},
   "source": [
    "\n",
    "The IQR method reveals potential outliers in the `bal` (balance) column, with 8,021 data points identified as outliers. The other columns, namely `clnt_age`, `calls_6_mnth`, and `logons_6_mnth`, do not have any outliers based on this method.\n",
    "\n",
    "For the `bal` column:\n",
    "- Given the nature of financial data, it's common to have a wide range of balances, with some clients having exceptionally high balances. \n",
    "- Therefore, instead of removing these outliers, it might be more appropriate to keep them, as they represent genuine data points.\n",
    "\n",
    "However, it's essential to make a note of these outliers, as they can impact certain analyses, especially if the goal is to make generalizations or assumptions about the broader client base.\n"
   ]
  },
  {
   "cell_type": "markdown",
   "id": "822113b6-c4ee-4fe2-915b-c5141b9079e5",
   "metadata": {},
   "source": [
    "### Summary Statistics"
   ]
  },
  {
   "cell_type": "markdown",
   "id": "2ad3a85b-637a-4a89-8fd4-83bf1983bfc9",
   "metadata": {},
   "source": [
    "Next, let's generate summary statistics for the `df_demo` dataframe to understand the distribution of key variables. This will provide insights into measures like mean, median, standard deviation, and range for numerical variables."
   ]
  },
  {
   "cell_type": "code",
   "execution_count": null,
   "id": "afb3cb89-6602-4944-9bad-80fdbd2fbd57",
   "metadata": {},
   "outputs": [],
   "source": [
    "# Descriptive statistics for numerical columns in df_demo\n",
    "df_demo_descriptive = df_demo.describe()\n",
    "\n",
    "df_demo_descriptive"
   ]
  },
  {
   "cell_type": "markdown",
   "id": "518519fd-9dd3-4aa4-9774-e4a848c4e5a3",
   "metadata": {},
   "source": [
    "The descriptive statistics for the numerical columns in the `df_demo` dataset reveal the following insights:\n",
    "\n",
    "1. **client_id**: There are 70,609 unique client IDs.\n",
    "2. **clnt_tenure_yr** & **clnt_tenure_mnth**: The average tenure of clients is about 12 years (or approximately 151 months). The minimum tenure is 2 years (or 33 months) and the maximum is 62 years (or 749 months).\n",
    "3. **clnt_age**: The average age of clients is approximately 46 years, with a minimum of 13.5 and a maximum of 96 years.\n",
    "4. **num_accts**: Most clients have around 2 accounts, with a minimum of 1 and a maximum of 8 accounts.\n",
    "5. **bal**: The average balance is about USD 147,445. However, the large standard deviation indicates a wide range of balances, from a minimum of USD 13,789 to a maximum of USD 16,320,040.\n",
    "6. **calls_6_mnth**: On average, clients made around 3 calls in the last 6 months, with a maximum of 7 calls.\n",
    "7. **logons_6_mnth**: Clients logged on to the platform an average of 5.6 times in the last 6 months, with a maximum of 9 logons."
   ]
  },
  {
   "cell_type": "markdown",
   "id": "69ae0902-c485-4854-bae2-03d438919ed9",
   "metadata": {},
   "source": [
    "### Distribution of clnt_age, bal, calls_6_mnth, and logons_6_mnth"
   ]
  },
  {
   "cell_type": "markdown",
   "id": "3704403d-0abf-4ccf-9b84-44662f9da791",
   "metadata": {},
   "source": [
    "\n",
    "Next, we can visualize the distribution of some of the key variables, such as `clnt_age`, `bal`, `calls_6_mnth`, and `logons_6_mnth`, to gain a better understanding of their spread and identify any outliers. "
   ]
  },
  {
   "cell_type": "code",
   "execution_count": null,
   "id": "bfbf4da8-db2c-4003-8252-d75257036418",
   "metadata": {},
   "outputs": [],
   "source": [
    "import matplotlib.pyplot as plt\n",
    "import seaborn as sns\n",
    "\n",
    "# Setting up the figure and axes\n",
    "fig, axs = plt.subplots(nrows=2, ncols=2, figsize=(15, 10))\n",
    "fig.suptitle('Distribution of Key Variables', fontsize=16)\n",
    "\n",
    "# Plotting the distributions\n",
    "sns.histplot(df_demo['clnt_age'], kde=True, ax=axs[0, 0]).set_title('Distribution of Client Age')\n",
    "sns.histplot(df_demo['bal'], kde=True, ax=axs[0, 1]).set_title('Distribution of Balance')\n",
    "sns.histplot(df_demo['calls_6_mnth'], kde=True, ax=axs[1, 0]).set_title('Distribution of Calls in 6 Months')\n",
    "sns.histplot(df_demo['logons_6_mnth'], kde=True, ax=axs[1, 1]).set_title('Distribution of Logons in 6 Months')\n",
    "\n",
    "# Adjusting layout\n",
    "plt.tight_layout()\n",
    "plt.subplots_adjust(top=0.90)\n",
    "plt.show()\n"
   ]
  },
  {
   "cell_type": "markdown",
   "id": "d0f1fcaf-a55b-4a8f-b2d7-e10a03baf58c",
   "metadata": {},
   "source": [
    "Given the data available, we can delve deeper into the following aspects:\n",
    "\n",
    "1. **Gender Distribution**: Understand the distribution of genders among the clients.\n",
    "2. **Tenure Distribution**: Investigate the distribution of client tenure in years and months.\n",
    "3. **Relationship Analysis**: Examine the relationship between variables, such as the relationship between balance and client age, or the number of logons and calls in the last 6 months.\n",
    "4. **Breakdown by Variation (Test vs. Control)**: Analyze the data distribution for clients in the Test group vs. the Control group from the `df_experiment_clients` dataframe.\n",
    "5. **Web Data Analysis**: Explore the most common process steps clients go through and their frequency, based on the `df_web_data` dataframe.\n"
   ]
  },
  {
   "cell_type": "markdown",
   "id": "4aef857a-d018-4f86-8e84-4f14eb14f526",
   "metadata": {},
   "source": [
    "\n",
    "### Gender Distribution\n",
    "\n",
    "We'll start by visualizing the distribution of genders among the clients in the `df_demo` dataframe.\n"
   ]
  },
  {
   "cell_type": "code",
   "execution_count": null,
   "id": "6148ff85-16e6-44a2-9540-08e46c54d895",
   "metadata": {},
   "outputs": [],
   "source": [
    "# Gender Distribution\n",
    "gender_counts = df_demo['gendr'].value_counts()\n",
    "\n",
    "# Plotting\n",
    "plt.figure(figsize=(8, 6))\n",
    "sns.barplot(x=gender_counts.index, y=gender_counts.values, palette=\"coolwarm\")\n",
    "plt.title('Gender Distribution', fontsize=15)\n",
    "plt.xlabel('Gender')\n",
    "plt.ylabel('Number of Clients')\n",
    "plt.show()\n"
   ]
  },
  {
   "cell_type": "markdown",
   "id": "794e9085-e046-404f-9d6a-fd47c394cedf",
   "metadata": {},
   "source": [
    "The gender distribution visualization reveals the following:\n",
    "\n",
    "- The majority of clients have an unspecified or unknown gender (denoted as \"U\").\n",
    "- The number of male (M) and female (F) clients seems relatively balanced, with males being slightly more in number."
   ]
  },
  {
   "cell_type": "markdown",
   "id": "4bed8ada-29b4-4424-98fc-58d804923a3f",
   "metadata": {},
   "source": [
    "### Tenure Distribution\n",
    "\n",
    "Next, we'll visualize the distribution of client tenure in years (`clnt_tenure_yr`)."
   ]
  },
  {
   "cell_type": "code",
   "execution_count": null,
   "id": "596e451d-38fe-4652-b2c0-081354896596",
   "metadata": {},
   "outputs": [],
   "source": [
    "# Tenure Distribution in Years\n",
    "plt.figure(figsize=(10, 6))\n",
    "sns.histplot(df_demo['clnt_tenure_yr'], kde=True, bins=30, color=\"skyblue\")\n",
    "plt.title('Distribution of Client Tenure in Years', fontsize=15)\n",
    "plt.xlabel('Tenure (Years)')\n",
    "plt.ylabel('Number of Clients')\n",
    "plt.show()\n"
   ]
  },
  {
   "cell_type": "markdown",
   "id": "dcbcb282-a19b-481b-b7aa-17c14661ca37",
   "metadata": {},
   "source": [
    "The distribution of client tenure in years reveals:\n",
    "\n",
    "- A significant number of clients have a tenure between 2 to 10 years.\n",
    "- The number of clients decreases as tenure increases, with fewer clients having tenures above 30 years."
   ]
  },
  {
   "cell_type": "markdown",
   "id": "7e9f5d71-8d1d-4d56-a5d8-a7bbaebab900",
   "metadata": {},
   "source": [
    "### Relationship Analysis\n",
    "\n",
    "Let's examine the relationship between balance (`bal`) and client age (`clnt_age`) using a scatter plot. This will help us understand if there's any visible correlation between the age of a client and their account balance.\n",
    "\n",
    "We could look for relationships between many more variables but we won't get into that now."
   ]
  },
  {
   "cell_type": "code",
   "execution_count": null,
   "id": "7fbe6341-56da-4532-85af-410e77b872e6",
   "metadata": {},
   "outputs": [],
   "source": [
    "# Scatter plot between balance and client age\n",
    "plt.figure(figsize=(10, 6))\n",
    "sns.scatterplot(x=df_demo['clnt_age'], y=df_demo['bal'], alpha=0.5, edgecolor=None)\n",
    "plt.title('Relationship between Client Age and Balance', fontsize=15)\n",
    "plt.xlabel('Client Age')\n",
    "plt.ylabel('Balance')\n",
    "plt.show()\n"
   ]
  },
  {
   "cell_type": "markdown",
   "id": "3f980a99-013f-4765-8874-2796a5d8db94",
   "metadata": {},
   "source": [
    "From the scatter plot analyzing the relationship between client age and balance:\n",
    "\n",
    "- There doesn't appear to be a strong linear correlation between client age and balance.\n",
    "- Clients across all age groups have varying balances, with many having balances on the lower end.\n",
    "- There are a few clients, regardless of age, with exceptionally high balances, visible as the scattered points on the upper end of the balance axis."
   ]
  },
  {
   "cell_type": "markdown",
   "id": "98aa40bf-83d7-4d61-b066-8a1d6d5668f0",
   "metadata": {},
   "source": [
    "### Breakdown by Variation (Test vs. Control)\n",
    "\n",
    "Let's analyze the data distribution for clients in the Test group versus the Control group from the `df_experiment_clients` dataframe. We'll start by visualizing the distribution of clients in each group.\n"
   ]
  },
  {
   "cell_type": "code",
   "execution_count": null,
   "id": "4fc83798-bbd1-4153-9cf2-a2c330d2b61f",
   "metadata": {},
   "outputs": [],
   "source": [
    "# Merging the experiment dataframe with the demo dataframe to get complete data for each group\n",
    "df_demo_experiment_merged = pd.merge(df_demo, df_experiment_clients, on=\"client_id\", how=\"left\")\n",
    "\n",
    "# Distribution of Test vs Control\n",
    "variation_counts = df_demo_experiment_merged['Variation'].value_counts()\n",
    "\n",
    "# Plotting\n",
    "plt.figure(figsize=(8, 6))\n",
    "sns.barplot(x=variation_counts.index, y=variation_counts.values, palette=\"viridis\")\n",
    "plt.title('Distribution of Clients in Test vs Control Group', fontsize=15)\n",
    "plt.xlabel('Group')\n",
    "plt.ylabel('Number of Clients')\n",
    "plt.show()\n"
   ]
  },
  {
   "cell_type": "markdown",
   "id": "1d9935f8-bd9b-4b5a-bd4b-83dd69960aad",
   "metadata": {},
   "source": [
    "From the visualization of the distribution of clients in the Test vs. Control group:\n",
    "\n",
    "- There's a relatively balanced distribution between clients in the Test group and those in the Control group.\n",
    "- The Test group has slightly more clients than the Control group."
   ]
  },
  {
   "cell_type": "markdown",
   "id": "1a38ba74-80e7-4c55-9d3f-c6bcc38b6ef2",
   "metadata": {},
   "source": [
    "### Web Data Analysis\n",
    "\n",
    "Let's explore the most common process steps clients go through based on the `df_web_data` dataframe. We'll visualize the frequency of each process step.\n",
    "\n"
   ]
  },
  {
   "cell_type": "code",
   "execution_count": null,
   "id": "6adafd20-8532-464f-89c5-7e9e4f6b04e5",
   "metadata": {},
   "outputs": [],
   "source": [
    "# Process step frequency\n",
    "process_step_counts = df_web_data['process_step'].value_counts()\n",
    "\n",
    "# Plotting\n",
    "plt.figure(figsize=(10, 6))\n",
    "sns.barplot(x=process_step_counts.index, y=process_step_counts.values, palette=\"magma\")\n",
    "plt.title('Frequency of Process Steps', fontsize=15)\n",
    "plt.xlabel('Process Step')\n",
    "plt.ylabel('Frequency')\n",
    "plt.xticks(rotation=45)\n",
    "plt.show()\n"
   ]
  },
  {
   "cell_type": "markdown",
   "id": "2cb5a84a-2404-4647-a949-7e63deb890aa",
   "metadata": {},
   "source": [
    "From the visualization of the frequency of process steps:\n",
    "\n",
    "- `start` appears to be the most frequent process step that clients go through.\n",
    "- This is followed by `step_1` and `step_2`, respectively.\n",
    "- The other steps (`step_3` and `confirm`) have lower frequencies."
   ]
  },
  {
   "cell_type": "markdown",
   "id": "a33418c6-d5d5-4436-b98e-3c070c7e66b8",
   "metadata": {},
   "source": [
    "### More EDA"
   ]
  },
  {
   "cell_type": "markdown",
   "id": "d88ec8bd-4b99-407e-93c6-9801e6f2e014",
   "metadata": {},
   "source": [
    "#### Outlier Detection\n",
    "\n",
    "For example, let's visualize potential outliers in the balance column using a box plot."
   ]
  },
  {
   "cell_type": "code",
   "execution_count": null,
   "id": "d474be2f-b138-463f-a9c7-31f2a3416175",
   "metadata": {},
   "outputs": [],
   "source": [
    "sns.boxplot(x=df_demo['bal'])\n",
    "plt.title('Box Plot of Balance')\n",
    "plt.show()\n"
   ]
  },
  {
   "cell_type": "markdown",
   "id": "dc3b6f36-4679-4843-9370-96aa1955bca2",
   "metadata": {},
   "source": [
    "#### Categorical Variable Exploration\n",
    "\n",
    "Investigate the average balance across different genders."
   ]
  },
  {
   "cell_type": "code",
   "execution_count": null,
   "id": "5413b12a-81d0-416c-841b-ddaca903cd3c",
   "metadata": {},
   "outputs": [],
   "source": [
    "sns.barplot(x='gendr', y='bal', data=df_demo)\n",
    "plt.title('Average Balance by Gender')\n",
    "plt.show()\n"
   ]
  },
  {
   "cell_type": "markdown",
   "id": "ef6edc18-3fa6-4838-8cb3-20c64a2926da",
   "metadata": {},
   "source": [
    "#### Time Series Analysis\n",
    "We can analyze trends over time using the date_time column from the df_web_data dataframe. Here's a simple monthly trend of logins:"
   ]
  },
  {
   "cell_type": "code",
   "execution_count": null,
   "id": "3d1eec10-00e6-4cd2-9b7b-a572ff46b670",
   "metadata": {},
   "outputs": [],
   "source": [
    "df_web_data['date_time'] = pd.to_datetime(df_web_data['date_time'])\n",
    "df_web_data.groupby(df_web_data['date_time'].dt.to_period(\"M\")).size().plot()\n",
    "plt.title('Monthly Trend of Logins')\n",
    "plt.show()\n"
   ]
  },
  {
   "cell_type": "markdown",
   "id": "2f1d2f61-7c48-4c46-8ee0-77a7c35012fb",
   "metadata": {},
   "source": [
    "#### Correlation Analysis"
   ]
  },
  {
   "cell_type": "code",
   "execution_count": null,
   "id": "f13d0825-b815-4387-9d80-4181d1f18bdd",
   "metadata": {},
   "outputs": [],
   "source": [
    "correlation_matrix = df_demo.corr()\n",
    "sns.heatmap(correlation_matrix, annot=True, cmap='coolwarm')\n",
    "plt.title('Correlation Matrix')\n",
    "plt.show()\n"
   ]
  },
  {
   "cell_type": "markdown",
   "id": "9c2c729e-5c64-43fb-83bb-98b56851719d",
   "metadata": {},
   "source": [
    "#### Segmentation Analysis\n",
    "\n",
    "Segmenting clients based on age and analyzing their average balance"
   ]
  },
  {
   "cell_type": "code",
   "execution_count": null,
   "id": "98b7eff2-544a-4414-9ed1-451de088788d",
   "metadata": {},
   "outputs": [],
   "source": [
    "bins = [20, 30, 40, 50, 60, 70, 80, 90, 100]\n",
    "labels = ['20-30', '30-40', '40-50', '50-60', '60-70', '70-80', '80-90', '90+']\n",
    "df_demo['age_group'] = pd.cut(df_demo['clnt_age'], bins=bins, labels=labels, right=False)\n",
    "sns.barplot(x='age_group', y='bal', data=df_demo)\n",
    "plt.title('Average Balance by Age Group')\n",
    "plt.show()\n"
   ]
  }
 ],
 "metadata": {
  "kernelspec": {
   "display_name": "Python 3 (ipykernel)",
   "language": "python",
   "name": "python3"
  },
  "language_info": {
   "codemirror_mode": {
    "name": "ipython",
    "version": 3
   },
   "file_extension": ".py",
   "mimetype": "text/x-python",
   "name": "python",
   "nbconvert_exporter": "python",
   "pygments_lexer": "ipython3",
   "version": "3.9.13"
  }
 },
 "nbformat": 4,
 "nbformat_minor": 5
}

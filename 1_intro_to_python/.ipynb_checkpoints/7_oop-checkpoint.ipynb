{
 "cells": [
  {
   "cell_type": "code",
   "execution_count": null,
   "id": "fe586991-7465-4aec-9b6f-2c61fde313ce",
   "metadata": {},
   "outputs": [],
   "source": []
  },
  {
   "cell_type": "markdown",
   "id": "bea606e4-9938-4f4b-95a8-cdf8e7fc1b5c",
   "metadata": {
    "lang": "en"
   },
   "source": [
    "# Object-oriented programming"
   ]
  },
  {
   "cell_type": "markdown",
   "id": "c1acf0cd-71c6-43f5-8531-a2b8f2ffa70a",
   "metadata": {
    "toc": true
   },
   "source": [
    "<h1>Table of Contents<span class=\"tocSkip\"></span></h1>\n",
    "<div class=\"toc\"><ul class=\"toc-item\"><li><span><a href=\"#What-is-OOP---Object-Oriented-Programming?\" data-toc-modified-id=\"What-is-OOP---Object-Oriented-Programming?-1\"><span class=\"toc-item-num\">1&nbsp;&nbsp;</span>What is OOP - Object Oriented Programming?</a></span><ul class=\"toc-item\"><li><span><a href=\"#Fundamental-Principles\" data-toc-modified-id=\"Fundamental-Principles-1.1\"><span class=\"toc-item-num\">1.1&nbsp;&nbsp;</span>Fundamental Principles</a></span></li></ul></li><li><span><a href=\"#Classes-and-instances\" data-toc-modified-id=\"Classes-and-instances-2\"><span class=\"toc-item-num\">2&nbsp;&nbsp;</span>Classes and instances</a></span><ul class=\"toc-item\"><li><ul class=\"toc-item\"><li><span><a href=\"#mini-recap\" data-toc-modified-id=\"mini-recap-2.0.1\"><span class=\"toc-item-num\">2.0.1&nbsp;&nbsp;</span>mini-recap</a></span></li></ul></li></ul></li><li><span><a href=\"#Definition-of-a-class\" data-toc-modified-id=\"Definition-of-a-class-3\"><span class=\"toc-item-num\">3&nbsp;&nbsp;</span>Definition of a class</a></span><ul class=\"toc-item\"><li><span><a href=\"#Self:\" data-toc-modified-id=\"Self:-3.1\"><span class=\"toc-item-num\">3.1&nbsp;&nbsp;</span>Self:</a></span><ul class=\"toc-item\"><li><span><a href=\"#Defining-a-function\" data-toc-modified-id=\"Defining-a-function-3.1.1\"><span class=\"toc-item-num\">3.1.1&nbsp;&nbsp;</span>Defining a function</a></span></li><li><span><a href=\"#Calling-a-function\" data-toc-modified-id=\"Calling-a-function-3.1.2\"><span class=\"toc-item-num\">3.1.2&nbsp;&nbsp;</span>Calling a function</a></span></li><li><span><a href=\"#Defining-a-class\" data-toc-modified-id=\"Defining-a-class-3.1.3\"><span class=\"toc-item-num\">3.1.3&nbsp;&nbsp;</span>Defining a class</a></span></li><li><span><a href=\"#Instansiating-a-class\" data-toc-modified-id=\"Instansiating-a-class-3.1.4\"><span class=\"toc-item-num\">3.1.4&nbsp;&nbsp;</span>Instansiating a class</a></span></li></ul></li><li><span><a href=\"#Exploring-a-class\" data-toc-modified-id=\"Exploring-a-class-3.2\"><span class=\"toc-item-num\">3.2&nbsp;&nbsp;</span>Exploring a class</a></span></li><li><span><a href=\"#Instance-Attributes\" data-toc-modified-id=\"Instance-Attributes-3.3\"><span class=\"toc-item-num\">3.3&nbsp;&nbsp;</span>Instance Attributes</a></span><ul class=\"toc-item\"><li><span><a href=\"#Default-attributes\" data-toc-modified-id=\"Default-attributes-3.3.1\"><span class=\"toc-item-num\">3.3.1&nbsp;&nbsp;</span>Default attributes</a></span></li></ul></li><li><span><a href=\"#Instance-Methods\" data-toc-modified-id=\"Instance-Methods-3.4\"><span class=\"toc-item-num\">3.4&nbsp;&nbsp;</span>Instance Methods</a></span><ul class=\"toc-item\"><li><span><a href=\"#Python-is-built-with-objects\" data-toc-modified-id=\"Python-is-built-with-objects-3.4.1\"><span class=\"toc-item-num\">3.4.1&nbsp;&nbsp;</span>Python is built with objects</a></span></li></ul></li><li><span><a href=\"#Class-variables\" data-toc-modified-id=\"Class-variables-3.5\"><span class=\"toc-item-num\">3.5&nbsp;&nbsp;</span>Class variables</a></span></li></ul></li><li><span><a href=\"#Before-continuing,-let's-take-a-breath-and-review-vocabulary\" data-toc-modified-id=\"Before-continuing,-let's-take-a-breath-and-review-vocabulary-4\"><span class=\"toc-item-num\">4&nbsp;&nbsp;</span>Before continuing, let's take a breath and review vocabulary</a></span><ul class=\"toc-item\"><li><ul class=\"toc-item\"><li><span><a href=\"#Easy-exercise\" data-toc-modified-id=\"Easy-exercise-4.0.1\"><span class=\"toc-item-num\">4.0.1&nbsp;&nbsp;</span>Easy exercise</a></span></li></ul></li></ul></li><li><span><a href=\"#Inheritance\" data-toc-modified-id=\"Inheritance-5\"><span class=\"toc-item-num\">5&nbsp;&nbsp;</span>Inheritance</a></span><ul class=\"toc-item\"><li><span><a href=\"#super()\" data-toc-modified-id=\"super()-5.1\"><span class=\"toc-item-num\">5.1&nbsp;&nbsp;</span>super()</a></span></li></ul></li><li><span><a href=\"#Summary\" data-toc-modified-id=\"Summary-6\"><span class=\"toc-item-num\">6&nbsp;&nbsp;</span>Summary</a></span></li><li><span><a href=\"#Furthermaterials\" data-toc-modified-id=\"Furthermaterials-7\"><span class=\"toc-item-num\">7&nbsp;&nbsp;</span>Furthermaterials</a></span><ul class=\"toc-item\"><li><span><a href=\"#Methods-ADVANCED-@classmethod@staticmethod\" data-toc-modified-id=\"Methods-ADVANCED-@classmethod@staticmethod-7.1\"><span class=\"toc-item-num\">7.1&nbsp;&nbsp;</span>Methods <strong>ADVANCED</strong> @classmethod@staticmethod</a></span></li></ul></li></ul></div>"
   ]
  },
  {
   "cell_type": "markdown",
   "id": "b8caf3a7-1e81-4aee-afe9-91e54af53bad",
   "metadata": {
    "lang": "en"
   },
   "source": [
    "## What is OOP - Object Oriented Programming?"
   ]
  },
  {
   "cell_type": "markdown",
   "id": "2e7fd27f-eb6f-429a-902b-7be6cdb576f4",
   "metadata": {
    "lang": "en"
   },
   "source": [
    "Object-oriented programming is a programming paradigm, that is, a programming style and technique, which goes beyond the implementation itself. This paradigm is based on the \"object\" concept, which can contain both data, in the form of fields called \"attributes\", and code for its manipulation in the form of procedures and functions, called \"methods\". Thanks to this, we can group everything under a single data type (the object \"class\"), which facilitates the modularity and reusability of the code.\n",
    "This has a strong implication in the design of IT solutions; Software engineering methodologies are based on object-oriented programming."
   ]
  },
  {
   "cell_type": "markdown",
   "id": "ee422664-e485-47b5-819b-08ecf37730f7",
   "metadata": {
    "lang": "en"
   },
   "source": [
    "You can imagine objects as a new data type whose definition is given in a structure called class.\n",
    "Classes are often compared to cookie cutters and objects to the cookies themselves. While all cookies made from the same pan have the same shape, each one takes on individual attributes after baking. Things like color, texture, flavor... can be very different.\n",
    "In other words, the cookies share a manufacturing process and some attributes, but they are independent of each other and of the mold itself, and that makes each one unique.\n",
    "Extrapolating from the example, a class is just a script about how the objects that will be created with it should be."
   ]
  },
  {
   "cell_type": "markdown",
   "id": "bf4f84a5-a095-44d5-b742-d5a5f6f807ef",
   "metadata": {},
   "source": [
    "![clases](https://files.realpython.com/media/Object-Oriented-Programming-OOP-in-Python-3_Watermarked.0d29780806d5.jpg)"
   ]
  },
  {
   "cell_type": "markdown",
   "id": "6b18f47b-80de-44e3-9072-3f493ca160e7",
   "metadata": {
    "lang": "en"
   },
   "source": [
    "### Fundamental Principles"
   ]
  },
  {
   "cell_type": "markdown",
   "id": "204e2f5e-a65e-4cab-b7c5-757d521f0296",
   "metadata": {
    "lang": "en"
   },
   "source": [
    "1 - **Data abstraction**: Something we do naturally in our understanding of the world is the abstraction of concrete information in concepts or classes. For example, the concept of \"car\" evokes in us an idea of ​​a vehicle with four wheels, a steering wheel, an engine... Our car is a specific \"instance\" of that concept, and different from other cars, but we are capable of associating certain properties or characteristics to said concept above specific details. This ability to abstract a concept is essential for the development of human language and, of course, such a good idea has been transferred to the world of programming. In OOP, we call the abstract concept \"class\" and the realization of that concept \"object\". Your car is concrete, you can drive it, it is an object, an \"instance\" of the class \"car\".\n",
    "   \n",
    "   2 - **Encapsulation**: Each type of object contains its own information and can be manipulated in a particular way. A car can be driven and has a certain pressure in the wheels, a color, a certain level of gasoline, etc. With a GPS we can obtain our position coordinates and the batteries will have a certain charge. A dog barks, has a weight, an age. All those attributes and \"methods\" are \"encapsulated\" within the object, and are accessible only through a given object. The advantage is that we don't need to have, for example, a list with names, another with ages, another with weights... but rather a list of objects and each one contains, that is, encapsulates, its own information.\n",
    "   \n",
    "   3 - **Inheritance**: Some classes can specialize others. For this, the specialized class \"inherits\" the properties of the more general class, called the \"superclass\". For example, the \"Car\" and \"Truck\" classes can inherit from the \"Vehicle\" class. This is a way of reusing code, by being able to assume those common properties between several classes in a superior class. Python supports \"multiple inheritance\", so a class can be defined as a subclass of several classes from which it would inherit all its properties (attributes and methods) at once.\n",
    "   \n",
    "   4 - **Polymorphism**: A square can be drawn, a circle as well, just as any other shape can be drawn. \"Square\" and \"Circle\" would be subclasses of \"Shape\". The \"Shape\" superclass implements a draw() method, and both the \"Square\" subclass and the \"Circle\" subclass override this method to their particular case. So a function could accept an object of type \"Shape\" as a parameter and call the draw() method without knowing if the passed argument is a circle or a square. Each object knows its level of specialization and the concrete implementation of its methods. This ability to use superclass methods in code but resolve to subclass methods at run time is called \"Polymorphism\": the same variable can take different forms."
   ]
  },
  {
   "cell_type": "markdown",
   "id": "0e005c43-b7fe-4ef9-a492-b7d4401c2fff",
   "metadata": {
    "lang": "en"
   },
   "source": [
    "## Classes and instances"
   ]
  },
  {
   "cell_type": "markdown",
   "id": "734a9d46-66e3-4ec7-880b-9cca1c89eb23",
   "metadata": {
    "lang": "en"
   },
   "source": [
    "A class is like an abstract type for objects that, in addition to storing values ​​called attributes, has associated a series of functions that we call methods. An instance of a class is the same as saying an object of that class. Instantiating a class refers to creating an object that belongs to that class.\n",
    "In Python, data types are classes, and any literal or variable of one of these types is an object that instantiates the type's class. For example: a = 2222 is equivalent to instantiating the PyLongObject class by assigning an internal attribute the value 2222. This is what happens at a low level, but we can consider that the variable a is of type int. We can know the type of any variable, that is, the class it instantiates, with the type() function, and the identifier of the instantiated object with the id() function."
   ]
  },
  {
   "cell_type": "code",
   "execution_count": null,
   "id": "bf855996-64f8-4130-a6dc-2210ae4c9d04",
   "metadata": {},
   "outputs": [],
   "source": [
    "# class car\n",
    "    # instance = fiat punto, red, 2000"
   ]
  },
  {
   "cell_type": "code",
   "execution_count": 12,
   "id": "bcb483b9-6f20-4956-a707-75bbb58cce85",
   "metadata": {},
   "outputs": [],
   "source": [
    "a = 33 #instance"
   ]
  },
  {
   "cell_type": "code",
   "execution_count": 13,
   "id": "fd147287-5f70-4ddc-afdf-c9f868ec52e5",
   "metadata": {},
   "outputs": [
    {
     "data": {
      "text/plain": [
       "int"
      ]
     },
     "execution_count": 13,
     "metadata": {},
     "output_type": "execute_result"
    }
   ],
   "source": [
    "type(a)"
   ]
  },
  {
   "cell_type": "code",
   "execution_count": null,
   "id": "3cd8cd08-ab65-4cf3-95e4-cf79f79c347f",
   "metadata": {},
   "outputs": [],
   "source": [
    "# class number /int -> int\n",
    "    # instances / examples / specific things -> "
   ]
  },
  {
   "cell_type": "code",
   "execution_count": 14,
   "id": "ac74798f-f39c-409d-9372-4b1609491c87",
   "metadata": {},
   "outputs": [],
   "source": [
    "random_sentence = \"any sentence\""
   ]
  },
  {
   "cell_type": "code",
   "execution_count": 15,
   "id": "422730ba-241f-413d-ab9a-21703d1b5266",
   "metadata": {},
   "outputs": [
    {
     "data": {
      "text/plain": [
       "str"
      ]
     },
     "execution_count": 15,
     "metadata": {},
     "output_type": "execute_result"
    }
   ],
   "source": [
    "type(random_sentence)"
   ]
  },
  {
   "cell_type": "code",
   "execution_count": null,
   "id": "89442b33-55b7-4644-8db0-218679cd85a1",
   "metadata": {},
   "outputs": [],
   "source": [
    "#random_sentence iis an instance of the class string"
   ]
  },
  {
   "cell_type": "markdown",
   "id": "5eced0f5-20ec-4982-b6f9-e31fe918b017",
   "metadata": {
    "lang": "en"
   },
   "source": [
    "To know all the methods and attributes of a class we can use the dir() function both on an object and on the class."
   ]
  },
  {
   "cell_type": "code",
   "execution_count": 16,
   "id": "a4e83707-5aee-4456-846c-fa2ea17dab98",
   "metadata": {
    "scrolled": true
   },
   "outputs": [
    {
     "data": {
      "text/plain": [
       "'ANY SENTENCE'"
      ]
     },
     "execution_count": 16,
     "metadata": {},
     "output_type": "execute_result"
    }
   ],
   "source": [
    "random_sentence.upper()"
   ]
  },
  {
   "cell_type": "code",
   "execution_count": null,
   "id": "d494b98f-ca08-4ce2-8063-322dab90eef4",
   "metadata": {},
   "outputs": [],
   "source": [
    "car.drive_forward() # updating the location of the car"
   ]
  },
  {
   "cell_type": "code",
   "execution_count": 17,
   "id": "6c23cc6e-32cc-4840-8541-66bfd8f8f8bd",
   "metadata": {
    "scrolled": true
   },
   "outputs": [
    {
     "data": {
      "text/plain": [
       "['__add__',\n",
       " '__class__',\n",
       " '__contains__',\n",
       " '__delattr__',\n",
       " '__dir__',\n",
       " '__doc__',\n",
       " '__eq__',\n",
       " '__format__',\n",
       " '__ge__',\n",
       " '__getattribute__',\n",
       " '__getitem__',\n",
       " '__getnewargs__',\n",
       " '__gt__',\n",
       " '__hash__',\n",
       " '__init__',\n",
       " '__init_subclass__',\n",
       " '__iter__',\n",
       " '__le__',\n",
       " '__len__',\n",
       " '__lt__',\n",
       " '__mod__',\n",
       " '__mul__',\n",
       " '__ne__',\n",
       " '__new__',\n",
       " '__reduce__',\n",
       " '__reduce_ex__',\n",
       " '__repr__',\n",
       " '__rmod__',\n",
       " '__rmul__',\n",
       " '__setattr__',\n",
       " '__sizeof__',\n",
       " '__str__',\n",
       " '__subclasshook__',\n",
       " 'capitalize',\n",
       " 'casefold',\n",
       " 'center',\n",
       " 'count',\n",
       " 'encode',\n",
       " 'endswith',\n",
       " 'expandtabs',\n",
       " 'find',\n",
       " 'format',\n",
       " 'format_map',\n",
       " 'index',\n",
       " 'isalnum',\n",
       " 'isalpha',\n",
       " 'isascii',\n",
       " 'isdecimal',\n",
       " 'isdigit',\n",
       " 'isidentifier',\n",
       " 'islower',\n",
       " 'isnumeric',\n",
       " 'isprintable',\n",
       " 'isspace',\n",
       " 'istitle',\n",
       " 'isupper',\n",
       " 'join',\n",
       " 'ljust',\n",
       " 'lower',\n",
       " 'lstrip',\n",
       " 'maketrans',\n",
       " 'partition',\n",
       " 'replace',\n",
       " 'rfind',\n",
       " 'rindex',\n",
       " 'rjust',\n",
       " 'rpartition',\n",
       " 'rsplit',\n",
       " 'rstrip',\n",
       " 'split',\n",
       " 'splitlines',\n",
       " 'startswith',\n",
       " 'strip',\n",
       " 'swapcase',\n",
       " 'title',\n",
       " 'translate',\n",
       " 'upper',\n",
       " 'zfill']"
      ]
     },
     "execution_count": 17,
     "metadata": {},
     "output_type": "execute_result"
    }
   ],
   "source": [
    "dir(str) # double under score -> internal python thingies"
   ]
  },
  {
   "cell_type": "code",
   "execution_count": 20,
   "id": "3d94ec86-576b-438f-b5f3-e0eb30d4a231",
   "metadata": {},
   "outputs": [
    {
     "data": {
      "text/plain": [
       "['capitalize',\n",
       " 'casefold',\n",
       " 'center',\n",
       " 'count',\n",
       " 'encode',\n",
       " 'endswith',\n",
       " 'expandtabs',\n",
       " 'find',\n",
       " 'format',\n",
       " 'index',\n",
       " 'isalnum',\n",
       " 'isalpha',\n",
       " 'isascii',\n",
       " 'isdecimal',\n",
       " 'isdigit',\n",
       " 'isidentifier',\n",
       " 'islower',\n",
       " 'isnumeric',\n",
       " 'isprintable',\n",
       " 'isspace',\n",
       " 'istitle',\n",
       " 'isupper',\n",
       " 'join',\n",
       " 'ljust',\n",
       " 'lower',\n",
       " 'lstrip',\n",
       " 'maketrans',\n",
       " 'partition',\n",
       " 'replace',\n",
       " 'rfind',\n",
       " 'rindex',\n",
       " 'rjust',\n",
       " 'rpartition',\n",
       " 'rsplit',\n",
       " 'rstrip',\n",
       " 'split',\n",
       " 'splitlines',\n",
       " 'startswith',\n",
       " 'strip',\n",
       " 'swapcase',\n",
       " 'title',\n",
       " 'translate',\n",
       " 'upper',\n",
       " 'zfill']"
      ]
     },
     "execution_count": 20,
     "metadata": {},
     "output_type": "execute_result"
    }
   ],
   "source": [
    "#random_string\n",
    "[element for element in dir(random_sentence) if \"_\" not in element]"
   ]
  },
  {
   "cell_type": "code",
   "execution_count": 22,
   "id": "b5e6c786-03c1-4414-9348-14fe369cc245",
   "metadata": {},
   "outputs": [],
   "source": [
    "one_string = \"Hello\"\n",
    "second_string = \", how are you?\""
   ]
  },
  {
   "cell_type": "markdown",
   "id": "5aaaed9f-5507-4c10-87a7-e5ebd3bb7211",
   "metadata": {},
   "source": [
    "You don't need to master this, just know what the `.__something__` means. It's a dunder/magic methods. Meant for Python internally"
   ]
  },
  {
   "cell_type": "code",
   "execution_count": 24,
   "id": "9af8f5d5-f196-4cd9-af49-23880259a98b",
   "metadata": {},
   "outputs": [
    {
     "data": {
      "text/plain": [
       "'Hello, how are you?'"
      ]
     },
     "execution_count": 24,
     "metadata": {},
     "output_type": "execute_result"
    }
   ],
   "source": [
    "one_string + second_string # I can add them\n",
    "# because it is a methid / function of the class Str\n",
    "# so I can add two strings"
   ]
  },
  {
   "cell_type": "code",
   "execution_count": 27,
   "id": "ca3cfd38-952a-461d-babd-a44399f3452b",
   "metadata": {},
   "outputs": [
    {
     "ename": "TypeError",
     "evalue": "can only concatenate str (not \"int\") to str",
     "output_type": "error",
     "traceback": [
      "\u001b[0;31m---------------------------------------------------------------------------\u001b[0m",
      "\u001b[0;31mTypeError\u001b[0m                                 Traceback (most recent call last)",
      "Input \u001b[0;32mIn [27]\u001b[0m, in \u001b[0;36m<cell line: 1>\u001b[0;34m()\u001b[0m\n\u001b[0;32m----> 1\u001b[0m \u001b[43mone_string\u001b[49m\u001b[43m \u001b[49m\u001b[38;5;241;43m+\u001b[39;49m\u001b[43m \u001b[49m\u001b[38;5;241;43m1\u001b[39;49m\n",
      "\u001b[0;31mTypeError\u001b[0m: can only concatenate str (not \"int\") to str"
     ]
    }
   ],
   "source": [
    "one_string + 1"
   ]
  },
  {
   "cell_type": "code",
   "execution_count": 31,
   "id": "93a6a540-5bc6-4522-bfe6-40253d8b640c",
   "metadata": {},
   "outputs": [
    {
     "data": {
      "text/plain": [
       "'Hello, how are you?'"
      ]
     },
     "execution_count": 31,
     "metadata": {},
     "output_type": "execute_result"
    }
   ],
   "source": [
    "# one_string + second_string -> running this line\n",
    "# this thing happens\n",
    "one_string.__add__(second_string)"
   ]
  },
  {
   "cell_type": "code",
   "execution_count": null,
   "id": "49880f3f-66f1-4dc1-b5df-0defc8114a25",
   "metadata": {},
   "outputs": [],
   "source": [
    "# You can ignore the __, but just know that they do things\n",
    "# that you use"
   ]
  },
  {
   "cell_type": "markdown",
   "id": "90317216-679b-406a-a8d9-628f48130355",
   "metadata": {},
   "source": [
    "#### mini-recap\n",
    "\n",
    "- classes: general concepts, ideas\n",
    "    - from which you can create: instances / objects\n",
    "   \n",
    "- classes: structure, template on which you create the instances\n",
    "    - class car -> fiat punto\n",
    "    \n",
    "- classes have functions / methods that do thingsa\n",
    "    - a string can be added (just like a car can go forward)\n",
    "    - we can check what an obejct can do using dir(object)\n",
    "    \n",
    "- classes or objects/instances \n",
    "    - information -> properties / attributes / variables. Eg.: wheel = 4\n",
    "    - instructions -> does things E.g.: moving forward\n",
    "    \n",
    "- str:\n",
    "    - attributes: len(str)\n",
    "    - instructions / methods / functions -> str.upper()\n",
    "                                            car.move_forward()"
   ]
  },
  {
   "cell_type": "markdown",
   "id": "627b38d8-af2c-4622-969e-8ec5a36b7a07",
   "metadata": {
    "lang": "en"
   },
   "source": [
    "## Definition of a class"
   ]
  },
  {
   "cell_type": "markdown",
   "id": "e008c4c0-f8c6-4272-a08f-04b3b5c8c00e",
   "metadata": {
    "lang": "en"
   },
   "source": [
    "We can define our own classes and indicate whether they inherit from others, what their internal attributes are, and what their methods are. Once the class is defined, it is possible to create objects from it. To create a class, simply group attributes and methods in the body of a **class** block.\n",
    "Imagine that you create software to manage a school, and you want to represent \"teachers\" in your Python code. Teachers will have some associated data (`attributes` in `class` jargon), and they will be able to *perform actions* through functions that we will call `methods` (again, `class` jargon).\n",
    "\n",
    "We could do it one by one:"
   ]
  },
  {
   "cell_type": "code",
   "execution_count": 33,
   "id": "cd104917-8fec-4a23-b653-85e7a03274b1",
   "metadata": {},
   "outputs": [],
   "source": [
    "albert = {\n",
    "    \"name\": \"albert\",\n",
    "    \"fname\": \"coca\",\n",
    "    \"time_off\": 30,\n",
    "    \"greeting\": lambda : print(\"Hello guys!\"),\n",
    "    \"hobbies\": [\"surfing\", \"climbing\", \"reading\"]\n",
    "}"
   ]
  },
  {
   "cell_type": "code",
   "execution_count": null,
   "id": "e5876e74-0200-4a1c-8626-1e07343f1303",
   "metadata": {},
   "outputs": [],
   "source": [
    "# str -> upper()\n",
    "# car -> forward()\n",
    "\n",
    "# greeting -> print(\"Hello!\")"
   ]
  },
  {
   "cell_type": "code",
   "execution_count": 35,
   "id": "fff2af8c-a6ac-4601-bc0b-834074676565",
   "metadata": {},
   "outputs": [
    {
     "name": "stdout",
     "output_type": "stream",
     "text": [
      "\n"
     ]
    }
   ],
   "source": [
    "print(\"\") # built-in python function\n",
    "# it does things\n",
    "# it takes an argument"
   ]
  },
  {
   "cell_type": "code",
   "execution_count": 39,
   "id": "09e6d73c-305b-4a28-8544-632fe25381f5",
   "metadata": {},
   "outputs": [],
   "source": [
    "names = [\"laura\"]\n",
    "fname = [\"molas\"]\n",
    "time_off = []"
   ]
  },
  {
   "cell_type": "code",
   "execution_count": 40,
   "id": "a7eee91d-21b0-4a12-a85f-71d33de5ced5",
   "metadata": {},
   "outputs": [],
   "source": [
    "laura = {\n",
    "    \"name\": \"laura\",\n",
    "    \"fname\": \"molas\",\n",
    "    \"time_off\": 20,\n",
    "    \"greeting\": lambda : print(\"Hey everyone!\"),\n",
    "    \"hobbies\": [\"surfing\", \"skating\", \"reading\"]\n",
    "}"
   ]
  },
  {
   "cell_type": "code",
   "execution_count": 41,
   "id": "01450141-a5a2-400f-8229-c49ce54611cd",
   "metadata": {},
   "outputs": [
    {
     "data": {
      "text/plain": [
       "'molas'"
      ]
     },
     "execution_count": 41,
     "metadata": {},
     "output_type": "execute_result"
    }
   ],
   "source": [
    "laura[\"fname\"] # more comfortable than many lists"
   ]
  },
  {
   "cell_type": "code",
   "execution_count": 43,
   "id": "3891fe01-0489-4c83-81be-8ff72e90467b",
   "metadata": {},
   "outputs": [
    {
     "data": {
      "text/plain": [
       "'molas'"
      ]
     },
     "execution_count": 43,
     "metadata": {},
     "output_type": "execute_result"
    }
   ],
   "source": [
    "lfname = fname[0]\n",
    "lfname"
   ]
  },
  {
   "cell_type": "code",
   "execution_count": null,
   "id": "b3b6f764-f1c1-46b1-b733-9ff04f989888",
   "metadata": {},
   "outputs": [],
   "source": [
    "thiago = {\n",
    "    \"name\": \"thiago\",\n",
    "    \"fname\": \"molas\",\n",
    "    \"time_off\": 20,\n",
    "    \"greeting\": lambda : print(\"Hey everyone!\"),\n",
    "    \"hobbies\": [\"surfing\", \"skating\", \"reading\"]\n",
    "}"
   ]
  },
  {
   "cell_type": "code",
   "execution_count": null,
   "id": "4498c5dc-9efe-450a-bd18-2555fe27cc10",
   "metadata": {},
   "outputs": [],
   "source": [
    "# class Car\n",
    "    # wheels\n",
    "    # move directions"
   ]
  },
  {
   "cell_type": "code",
   "execution_count": null,
   "id": "1f58a28c-7d1f-47c1-bb7a-a92b40bc6393",
   "metadata": {},
   "outputs": [],
   "source": [
    "# ffiat punto -> wheels & move directions\n",
    "# mercedes -> wheels & move directions"
   ]
  },
  {
   "cell_type": "code",
   "execution_count": 53,
   "id": "482d282e-3ad9-4a91-8e41-1d3b312a3400",
   "metadata": {},
   "outputs": [],
   "source": [
    "def operations (a, b):\n",
    "    c = a + b\n",
    "    d = c / 2\n",
    "    return d"
   ]
  },
  {
   "cell_type": "code",
   "execution_count": 54,
   "id": "d05e42eb-b0b8-41fa-a3cf-233bb00909bc",
   "metadata": {},
   "outputs": [
    {
     "data": {
      "text/plain": [
       "3.5"
      ]
     },
     "execution_count": 54,
     "metadata": {},
     "output_type": "execute_result"
    }
   ],
   "source": [
    "operations (3, 4)"
   ]
  },
  {
   "cell_type": "code",
   "execution_count": 57,
   "id": "45c85724-c184-4b18-b702-04db70fc4c24",
   "metadata": {},
   "outputs": [],
   "source": [
    "a = 0\n",
    "b = 10"
   ]
  },
  {
   "cell_type": "code",
   "execution_count": 58,
   "id": "d39d1247-377a-4746-8d88-fbe75b63049c",
   "metadata": {},
   "outputs": [
    {
     "name": "stdout",
     "output_type": "stream",
     "text": [
      "5.0\n"
     ]
    }
   ],
   "source": [
    "c = a + b\n",
    "d = c / 2\n",
    "print(d)"
   ]
  },
  {
   "cell_type": "code",
   "execution_count": 59,
   "id": "220e61dd-d890-4c76-aa3a-66df1b1ff235",
   "metadata": {},
   "outputs": [],
   "source": [
    "# Encapsulation of code\n",
    "    # for classes\n",
    "    # also for functions\n",
    "# sanity & good practices"
   ]
  },
  {
   "cell_type": "markdown",
   "id": "48622436-403c-4a7e-ae06-5c0320747b9c",
   "metadata": {},
   "source": [
    "### Self: "
   ]
  },
  {
   "cell_type": "code",
   "execution_count": null,
   "id": "a11d1c9e-c8bd-4cdd-87a1-9743ba280e5d",
   "metadata": {},
   "outputs": [],
   "source": []
  },
  {
   "cell_type": "markdown",
   "id": "debc380b-75e4-45a1-9628-5bf785315519",
   "metadata": {
    "lang": "en"
   },
   "source": [
    "I leave you [here](https://realpython.com/python-pep8/#naming-styles) a realpython article about the conventions for naming things (by things I mean variables, classes, functions... code tidbits )\n",
    "The Python user community has adopted a style guide that makes code easier to read and consistent between different user programs. This guide is not mandatory to follow, but it is highly recommended."
   ]
  },
  {
   "cell_type": "markdown",
   "id": "d05cc3d7-c4c9-4eb2-8d0a-0d8177cf2cbc",
   "metadata": {},
   "source": [
    "#### Defining a function"
   ]
  },
  {
   "cell_type": "code",
   "execution_count": 60,
   "id": "b25598f2-49aa-4c02-8dff-a9b8b888fc4b",
   "metadata": {},
   "outputs": [],
   "source": [
    "def name_surname (name_):\n",
    "    return f\"Hello this is my {name_}\""
   ]
  },
  {
   "cell_type": "markdown",
   "id": "1e597fec-eba0-4cfb-b5f0-bdcab260444c",
   "metadata": {},
   "source": [
    "#### Calling a function"
   ]
  },
  {
   "cell_type": "code",
   "execution_count": 61,
   "id": "def2fff6-4d5b-4091-a77f-e55fa84a75bb",
   "metadata": {},
   "outputs": [
    {
     "data": {
      "text/plain": [
       "'Hello this is my Sam'"
      ]
     },
     "execution_count": 61,
     "metadata": {},
     "output_type": "execute_result"
    }
   ],
   "source": [
    "name(\"Sam\")"
   ]
  },
  {
   "cell_type": "markdown",
   "id": "73b91b38-5a6c-4964-a13c-eedbdc225f01",
   "metadata": {},
   "source": [
    "#### Defining a class"
   ]
  },
  {
   "cell_type": "code",
   "execution_count": 63,
   "id": "c09fbefa-277a-41ed-9906-069877736ec2",
   "metadata": {},
   "outputs": [],
   "source": [
    "class Staff ():\n",
    "    pass"
   ]
  },
  {
   "cell_type": "markdown",
   "id": "150ed7a0-aa0d-4264-824b-85f4ec03c406",
   "metadata": {},
   "source": [
    "#### Instansiating a class"
   ]
  },
  {
   "cell_type": "code",
   "execution_count": 64,
   "id": "6b1334dd-974a-4ebe-9608-4cd4d5b040fb",
   "metadata": {},
   "outputs": [],
   "source": [
    "# creating an object from a class\n",
    "    # making a fiat out of the class Car()"
   ]
  },
  {
   "cell_type": "code",
   "execution_count": 65,
   "id": "8e62a0d2-c00c-44b1-9d44-99d748f2bef5",
   "metadata": {},
   "outputs": [],
   "source": [
    "laura = Staff()"
   ]
  },
  {
   "cell_type": "markdown",
   "id": "53f55608-cac9-4cd5-be1d-cf8693f2dc21",
   "metadata": {},
   "source": [
    "### Exploring a class"
   ]
  },
  {
   "cell_type": "code",
   "execution_count": 66,
   "id": "d49d7b91-8ee7-4fb5-ac4b-57cf641bb965",
   "metadata": {},
   "outputs": [
    {
     "data": {
      "text/plain": [
       "__main__.Staff"
      ]
     },
     "execution_count": 66,
     "metadata": {},
     "output_type": "execute_result"
    }
   ],
   "source": [
    "type(laura)"
   ]
  },
  {
   "cell_type": "code",
   "execution_count": 67,
   "id": "17ab4191-f8c6-4bf1-8f84-673df41f73b4",
   "metadata": {},
   "outputs": [
    {
     "data": {
      "text/plain": [
       "True"
      ]
     },
     "execution_count": 67,
     "metadata": {},
     "output_type": "execute_result"
    }
   ],
   "source": [
    "isinstance(laura, Staff)"
   ]
  },
  {
   "cell_type": "code",
   "execution_count": 69,
   "id": "63bea76e-f3d6-4b47-be70-28b24bb109d9",
   "metadata": {},
   "outputs": [],
   "source": [
    "clara = {}"
   ]
  },
  {
   "cell_type": "code",
   "execution_count": 70,
   "id": "e7f5c52c-2e64-4de0-9546-e057e27a15be",
   "metadata": {},
   "outputs": [
    {
     "data": {
      "text/plain": [
       "False"
      ]
     },
     "execution_count": 70,
     "metadata": {},
     "output_type": "execute_result"
    }
   ],
   "source": [
    "isinstance(clara, Staff)"
   ]
  },
  {
   "cell_type": "code",
   "execution_count": 71,
   "id": "fd6e8fb5-0455-480a-8b54-b86a0643fa90",
   "metadata": {},
   "outputs": [],
   "source": [
    "laura = Staff()\n",
    "albert = Staff()\n",
    "clara = Staff()"
   ]
  },
  {
   "cell_type": "code",
   "execution_count": 73,
   "id": "2f326c4c-ea2e-457b-bea3-b077d3b38784",
   "metadata": {},
   "outputs": [
    {
     "data": {
      "text/plain": [
       "[]"
      ]
     },
     "execution_count": 73,
     "metadata": {},
     "output_type": "execute_result"
    }
   ],
   "source": [
    "[element for element in dir(albert) if \"_\" not in element]"
   ]
  },
  {
   "cell_type": "markdown",
   "id": "2e4834c4-bee1-438b-ad86-97274d94e9d8",
   "metadata": {},
   "source": [
    "### Instance Attributes\n",
    "They contain data that is unique to each instance."
   ]
  },
  {
   "cell_type": "code",
   "execution_count": 74,
   "id": "ab9649b4-9ef3-4f7f-9ff4-405b302d728a",
   "metadata": {},
   "outputs": [],
   "source": [
    "laura.age = 30"
   ]
  },
  {
   "cell_type": "code",
   "execution_count": 76,
   "id": "889d41be-bcef-4b3f-b554-428cec3a3eed",
   "metadata": {},
   "outputs": [],
   "source": [
    "laura.fname = \"molas\""
   ]
  },
  {
   "cell_type": "code",
   "execution_count": 77,
   "id": "2a80946f-3b77-441f-aafe-f21d2d04f188",
   "metadata": {},
   "outputs": [
    {
     "data": {
      "text/plain": [
       "{'age': 30, 'fname': 'molas'}"
      ]
     },
     "execution_count": 77,
     "metadata": {},
     "output_type": "execute_result"
    }
   ],
   "source": [
    "laura.__dict__"
   ]
  },
  {
   "cell_type": "code",
   "execution_count": 78,
   "id": "c719947f-e8d8-4d52-ad37-0a446828caa1",
   "metadata": {},
   "outputs": [],
   "source": [
    "# age & name -> attributes"
   ]
  },
  {
   "cell_type": "code",
   "execution_count": 79,
   "id": "39c9a4f5-07be-4295-8e02-8f90478a3af1",
   "metadata": {},
   "outputs": [],
   "source": [
    "class Cookie ():\n",
    "    pass"
   ]
  },
  {
   "cell_type": "code",
   "execution_count": 80,
   "id": "55f68958-c78b-4885-bdbb-988ecf79dc5c",
   "metadata": {},
   "outputs": [],
   "source": [
    "chocolate_cookie = Cookie ()"
   ]
  },
  {
   "cell_type": "code",
   "execution_count": 81,
   "id": "1c8588ae-5c34-42d4-87a9-57633c163702",
   "metadata": {},
   "outputs": [],
   "source": [
    "chocolate_cookie.chocolate_chips = 10"
   ]
  },
  {
   "cell_type": "code",
   "execution_count": 82,
   "id": "b8ff33ad-b39e-4520-9ff2-41d304339f47",
   "metadata": {},
   "outputs": [
    {
     "data": {
      "text/plain": [
       "{'chocolate_chips': 10}"
      ]
     },
     "execution_count": 82,
     "metadata": {},
     "output_type": "execute_result"
    }
   ],
   "source": [
    "chocolate_cookie.__dict__"
   ]
  },
  {
   "cell_type": "code",
   "execution_count": 83,
   "id": "df67fe25-85c2-4f83-baad-662cb37ccc60",
   "metadata": {},
   "outputs": [],
   "source": [
    "peanut_butter_cookie = Cookie ()"
   ]
  },
  {
   "cell_type": "code",
   "execution_count": 84,
   "id": "8b7ac95f-f914-421b-8f32-ce26d3fc5353",
   "metadata": {},
   "outputs": [],
   "source": [
    "peanut_butter_cookie.shape = \"circular\""
   ]
  },
  {
   "cell_type": "code",
   "execution_count": 85,
   "id": "3c30fdb6-7003-4a43-a735-dc37be43e653",
   "metadata": {},
   "outputs": [
    {
     "data": {
      "text/plain": [
       "{'shape': 'circular'}"
      ]
     },
     "execution_count": 85,
     "metadata": {},
     "output_type": "execute_result"
    }
   ],
   "source": [
    "peanut_butter_cookie.__dict__"
   ]
  },
  {
   "cell_type": "markdown",
   "id": "79e4dc76-f4bf-4bab-aa62-e483fd85aa9a",
   "metadata": {
    "lang": "en"
   },
   "source": [
    "Instead of doing it one by one, we can create these variables each time an object is instantiated with the special `__init__` method. This function defines all the actions that should be performed when we create a new object. The reason we have two underscores before and after the function name is to indicate that this function is internal to the object and should not be called from outside the object."
   ]
  },
  {
   "cell_type": "code",
   "execution_count": null,
   "id": "a9f58889-9476-4c50-91b7-b29c3c787c76",
   "metadata": {},
   "outputs": [],
   "source": [
    "class Staff ():\n",
    "    \n",
    "    name = \n",
    "    fname = \n",
    "    time_off = "
   ]
  },
  {
   "cell_type": "code",
   "execution_count": 87,
   "id": "da4eb2a9-1312-449f-ba6d-38de5879f9d5",
   "metadata": {},
   "outputs": [],
   "source": [
    "albert = {\n",
    "    \"name\": \"albert\",\n",
    "    \"fname\": \"coca\",\n",
    "    \"time_off\": 30,\n",
    "    \"greeting\": lambda : print(\"Hello guys!\"),\n",
    "    \"hobbies\": [\"surfing\", \"climbing\", \"reading\"]\n",
    "}"
   ]
  },
  {
   "cell_type": "code",
   "execution_count": 88,
   "id": "da53b2e6-a1ae-4465-b1d4-d3a2b143ec22",
   "metadata": {},
   "outputs": [
    {
     "data": {
      "text/plain": [
       "'coca'"
      ]
     },
     "execution_count": 88,
     "metadata": {},
     "output_type": "execute_result"
    }
   ],
   "source": [
    "albert[\"fname\"]\n",
    "self[\"fname\"] #doesnt work outside of an instance\n",
    "#variable[\"key\"]"
   ]
  },
  {
   "cell_type": "code",
   "execution_count": 112,
   "id": "807fde57-a5a8-4147-847c-a6299bc404c1",
   "metadata": {},
   "outputs": [],
   "source": [
    "class Staff ():\n",
    "    \n",
    "    def __init__(self, name, fname, time_off): # Allow me to create instances with the properties\n",
    "        self.name = name \n",
    "        self.fname = fname\n",
    "        self.time_off = time_off"
   ]
  },
  {
   "cell_type": "code",
   "execution_count": 105,
   "id": "581ae644-2206-42ad-b65b-d2f783857fc0",
   "metadata": {},
   "outputs": [],
   "source": [
    "# when creating a new instance\n",
    "# wee need all these properties to be created\n",
    "# along with the instance"
   ]
  },
  {
   "cell_type": "code",
   "execution_count": 106,
   "id": "2ba75379-a6a5-401d-bf4c-4886d441ce67",
   "metadata": {},
   "outputs": [],
   "source": [
    "clara = Staff(\"Clara\", \"Fernández\", 30)"
   ]
  },
  {
   "cell_type": "code",
   "execution_count": 107,
   "id": "a1e54a64-99b1-4ced-8cf2-135823efddc2",
   "metadata": {},
   "outputs": [],
   "source": [
    "albert = Staff (\"Albert\", \"Coca\", 25)"
   ]
  },
  {
   "cell_type": "code",
   "execution_count": 108,
   "id": "8bd4a3ce-229e-433d-bf38-f8fb7e506cb1",
   "metadata": {},
   "outputs": [],
   "source": [
    "laura = Staff(\"Laura\", \"Molas\", 26)"
   ]
  },
  {
   "cell_type": "code",
   "execution_count": 109,
   "id": "7c844ee6-a671-4c20-911e-19226a987ad8",
   "metadata": {},
   "outputs": [
    {
     "data": {
      "text/plain": [
       "'Fernández'"
      ]
     },
     "execution_count": 109,
     "metadata": {},
     "output_type": "execute_result"
    }
   ],
   "source": [
    "clara.fname"
   ]
  },
  {
   "cell_type": "code",
   "execution_count": 110,
   "id": "ab7ab32a-01e2-4f4b-9937-acb3a66f14d2",
   "metadata": {},
   "outputs": [
    {
     "data": {
      "text/plain": [
       "25"
      ]
     },
     "execution_count": 110,
     "metadata": {},
     "output_type": "execute_result"
    }
   ],
   "source": [
    "albert.time_off"
   ]
  },
  {
   "cell_type": "code",
   "execution_count": 111,
   "id": "dee92217-3270-4adc-a436-45b7f3c01839",
   "metadata": {},
   "outputs": [
    {
     "data": {
      "text/plain": [
       "{'name': 'Clara', 'fname': 'Fernández', 'time_off': 30}"
      ]
     },
     "execution_count": 111,
     "metadata": {},
     "output_type": "execute_result"
    }
   ],
   "source": [
    "clara.__dict__"
   ]
  },
  {
   "cell_type": "code",
   "execution_count": 116,
   "id": "578fd51d-a516-404b-b50c-1c81188a8dac",
   "metadata": {},
   "outputs": [
    {
     "data": {
      "text/plain": [
       "30"
      ]
     },
     "execution_count": 116,
     "metadata": {},
     "output_type": "execute_result"
    }
   ],
   "source": [
    "holidays_clara = clara.time_off\n",
    "holidays_clara"
   ]
  },
  {
   "cell_type": "code",
   "execution_count": 114,
   "id": "4a94bcd1-7390-4796-b3c6-840fb048c278",
   "metadata": {},
   "outputs": [
    {
     "data": {
      "text/plain": [
       "<__main__.Staff at 0x7f874ab27130>"
      ]
     },
     "execution_count": 114,
     "metadata": {},
     "output_type": "execute_result"
    }
   ],
   "source": [
    "laura"
   ]
  },
  {
   "cell_type": "markdown",
   "id": "5538a188-f029-4227-a34a-eeec92a5bd46",
   "metadata": {
    "lang": "en"
   },
   "source": [
    "What does self do? It indicates that the data we are entering is for the object we are creating."
   ]
  },
  {
   "cell_type": "code",
   "execution_count": 221,
   "id": "3d49782b-a022-46a1-a698-2f6cd9d4c15e",
   "metadata": {},
   "outputs": [],
   "source": [
    "class Staff ():\n",
    "    \n",
    "    def __init__(self, name, fname, time_off): # Allow me to create instances with the properties\n",
    "        self.name = name \n",
    "        self.fname = fname\n",
    "        self.time_off = time_off\n",
    "        \n",
    "        self.email = self.name.lower() + \".\" + self.fname.lower() + \"@ironhack.com\""
   ]
  },
  {
   "cell_type": "code",
   "execution_count": 122,
   "id": "8ec38afc-93d3-4cac-8df0-139467b59d17",
   "metadata": {},
   "outputs": [],
   "source": [
    "# clara.fernandez@ironhack.com"
   ]
  },
  {
   "cell_type": "code",
   "execution_count": 123,
   "id": "ca79a3a6-5a62-47fb-a994-367b6d51eb8d",
   "metadata": {},
   "outputs": [],
   "source": [
    "clara = Staff (\"Clara\", \"Fernández\", 30) #I didn't declare e-mail"
   ]
  },
  {
   "cell_type": "code",
   "execution_count": 124,
   "id": "31342cce-28df-41dc-a593-aa679e5edcce",
   "metadata": {},
   "outputs": [
    {
     "data": {
      "text/plain": [
       "'clara.fernández@ironhack.com'"
      ]
     },
     "execution_count": 124,
     "metadata": {},
     "output_type": "execute_result"
    }
   ],
   "source": [
    "clara.email"
   ]
  },
  {
   "cell_type": "code",
   "execution_count": 125,
   "id": "aef39a44-f72e-4faa-9fc0-4aeaa12d53e3",
   "metadata": {},
   "outputs": [
    {
     "data": {
      "text/plain": [
       "'albert.coca@ironhack.com'"
      ]
     },
     "execution_count": 125,
     "metadata": {},
     "output_type": "execute_result"
    }
   ],
   "source": [
    "albert = Staff (\"Albert\", \"Coca\", 25)\n",
    "albert.email"
   ]
  },
  {
   "cell_type": "markdown",
   "id": "ce4ee85e-e88d-4f6d-aecb-93b7941d125a",
   "metadata": {
    "lang": "en"
   },
   "source": [
    "#### Default attributes\n",
    "\n",
    "We can initialize the attributes with a default value in case later, when creating the instances, the user or ourselves do not put anything in any of the attributes"
   ]
  },
  {
   "cell_type": "code",
   "execution_count": 127,
   "id": "ae1c1b86-ac1e-4d7c-9196-310cb6bb8a84",
   "metadata": {},
   "outputs": [],
   "source": [
    "class Staff ():\n",
    "    \n",
    "    def __init__(self, name, fname, time_off=30): # Allow me to create instances with the properties\n",
    "        self.name = name \n",
    "        self.fname = fname\n",
    "        self.time_off = time_off\n",
    "        \n",
    "        self.email = self.name.lower() + \".\" + self.fname.lower() + \"@ironhack.com\""
   ]
  },
  {
   "cell_type": "code",
   "execution_count": 129,
   "id": "c189fd5b-c9d2-4c1d-a1c0-2e6aa0bbf82d",
   "metadata": {},
   "outputs": [
    {
     "data": {
      "text/plain": [
       "30"
      ]
     },
     "execution_count": 129,
     "metadata": {},
     "output_type": "execute_result"
    }
   ],
   "source": [
    "albert = Staff (\"Albert\", \"Coca\")\n",
    "albert.time_off"
   ]
  },
  {
   "cell_type": "markdown",
   "id": "abb74139-f11f-4fb4-b179-618e35d2d5cb",
   "metadata": {
    "lang": "en"
   },
   "source": [
    "### Instance Methods"
   ]
  },
  {
   "cell_type": "code",
   "execution_count": 141,
   "id": "6e7924eb-28a5-4b80-8990-023acd563229",
   "metadata": {},
   "outputs": [
    {
     "data": {
      "text/plain": [
       "22"
      ]
     },
     "execution_count": 141,
     "metadata": {},
     "output_type": "execute_result"
    }
   ],
   "source": [
    "albert.time_off = albert.time_off - 1\n",
    "albert.time_off"
   ]
  },
  {
   "cell_type": "code",
   "execution_count": 142,
   "id": "9afd3b5e-81ed-409a-a64a-927ede1efc20",
   "metadata": {},
   "outputs": [
    {
     "data": {
      "text/plain": [
       "{'name': 'Albert',\n",
       " 'fname': 'Coca',\n",
       " 'time_off': 22,\n",
       " 'email': 'albert.coca@ironhack.com'}"
      ]
     },
     "execution_count": 142,
     "metadata": {},
     "output_type": "execute_result"
    }
   ],
   "source": [
    "albert.__dict__"
   ]
  },
  {
   "cell_type": "markdown",
   "id": "7d1e15b5-a6e5-496b-a376-62c3e1ec7168",
   "metadata": {
    "lang": "en"
   },
   "source": [
    "They are functions within the classes that will save us a lot of time"
   ]
  },
  {
   "cell_type": "code",
   "execution_count": 159,
   "id": "0bc5c6cb-e28b-4de3-906c-855c5895da4c",
   "metadata": {},
   "outputs": [],
   "source": [
    "class Staff ():\n",
    "    \n",
    "    def __init__(self, name, fname, time_off=30): # Allow me to create instances with the properties\n",
    "        self.name = name \n",
    "        self.fname = fname\n",
    "        self.time_off = time_off\n",
    "        \n",
    "        self.email = self.name.lower() + \".\" + self.fname.lower() + \"@ironhack.com\"\n",
    "        \n",
    "    def greeting (self):\n",
    "        print(\"Hello everyone!\")"
   ]
  },
  {
   "cell_type": "code",
   "execution_count": 160,
   "id": "330eb8ae-685e-41b4-9fc0-37890c9e202a",
   "metadata": {},
   "outputs": [],
   "source": [
    "albert = Staff(\"Albert\", \"Coca\")"
   ]
  },
  {
   "cell_type": "code",
   "execution_count": 161,
   "id": "d6a54e67-3767-431e-863f-018fcb204651",
   "metadata": {},
   "outputs": [
    {
     "data": {
      "text/plain": [
       "30"
      ]
     },
     "execution_count": 161,
     "metadata": {},
     "output_type": "execute_result"
    }
   ],
   "source": [
    "albert.time_off # .something -> value of the attribute / property | INFORMATION"
   ]
  },
  {
   "cell_type": "code",
   "execution_count": 162,
   "id": "ae0af12a-bde4-437b-85e5-cf7967e49ea4",
   "metadata": {},
   "outputs": [
    {
     "name": "stdout",
     "output_type": "stream",
     "text": [
      "Hello everyone!\n"
     ]
    }
   ],
   "source": [
    "albert.greeting() # .something() -> running a function | INSTRUCTIONS, methods, functions"
   ]
  },
  {
   "cell_type": "code",
   "execution_count": 163,
   "id": "2b14f7c8-b080-43de-863b-7195a0ca931e",
   "metadata": {},
   "outputs": [
    {
     "data": {
      "text/plain": [
       "'A'"
      ]
     },
     "execution_count": 163,
     "metadata": {},
     "output_type": "execute_result"
    }
   ],
   "source": [
    "\"a\".upper()"
   ]
  },
  {
   "cell_type": "code",
   "execution_count": 164,
   "id": "d6bb5ba0-81b1-4931-9a44-efb3fd0b5acf",
   "metadata": {},
   "outputs": [],
   "source": [
    "#[element for element in dir(str) if \"_\" not in element]"
   ]
  },
  {
   "cell_type": "code",
   "execution_count": 195,
   "id": "6b98fc22-b43b-41f7-9732-4db0ed6f2bef",
   "metadata": {},
   "outputs": [],
   "source": [
    "class Staff ():\n",
    "    \n",
    "    def __init__(self, name, fname, time_off=30): # Allow me to create instances with the properties\n",
    "        self.name = name \n",
    "        self.fname = fname\n",
    "        self.time_off = time_off\n",
    "        \n",
    "        self.email = self.name.lower() + \".\" + self.fname.lower() + \"@ironhack.com\"\n",
    "        \n",
    "    def greeting (self):\n",
    "        print(\"Hello everyone!\")\n",
    "        \n",
    "    def takes_days_off (self):\n",
    "        if self.time_off > 0:\n",
    "            self.time_off -= 1\n",
    "            return f\"I know have {self.time_off} available for me to take\"\n",
    "        else:\n",
    "            return \"No more days off, your total is 0\""
   ]
  },
  {
   "cell_type": "code",
   "execution_count": 196,
   "id": "a42a930e-8921-491f-8d7f-367fcb5b795c",
   "metadata": {},
   "outputs": [
    {
     "data": {
      "text/plain": [
       "{'name': 'ALbert',\n",
       " 'fname': 'Coca',\n",
       " 'time_off': 30,\n",
       " 'email': 'albert.coca@ironhack.com'}"
      ]
     },
     "execution_count": 196,
     "metadata": {},
     "output_type": "execute_result"
    }
   ],
   "source": [
    "albert = Staff (\"ALbert\", \"Coca\")\n",
    "albert.__dict__"
   ]
  },
  {
   "cell_type": "code",
   "execution_count": 230,
   "id": "f83883ff-03c1-41fc-8216-980d71365845",
   "metadata": {},
   "outputs": [
    {
     "data": {
      "text/plain": [
       "'No more days off, your total is 0'"
      ]
     },
     "execution_count": 230,
     "metadata": {},
     "output_type": "execute_result"
    }
   ],
   "source": [
    "albert.takes_days_off()"
   ]
  },
  {
   "cell_type": "code",
   "execution_count": 191,
   "id": "a972f7c8-8b6a-435b-911a-1af4cc063695",
   "metadata": {},
   "outputs": [
    {
     "data": {
      "text/plain": [
       "'I know have 18 available for me to take'"
      ]
     },
     "execution_count": 191,
     "metadata": {},
     "output_type": "execute_result"
    }
   ],
   "source": [
    "#clara = Staff (\"Clara\", \"Fdz\")\n",
    "clara.takes_days_off()"
   ]
  },
  {
   "cell_type": "code",
   "execution_count": 192,
   "id": "7e2cd9b9-8544-4cf2-8ebc-d5ef753fb327",
   "metadata": {},
   "outputs": [
    {
     "data": {
      "text/plain": [
       "{'name': 'Clara',\n",
       " 'fname': 'Fdz',\n",
       " 'time_off': 18,\n",
       " 'email': 'clara.fdz@ironhack.com'}"
      ]
     },
     "execution_count": 192,
     "metadata": {},
     "output_type": "execute_result"
    }
   ],
   "source": [
    "clara.__dict__"
   ]
  },
  {
   "cell_type": "code",
   "execution_count": 193,
   "id": "7b3dab19-680f-41f6-970e-44010f974d1b",
   "metadata": {},
   "outputs": [
    {
     "data": {
      "text/plain": [
       "18"
      ]
     },
     "execution_count": 193,
     "metadata": {},
     "output_type": "execute_result"
    }
   ],
   "source": [
    "clara.time_off"
   ]
  },
  {
   "cell_type": "code",
   "execution_count": 232,
   "id": "2c238c74-77c7-41e8-b202-526a045c4412",
   "metadata": {},
   "outputs": [],
   "source": [
    "def greeting ():\n",
    "    print(\"Hello everyone!\")"
   ]
  },
  {
   "cell_type": "code",
   "execution_count": 233,
   "id": "d1571845-e9a3-49af-a363-2a35f98aefcb",
   "metadata": {},
   "outputs": [
    {
     "name": "stdout",
     "output_type": "stream",
     "text": [
      "Hello everyone!\n"
     ]
    }
   ],
   "source": [
    "greeting()"
   ]
  },
  {
   "cell_type": "code",
   "execution_count": 234,
   "id": "36e48c01-804b-4327-a8c1-b720e3d31403",
   "metadata": {},
   "outputs": [],
   "source": [
    "def greeting (name):\n",
    "    print(f\"Hello everyone, I'm {name}!\")"
   ]
  },
  {
   "cell_type": "code",
   "execution_count": 235,
   "id": "3f128772-7091-40aa-88ff-86fb79b0161d",
   "metadata": {},
   "outputs": [
    {
     "name": "stdout",
     "output_type": "stream",
     "text": [
      "Hello everyone, I'm Clara!\n"
     ]
    }
   ],
   "source": [
    "greeting (\"Clara\")"
   ]
  },
  {
   "cell_type": "code",
   "execution_count": 236,
   "id": "f6689391-bacb-4c45-8213-f9c62244c2cb",
   "metadata": {},
   "outputs": [
    {
     "name": "stdout",
     "output_type": "stream",
     "text": [
      "Hello everyone, I'm Albert!\n"
     ]
    }
   ],
   "source": [
    "greeting (\"Albert\")"
   ]
  },
  {
   "cell_type": "code",
   "execution_count": 237,
   "id": "65562e23-e83f-4509-88dc-7b7b291393ba",
   "metadata": {},
   "outputs": [
    {
     "name": "stdout",
     "output_type": "stream",
     "text": [
      "Hello everyone!\n"
     ]
    }
   ],
   "source": [
    "albert.greeting()"
   ]
  },
  {
   "cell_type": "code",
   "execution_count": 238,
   "id": "907b9c99-5d1f-4cf6-8a02-f97c231af24d",
   "metadata": {},
   "outputs": [
    {
     "ename": "AttributeError",
     "evalue": "'Staff' object has no attribute 'greeting'",
     "output_type": "error",
     "traceback": [
      "\u001b[0;31m---------------------------------------------------------------------------\u001b[0m",
      "\u001b[0;31mAttributeError\u001b[0m                            Traceback (most recent call last)",
      "Input \u001b[0;32mIn [238]\u001b[0m, in \u001b[0;36m<cell line: 1>\u001b[0;34m()\u001b[0m\n\u001b[0;32m----> 1\u001b[0m \u001b[43mlaura\u001b[49m\u001b[38;5;241;43m.\u001b[39;49m\u001b[43mgreeting\u001b[49m()\n",
      "\u001b[0;31mAttributeError\u001b[0m: 'Staff' object has no attribute 'greeting'"
     ]
    }
   ],
   "source": [
    "laura.greeting()"
   ]
  },
  {
   "cell_type": "code",
   "execution_count": 241,
   "id": "0e77c007-9dea-4a63-b8ab-05b802ea6e32",
   "metadata": {},
   "outputs": [
    {
     "data": {
      "text/plain": [
       "10"
      ]
     },
     "execution_count": 241,
     "metadata": {},
     "output_type": "execute_result"
    }
   ],
   "source": [
    "albert.time_off = 10\n",
    "albert.time_off"
   ]
  },
  {
   "cell_type": "code",
   "execution_count": 222,
   "id": "19befd9a-dfa7-44ce-b34d-15638c6501d3",
   "metadata": {},
   "outputs": [],
   "source": [
    "class Staff ():\n",
    "    \n",
    "    def __init__(self, name, fname, time_off=30): # Allow me to create instances with the properties\n",
    "        self.name = name \n",
    "        self.fname = fname\n",
    "        self.time_off = time_off\n",
    "        \n",
    "        self.email = self.name.lower() + \".\" + self.fname.lower() + \"@ironhack.com\"\n",
    "        \n",
    "        self.hobbies = []\n",
    "        \n",
    "    def greeting (self):\n",
    "        print(\"Hello everyone!\")\n",
    "        \n",
    "    def takes_days_off (self):\n",
    "        if self.time_off > 0:\n",
    "            self.time_off -= 1\n",
    "            return f\"I know have {self.time_off} available for me to take\"\n",
    "        else:\n",
    "            return \"No more days off, your total is 0\"\n",
    "    \n",
    "    def hobbies_add_or_show (self, *hob):\n",
    "        if hob:\n",
    "            self.hobbies.append(hob)\n",
    "            return f\"New hobby included: {hob[0][0]}\"\n",
    "        else:\n",
    "            return f\"My hobbies are: {self.hobbies}\"\n",
    "        \n",
    "    "
   ]
  },
  {
   "cell_type": "code",
   "execution_count": 60,
   "id": "d7e6a636-b2a5-41df-a23b-4de2eaa9dd9e",
   "metadata": {},
   "outputs": [],
   "source": [
    "# Q Bernat: do I need self?=\n",
    "# A: only on those attributes that actually belong to the class\n",
    "# not the ones from \"the outside\" like \"hob\""
   ]
  },
  {
   "cell_type": "code",
   "execution_count": 61,
   "id": "20b681e7-ff59-45a1-ac66-a1bbcaa44a39",
   "metadata": {},
   "outputs": [],
   "source": [
    "carles = Staff(\"Carles\", \"Espuña\")"
   ]
  },
  {
   "cell_type": "code",
   "execution_count": 62,
   "id": "91caeb8b-6b26-4c64-b516-8c627413a78c",
   "metadata": {},
   "outputs": [
    {
     "data": {
      "text/plain": [
       "[]"
      ]
     },
     "execution_count": 62,
     "metadata": {},
     "output_type": "execute_result"
    }
   ],
   "source": [
    "carles.hobbies"
   ]
  },
  {
   "cell_type": "code",
   "execution_count": 63,
   "id": "14238118-8b90-437a-9e45-148c075bf0c4",
   "metadata": {},
   "outputs": [
    {
     "data": {
      "text/plain": [
       "'New hobby included: s'"
      ]
     },
     "execution_count": 63,
     "metadata": {},
     "output_type": "execute_result"
    }
   ],
   "source": [
    "carles.hobbies_add_or_show(\"skydiving\", \"going out\", \"surfing\") # running a method that is modifying his attributes"
   ]
  },
  {
   "cell_type": "code",
   "execution_count": 64,
   "id": "71274392-923c-4674-9950-082c5aa61f6c",
   "metadata": {},
   "outputs": [
    {
     "data": {
      "text/plain": [
       "[('skydiving', 'going out', 'surfing')]"
      ]
     },
     "execution_count": 64,
     "metadata": {},
     "output_type": "execute_result"
    }
   ],
   "source": [
    "carles.hobbies # his attribute"
   ]
  },
  {
   "cell_type": "code",
   "execution_count": 65,
   "id": "6249c327-ed37-44f0-b359-184bcde242b6",
   "metadata": {},
   "outputs": [
    {
     "data": {
      "text/plain": [
       "{'name': 'Carles',\n",
       " 'fname': 'Espuña',\n",
       " 'time_off': 30,\n",
       " 'email': 'carles.espuña@ironhack.com',\n",
       " 'hobbies': [('skydiving', 'going out', 'surfing')]}"
      ]
     },
     "execution_count": 65,
     "metadata": {},
     "output_type": "execute_result"
    }
   ],
   "source": [
    "carles.__dict__"
   ]
  },
  {
   "cell_type": "code",
   "execution_count": 58,
   "id": "5bc83aff-3dae-4ffb-aaf8-26e812c81a8d",
   "metadata": {},
   "outputs": [],
   "source": [
    "# i should have the hobbies_add function with *Args\n",
    "# if I want to run the code below\n",
    "# carles.hobbies_add(\"reading\", \"surfing\") "
   ]
  },
  {
   "cell_type": "markdown",
   "id": "1e0ce69c-03dd-4e84-8e64-4f221cbc922f",
   "metadata": {},
   "source": [
    "_⚠️:  Target variables when instantiaing, ingnoring defaults?_"
   ]
  },
  {
   "cell_type": "code",
   "execution_count": null,
   "id": "dcb22145-43a7-4a4d-8905-067ca0ea43f3",
   "metadata": {},
   "outputs": [],
   "source": []
  },
  {
   "cell_type": "markdown",
   "id": "8a85df62-5fa2-4f70-b14b-db56c594799a",
   "metadata": {
    "lang": "en"
   },
   "source": [
    "**watch out** 👀\n",
    "If we modify a class and add attributes or methods, we have to recreate the object so that it is initialized with those attributes and has those methods."
   ]
  },
  {
   "cell_type": "markdown",
   "id": "db37b8b0-95c1-4870-b22a-569ab2f0ddf2",
   "metadata": {
    "lang": "en"
   },
   "source": [
    "#### Python is built with objects\n",
    "In Python primitive data types are also objects that have associated attributes and methods."
   ]
  },
  {
   "cell_type": "code",
   "execution_count": 66,
   "id": "ddd83ccb-91f4-4a82-883e-1d43a8a61e30",
   "metadata": {},
   "outputs": [
    {
     "data": {
      "text/plain": [
       "'A'"
      ]
     },
     "execution_count": 66,
     "metadata": {},
     "output_type": "execute_result"
    }
   ],
   "source": [
    "\"a\".upper()"
   ]
  },
  {
   "cell_type": "code",
   "execution_count": 67,
   "id": "43a95e19-4f42-4a9b-b2c1-f7f789944dde",
   "metadata": {},
   "outputs": [
    {
     "data": {
      "text/plain": [
       "8"
      ]
     },
     "execution_count": 67,
     "metadata": {},
     "output_type": "execute_result"
    }
   ],
   "source": [
    "a_string = \"sdjsndsd\"\n",
    "len(a_string)"
   ]
  },
  {
   "cell_type": "markdown",
   "id": "c9f2f266-eba2-4a9c-93b2-c5f9e0b84b46",
   "metadata": {
    "lang": "en"
   },
   "source": [
    "Whenever we do .something, it is because we are calling the methods/attributes of that class"
   ]
  },
  {
   "cell_type": "markdown",
   "id": "03996922-2e36-47c5-8a54-c279ac4a8e3a",
   "metadata": {
    "lang": "en"
   },
   "source": [
    "### Class variables"
   ]
  },
  {
   "cell_type": "code",
   "execution_count": null,
   "id": "625b07a3-9a1f-4487-a5c4-ccc2741e0abc",
   "metadata": {},
   "outputs": [],
   "source": []
  },
  {
   "cell_type": "markdown",
   "id": "ec25e69c-5c6b-451e-b527-6b00a2dc66b5",
   "metadata": {
    "lang": "en"
   },
   "source": [
    "In general, class attributes should not be used, except to store constant values."
   ]
  },
  {
   "cell_type": "markdown",
   "id": "1103766e-a085-4006-8e8e-13ea86a63221",
   "metadata": {
    "lang": "en"
   },
   "source": [
    "**Exercise**\n",
    "\n",
    "Create a class `Circle` with:\n",
    "- radius as instance/object variable\n",
    "- pi (math.pi) as class variable\n",
    "- a compute_area(self) method that returns the area of ​​the \"circle\" object"
   ]
  },
  {
   "cell_type": "code",
   "execution_count": 68,
   "id": "be215f39-838b-4024-8537-dc227d60cb09",
   "metadata": {},
   "outputs": [],
   "source": [
    "import math"
   ]
  },
  {
   "cell_type": "code",
   "execution_count": 69,
   "id": "b9ecf4ac-fe46-4b36-8236-e088a78d3a10",
   "metadata": {},
   "outputs": [],
   "source": [
    "pi = math.pi"
   ]
  },
  {
   "cell_type": "code",
   "execution_count": 70,
   "id": "d3172c7d-94dc-4882-8700-41e4676572a1",
   "metadata": {},
   "outputs": [],
   "source": [
    "# class Circle\n",
    "    # properties: radius\n",
    "    # calculate_area"
   ]
  },
  {
   "cell_type": "code",
   "execution_count": 127,
   "id": "1267ed8e-665d-4812-96e4-af2e421b5af0",
   "metadata": {},
   "outputs": [],
   "source": [
    "radius = 100"
   ]
  },
  {
   "cell_type": "code",
   "execution_count": 134,
   "id": "ad370409-664c-4cfb-8cc3-47ab1ceb43c2",
   "metadata": {},
   "outputs": [],
   "source": [
    "# 1. Creating the class\n",
    "class Circle ():\n",
    "    \n",
    "    def __init__(self, number):\n",
    "        self.radius = number\n",
    "                \n",
    "    def calculate_area(self):\n",
    "        return math.pi*(self.radius**2)"
   ]
  },
  {
   "cell_type": "code",
   "execution_count": 135,
   "id": "973c14ce-e2e4-420f-a766-6d68cef6a669",
   "metadata": {},
   "outputs": [],
   "source": [
    "# 2. Instansiating the object\n",
    "joana_circle = Circle(5)"
   ]
  },
  {
   "cell_type": "code",
   "execution_count": 136,
   "id": "68db0cd8-5386-4cc0-92e8-5519f31835b9",
   "metadata": {},
   "outputs": [
    {
     "data": {
      "text/plain": [
       "78.53981633974483"
      ]
     },
     "execution_count": 136,
     "metadata": {},
     "output_type": "execute_result"
    }
   ],
   "source": [
    "# 3. Running a method of the object\n",
    "joana_circle.calculate_area()"
   ]
  },
  {
   "cell_type": "code",
   "execution_count": null,
   "id": "68ea8810-6f42-4b78-8c83-f5a20ad1e024",
   "metadata": {},
   "outputs": [],
   "source": [
    "# Q Max: do I need self insid eof the \"calculate_area\" function?\n",
    "# A: Yes, otherwise it'd be looking for the variable oputside\n",
    "# and I just want the one that belongs to me"
   ]
  },
  {
   "cell_type": "code",
   "execution_count": 105,
   "id": "e279e1a8-cd74-4385-bfd2-abb61970b777",
   "metadata": {},
   "outputs": [
    {
     "data": {
      "text/plain": [
       "78.53981633974483"
      ]
     },
     "execution_count": 105,
     "metadata": {},
     "output_type": "execute_result"
    }
   ],
   "source": [
    "class Circle ():\n",
    "    \n",
    "    def __init__(self, radius):\n",
    "        self.area = radius**2*math.pi\n",
    "\n",
    "carles_circle = Circle(5)\n",
    "carles_circle.area"
   ]
  },
  {
   "cell_type": "code",
   "execution_count": 82,
   "id": "fe5d0b0d-8422-46db-9a93-e607ee97530e",
   "metadata": {},
   "outputs": [
    {
     "data": {
      "text/plain": [
       "78.53981633974483"
      ]
     },
     "execution_count": 82,
     "metadata": {},
     "output_type": "execute_result"
    }
   ],
   "source": [
    "class Circle ():\n",
    "    \n",
    "    def __init__(self, rad):\n",
    "        self.rad = rad\n",
    "        self.area = pi*(rad)**2\n",
    "        \n",
    "maya_circle = Circle(5)\n",
    "maya_circle.area"
   ]
  },
  {
   "cell_type": "code",
   "execution_count": 137,
   "id": "bfdadbd7-7bfa-4603-b450-fab2ca1976e8",
   "metadata": {},
   "outputs": [
    {
     "data": {
      "text/plain": [
       "78.53981633974483"
      ]
     },
     "execution_count": 137,
     "metadata": {},
     "output_type": "execute_result"
    }
   ],
   "source": [
    "class Circle():\n",
    "    def __init__(self,radius):\n",
    "        self.radius = radius\n",
    "        self.area = math.pi * radius**2\n",
    "        \n",
    "        \n",
    "marc_dalmau = Circle(5)\n",
    "marc_dalmau.area"
   ]
  },
  {
   "cell_type": "code",
   "execution_count": 139,
   "id": "aa7d14dc-b67c-48dd-94df-4b9cc5c6bc52",
   "metadata": {},
   "outputs": [],
   "source": [
    "class Circle ():\n",
    "    \n",
    "    PI = math.pi # class variable\n",
    "    \n",
    "    def __init__(self, number):\n",
    "        self.radius = number\n",
    "                \n",
    "    def calculate_area(self):\n",
    "        return PI * (self.radius**2)"
   ]
  },
  {
   "cell_type": "code",
   "execution_count": 140,
   "id": "09ca83de-ed2c-463d-b9c0-d73e02361364",
   "metadata": {},
   "outputs": [],
   "source": [
    "# constants -> uppercase"
   ]
  },
  {
   "cell_type": "markdown",
   "id": "d7a54397-3cb2-468a-b915-71d9a3d65968",
   "metadata": {
    "lang": "en"
   },
   "source": [
    "## Before continuing, let's take a breath and review vocabulary"
   ]
  },
  {
   "cell_type": "markdown",
   "id": "e0727022-8e60-4975-b201-03efb4d31317",
   "metadata": {
    "lang": "en"
   },
   "source": [
    "- **Class**: The cookie mold. With the class we can generate instances or objects.\n",
    "- **Object**: The cookie we generated. Each object has different characteristics but under the same pattern as the class.\n",
    "- **Instance**: Same as object, it's a synonym :) hehe\n",
    "- **Attribute**: The different ingredients of each object. They are defined as arguments in the __init__ function but are saved as data when we instantiate an object by calling the class"
   ]
  },
  {
   "cell_type": "code",
   "execution_count": 148,
   "id": "7f86c31d-fae6-4172-8c9f-38a2231e1a8f",
   "metadata": {},
   "outputs": [
    {
     "data": {
      "text/html": [
       "<div>\n",
       "<style scoped>\n",
       "    .dataframe tbody tr th:only-of-type {\n",
       "        vertical-align: middle;\n",
       "    }\n",
       "\n",
       "    .dataframe tbody tr th {\n",
       "        vertical-align: top;\n",
       "    }\n",
       "\n",
       "    .dataframe thead th {\n",
       "        text-align: right;\n",
       "    }\n",
       "</style>\n",
       "<table border=\"1\" class=\"dataframe\">\n",
       "  <thead>\n",
       "    <tr style=\"text-align: right;\">\n",
       "      <th></th>\n",
       "      <th>A</th>\n",
       "      <th>B</th>\n",
       "    </tr>\n",
       "  </thead>\n",
       "  <tbody>\n",
       "    <tr>\n",
       "      <th>0</th>\n",
       "      <td>4</td>\n",
       "      <td>9</td>\n",
       "    </tr>\n",
       "    <tr>\n",
       "      <th>1</th>\n",
       "      <td>4</td>\n",
       "      <td>9</td>\n",
       "    </tr>\n",
       "    <tr>\n",
       "      <th>2</th>\n",
       "      <td>4</td>\n",
       "      <td>9</td>\n",
       "    </tr>\n",
       "  </tbody>\n",
       "</table>\n",
       "</div>"
      ],
      "text/plain": [
       "   A  B\n",
       "0  4  9\n",
       "1  4  9\n",
       "2  4  9"
      ]
     },
     "execution_count": 148,
     "metadata": {},
     "output_type": "execute_result"
    }
   ],
   "source": [
    "import pandas as pd\n",
    "\n",
    "df = pd.DataFrame([[4, 9]] * 3, columns=['A', 'B'])\n",
    "df"
   ]
  },
  {
   "cell_type": "code",
   "execution_count": 149,
   "id": "86c6151f-e3ba-4bca-a2f5-5eb38d392aa7",
   "metadata": {},
   "outputs": [],
   "source": [
    "#DataFrame -> class\n",
    "    #df -> instance of that class"
   ]
  },
  {
   "cell_type": "code",
   "execution_count": 150,
   "id": "b733ee78-77e5-4524-986e-f35929351580",
   "metadata": {},
   "outputs": [
    {
     "data": {
      "text/plain": [
       "Index(['A', 'B'], dtype='object')"
      ]
     },
     "execution_count": 150,
     "metadata": {},
     "output_type": "execute_result"
    }
   ],
   "source": [
    "df.columns"
   ]
  },
  {
   "cell_type": "code",
   "execution_count": 262,
   "id": "fba0d2be-cbe2-4b0e-a4e4-9284506b55dd",
   "metadata": {},
   "outputs": [
    {
     "data": {
      "text/html": [
       "<div>\n",
       "<style scoped>\n",
       "    .dataframe tbody tr th:only-of-type {\n",
       "        vertical-align: middle;\n",
       "    }\n",
       "\n",
       "    .dataframe tbody tr th {\n",
       "        vertical-align: top;\n",
       "    }\n",
       "\n",
       "    .dataframe thead th {\n",
       "        text-align: right;\n",
       "    }\n",
       "</style>\n",
       "<table border=\"1\" class=\"dataframe\">\n",
       "  <thead>\n",
       "    <tr style=\"text-align: right;\">\n",
       "      <th></th>\n",
       "      <th>a</th>\n",
       "      <th>b</th>\n",
       "    </tr>\n",
       "  </thead>\n",
       "  <tbody>\n",
       "    <tr>\n",
       "      <th>0</th>\n",
       "      <td>4</td>\n",
       "      <td>9</td>\n",
       "    </tr>\n",
       "    <tr>\n",
       "      <th>1</th>\n",
       "      <td>4</td>\n",
       "      <td>9</td>\n",
       "    </tr>\n",
       "    <tr>\n",
       "      <th>2</th>\n",
       "      <td>4</td>\n",
       "      <td>9</td>\n",
       "    </tr>\n",
       "  </tbody>\n",
       "</table>\n",
       "</div>"
      ],
      "text/plain": [
       "   a  b\n",
       "0  4  9\n",
       "1  4  9\n",
       "2  4  9"
      ]
     },
     "execution_count": 262,
     "metadata": {},
     "output_type": "execute_result"
    }
   ],
   "source": [
    "# method is a function \n",
    "    # given instance \n",
    "\n",
    "df.rename(columns = {\"A\": \"a\", \"B\":\"b\"})"
   ]
  },
  {
   "cell_type": "code",
   "execution_count": 263,
   "id": "89d11d30-8ab3-42d4-9356-2fe836e72274",
   "metadata": {},
   "outputs": [
    {
     "data": {
      "text/html": [
       "<div>\n",
       "<style scoped>\n",
       "    .dataframe tbody tr th:only-of-type {\n",
       "        vertical-align: middle;\n",
       "    }\n",
       "\n",
       "    .dataframe tbody tr th {\n",
       "        vertical-align: top;\n",
       "    }\n",
       "\n",
       "    .dataframe thead th {\n",
       "        text-align: right;\n",
       "    }\n",
       "</style>\n",
       "<table border=\"1\" class=\"dataframe\">\n",
       "  <thead>\n",
       "    <tr style=\"text-align: right;\">\n",
       "      <th></th>\n",
       "      <th>a</th>\n",
       "      <th>b</th>\n",
       "    </tr>\n",
       "  </thead>\n",
       "  <tbody>\n",
       "    <tr>\n",
       "      <th>0</th>\n",
       "      <td>4</td>\n",
       "      <td>9</td>\n",
       "    </tr>\n",
       "    <tr>\n",
       "      <th>1</th>\n",
       "      <td>4</td>\n",
       "      <td>9</td>\n",
       "    </tr>\n",
       "    <tr>\n",
       "      <th>2</th>\n",
       "      <td>4</td>\n",
       "      <td>9</td>\n",
       "    </tr>\n",
       "  </tbody>\n",
       "</table>\n",
       "</div>"
      ],
      "text/plain": [
       "   a  b\n",
       "0  4  9\n",
       "1  4  9\n",
       "2  4  9"
      ]
     },
     "execution_count": 263,
     "metadata": {},
     "output_type": "execute_result"
    }
   ],
   "source": [
    "df"
   ]
  },
  {
   "cell_type": "code",
   "execution_count": 264,
   "id": "dcae7397-a557-4a5a-aa26-6689212210b6",
   "metadata": {},
   "outputs": [],
   "source": [
    "#[i for i in dir(df) if \"_\" not in i]"
   ]
  },
  {
   "cell_type": "markdown",
   "id": "4d7bb87f-7727-453f-be70-0fa3b440eb0f",
   "metadata": {},
   "source": [
    "```python\n",
    "aleix = Instructor(\"Aleix\", \"García\")\n",
    "```"
   ]
  },
  {
   "cell_type": "markdown",
   "id": "3fee74f9-2d30-49aa-a191-af398eff169b",
   "metadata": {},
   "source": [
    "We can say that the attributes are the DATA, in this case \"Pau\" and \"Peracaula\".\n",
    "They are variables\n",
    "\n",
    "\n",
    "* **Class attribute**: Variables that belong to the class and that will be the same in all objects.\n",
    "* **Object/instance attribute**: The attributes explained above, specific to each object.\n",
    "* **Method**: Functions that do things"
   ]
  },
  {
   "cell_type": "markdown",
   "id": "55d2ed9f-6ce9-4398-a2c6-375495b120fa",
   "metadata": {
    "lang": "en"
   },
   "source": [
    "#### Easy exercise\n",
    "Kata --> https://www.codewars.com/kata/53f0f358b9cb376eca001079/train/python\n",
    "\n",
    "You can ignore the \"object\" for now"
   ]
  },
  {
   "cell_type": "code",
   "execution_count": 170,
   "id": "c32b2ce1-fbfc-4022-9c5d-5c57a28d1023",
   "metadata": {},
   "outputs": [],
   "source": [
    "class Ball():\n",
    "    def __init__ (self, ball_type=\"regular\"):\n",
    "        self.ball_type = ball_type"
   ]
  },
  {
   "cell_type": "code",
   "execution_count": 171,
   "id": "ea5c12d8-2f72-4c40-92d1-adcc72ead02c",
   "metadata": {},
   "outputs": [
    {
     "data": {
      "text/plain": [
       "'not regular'"
      ]
     },
     "execution_count": 171,
     "metadata": {},
     "output_type": "execute_result"
    }
   ],
   "source": [
    "my_ball = Ball(\"not regular\")\n",
    "my_ball.ball_type"
   ]
  },
  {
   "cell_type": "code",
   "execution_count": 172,
   "id": "95ee4728-7e65-4e70-b2bd-bf3dcb18af1b",
   "metadata": {},
   "outputs": [
    {
     "data": {
      "text/plain": [
       "'like this'"
      ]
     },
     "execution_count": 172,
     "metadata": {},
     "output_type": "execute_result"
    }
   ],
   "source": [
    "my_ball.ball_type = \"like this\" # i can overwrite\n",
    "my_ball.ball_type"
   ]
  },
  {
   "cell_type": "code",
   "execution_count": 173,
   "id": "395486e0-1d3e-455a-af15-558f95e78c50",
   "metadata": {},
   "outputs": [],
   "source": [
    "def greeting (name, language=\"en\"):\n",
    "    if language == \"es\": \n",
    "        return f\"Hola mi nombre es: {name}\"\n",
    "    else:\n",
    "        return f\"hello my name is {name}\""
   ]
  },
  {
   "cell_type": "code",
   "execution_count": 162,
   "id": "44935c68-7e45-47b9-96f4-2834e8c94bea",
   "metadata": {},
   "outputs": [
    {
     "data": {
      "text/plain": [
       "'hello my name is Sam'"
      ]
     },
     "execution_count": 162,
     "metadata": {},
     "output_type": "execute_result"
    }
   ],
   "source": [
    "greeting (\"Sam\")"
   ]
  },
  {
   "cell_type": "code",
   "execution_count": 163,
   "id": "0e229b08-be78-4650-a384-e6690b17db41",
   "metadata": {},
   "outputs": [
    {
     "data": {
      "text/plain": [
       "'Hola mi nombre es: Venice'"
      ]
     },
     "execution_count": 163,
     "metadata": {},
     "output_type": "execute_result"
    }
   ],
   "source": [
    "greeting(\"Venice\", \"es\")"
   ]
  },
  {
   "cell_type": "markdown",
   "id": "59369f6e-bbbd-4867-8964-8afa47763f3c",
   "metadata": {},
   "source": [
    "Solution:\n",
    "\n",
    "\n",
    "```python\n",
    "class Ball():\n",
    "    def __init__ (self, ball_type = \"regular\"):\n",
    "        self.ball_type = ball_type\n",
    "````"
   ]
  },
  {
   "cell_type": "markdown",
   "id": "b65c7487-6454-4e89-8076-8ca5d109fc16",
   "metadata": {},
   "source": [
    "## Inheritance"
   ]
  },
  {
   "cell_type": "markdown",
   "id": "6c0c1265-ecee-4aa7-9e51-bf18a9f7172c",
   "metadata": {
    "lang": "en"
   },
   "source": [
    "Inheritance allows defining new classes from existing classes. The class from which it is inherited is called the \"parent class\"/\"superclass\"/\"parent\". The class that it inherits is called a \"child class\" or \"subclass.\"\n",
    "The child class \"inherits\" all the properties of the parent class and allows us to override methods and attributes or add new ones. The fundamental advantage that the inheritance mechanism brings to programming is the ability to reuse code. Thus, a set of classes that share attributes and methods can inherit from a superclass where those methods and attributes are defined."
   ]
  },
  {
   "cell_type": "markdown",
   "id": "2ac3b8c5-5ee0-4cf9-afbc-0928b7b71c43",
   "metadata": {},
   "source": [
    "\n",
    "![miniyoda](https://media.giphy.com/media/j0eRJzyW7XjMpu1Pqd/giphy.gif)"
   ]
  },
  {
   "cell_type": "markdown",
   "id": "4b10b9b1-1f21-4678-bf03-7d1309ea55cb",
   "metadata": {
    "lang": "en"
   },
   "source": [
    "- Method defined in the `parent`, but not in the `child`\n",
    "\n",
    "In this case, the child will inherit the parent's method, it will work exactly the same and there is no need to override it.\n",
    "\n",
    "- Method defined in `Child`, but not in Parent\n",
    "\n",
    "The method only belongs to the child. Inheritance is one way.\n",
    "\n",
    "- Method set to \"both\".\n",
    "\n",
    "Two things can happen here, but both are a variant of the same fact. The method written in the `Child` class will override the one previously defined in Parent.\n",
    "\n",
    "However, if we want to use the original method and just add something else to it, we can always refer to the original (parent) method with `super()`. The `super()` function allows us to call any method of the parent class. Just remember to call it on the new define and make sure you get all the attributes it needs 😉 ."
   ]
  },
  {
   "cell_type": "code",
   "execution_count": 187,
   "id": "3be89aa7-7c8a-4b64-98c6-700f30096342",
   "metadata": {},
   "outputs": [],
   "source": [
    "class Staff ():\n",
    "    \n",
    "    def __init__(self, name, fname, time_off=30): # Allow me to create instances with the properties\n",
    "        self.name = name \n",
    "        self.fname = fname\n",
    "        self.time_off = time_off\n",
    "        \n",
    "        self.email = self.name.lower() + \".\" + self.fname.lower() + \"@ironhack.com\"\n",
    "        \n",
    "    def greeting (self):\n",
    "        print(\"Hello everyone!\")\n",
    "        \n",
    "    def takes_days_off (self):\n",
    "        if self.time_off > 0:\n",
    "            self.time_off -= 1\n",
    "            return f\"I know have {self.time_off} available for me to take\"\n",
    "        else:\n",
    "            return \"No more days off, your total is 0\""
   ]
  },
  {
   "cell_type": "code",
   "execution_count": 188,
   "id": "944f0785-c31d-4b14-bdaa-cb1f23e777bf",
   "metadata": {},
   "outputs": [],
   "source": [
    "# Creating a class that inherits from something else"
   ]
  },
  {
   "cell_type": "code",
   "execution_count": 206,
   "id": "b92481b8-ecb8-4dd1-9346-c9079543a025",
   "metadata": {},
   "outputs": [],
   "source": [
    "# Staff -> parent class\n",
    "    # Marketing (Staff)\n",
    "    \n",
    "    \n",
    "class Marketing (Staff):\n",
    "    def __init__(self, name, fname, time_off=30): # Allow me to create instances with the properties\n",
    "        self.name = name \n",
    "        self.fname = fname\n",
    "        self.time_off = time_off\n",
    "    \n",
    "    # greeting function is not here but you can find on the parent class; which is Staff\n",
    "    \n",
    "    def role (self):\n",
    "        print (\"I work in Marketing\")"
   ]
  },
  {
   "cell_type": "code",
   "execution_count": 212,
   "id": "5e9c79b0-6e8d-4d64-a3f9-069efbddaa33",
   "metadata": {},
   "outputs": [],
   "source": [
    "# laura, which is a Marketing instance\n",
    "# is also able to access the methods for Staff\n",
    "# might have other specific methods"
   ]
  },
  {
   "cell_type": "code",
   "execution_count": 204,
   "id": "4bd65f5c-fbee-4153-93e1-193a113ececa",
   "metadata": {},
   "outputs": [],
   "source": [
    "laura = Marketing(\"Laura\", \"Molas\")"
   ]
  },
  {
   "cell_type": "code",
   "execution_count": 205,
   "id": "0acd3ca8-079a-4688-981e-5d2dab64c414",
   "metadata": {},
   "outputs": [
    {
     "name": "stdout",
     "output_type": "stream",
     "text": [
      "I work in Marketing\n"
     ]
    }
   ],
   "source": [
    "laura.role()"
   ]
  },
  {
   "cell_type": "code",
   "execution_count": 211,
   "id": "a7ffae10-f2db-4057-95dc-df66c4b02131",
   "metadata": {},
   "outputs": [
    {
     "name": "stdout",
     "output_type": "stream",
     "text": [
      "Hello everyone!\n"
     ]
    }
   ],
   "source": [
    "laura.greeting()"
   ]
  },
  {
   "cell_type": "code",
   "execution_count": 208,
   "id": "2e6419ad-e02b-4838-bf5b-f283db91876d",
   "metadata": {},
   "outputs": [],
   "source": [
    "clara = Staff (\"Clara\", \"Fernández\")"
   ]
  },
  {
   "cell_type": "code",
   "execution_count": 210,
   "id": "ac39dfbd-7f94-481f-b9d4-0eca9d8d3fed",
   "metadata": {},
   "outputs": [
    {
     "ename": "AttributeError",
     "evalue": "'Staff' object has no attribute 'role'",
     "output_type": "error",
     "traceback": [
      "\u001b[0;31m---------------------------------------------------------------------------\u001b[0m",
      "\u001b[0;31mAttributeError\u001b[0m                            Traceback (most recent call last)",
      "Input \u001b[0;32mIn [210]\u001b[0m, in \u001b[0;36m<cell line: 1>\u001b[0;34m()\u001b[0m\n\u001b[0;32m----> 1\u001b[0m \u001b[43mclara\u001b[49m\u001b[38;5;241;43m.\u001b[39;49m\u001b[43mrole\u001b[49m()\n",
      "\u001b[0;31mAttributeError\u001b[0m: 'Staff' object has no attribute 'role'"
     ]
    }
   ],
   "source": [
    "clara.role()"
   ]
  },
  {
   "cell_type": "code",
   "execution_count": 191,
   "id": "793fa067-c4a1-4a4e-83dd-98593e80cf11",
   "metadata": {},
   "outputs": [
    {
     "data": {
      "text/plain": [
       "__main__.Marketing"
      ]
     },
     "execution_count": 191,
     "metadata": {},
     "output_type": "execute_result"
    }
   ],
   "source": [
    "type(laura)"
   ]
  },
  {
   "cell_type": "code",
   "execution_count": 197,
   "id": "9834b87d-adc7-4c42-b372-99eeaf8c0e42",
   "metadata": {},
   "outputs": [
    {
     "data": {
      "text/plain": [
       "'I know have 24 available for me to take'"
      ]
     },
     "execution_count": 197,
     "metadata": {},
     "output_type": "execute_result"
    }
   ],
   "source": [
    "laura.takes_days_off()"
   ]
  },
  {
   "cell_type": "code",
   "execution_count": null,
   "id": "4e49aa88-516b-4db3-a0cb-d7c1bb84fb10",
   "metadata": {},
   "outputs": [],
   "source": [
    "class Staff ():\n",
    "    \n",
    "    def __init__(self, name, fname, time_off=30): # Allow me to create instances with the properties\n",
    "        self.name = name \n",
    "        self.fname = fname\n",
    "        self.time_off = time_off\n",
    "        \n",
    "        self.email = self.name.lower() + \".\" + self.fname.lower() + \"@ironhack.com\"\n",
    "        \n",
    "        self.hobbies = []\n",
    "        \n",
    "    def greeting (self):\n",
    "        print(\"Hello everyone!\")\n",
    "        \n",
    "    def takes_days_off (self):\n",
    "        if self.time_off > 0:\n",
    "            self.time_off -= 1\n",
    "            return f\"I know have {self.time_off} available for me to take\"\n",
    "        else:\n",
    "            return \"No more days off, your total is 0\"\n",
    "    \n",
    "    def hobbies_add_or_show (self, *hob):\n",
    "        if hob:\n",
    "            self.hobbies.append(hob)\n",
    "            return f\"New hobby included: {hob[0][0]}\"\n",
    "        else:\n",
    "            return f\"My hobbies are: {self.hobbies}\"\n",
    "        \n",
    "    "
   ]
  },
  {
   "cell_type": "markdown",
   "id": "f10747c2-8a02-4b1d-8efc-780cd811f557",
   "metadata": {},
   "source": [
    "### super()"
   ]
  },
  {
   "cell_type": "code",
   "execution_count": 234,
   "id": "f092b2a7-cec7-4f8c-b285-414e7c9d5baf",
   "metadata": {},
   "outputs": [],
   "source": [
    "# Staff -> parent class\n",
    "    # Marketing (Staff)\n",
    "    \n",
    "    \n",
    "class Marketing (Staff):\n",
    "    def __init__(self, name, fname, time_off=30): # Allow me to create instances with the properties\n",
    "        super().__init__(name, fname) #email\n",
    "    \n",
    "    def role (self):\n",
    "        print (\"I work in Marketing\")"
   ]
  },
  {
   "cell_type": "code",
   "execution_count": 235,
   "id": "1a2b85fb-a2dd-4230-a9b1-8af9c24a3249",
   "metadata": {},
   "outputs": [],
   "source": [
    "laura = Marketing(\"Laura\", \"Molas\")"
   ]
  },
  {
   "cell_type": "code",
   "execution_count": 236,
   "id": "9b5e60bd-8cfc-4c7c-b537-c5ac483a80bd",
   "metadata": {},
   "outputs": [
    {
     "data": {
      "text/plain": [
       "{'name': 'Laura',\n",
       " 'fname': 'Molas',\n",
       " 'time_off': 30,\n",
       " 'email': 'laura.molas@ironhack.com',\n",
       " 'hobbies': []}"
      ]
     },
     "execution_count": 236,
     "metadata": {},
     "output_type": "execute_result"
    }
   ],
   "source": [
    "laura.__dict__"
   ]
  },
  {
   "cell_type": "code",
   "execution_count": 251,
   "id": "b8cf7f86-6d9b-421c-8450-f38105645d16",
   "metadata": {},
   "outputs": [],
   "source": [
    "class Teacher (Staff):\n",
    "        \n",
    "    def __init__ (self, name, fname):\n",
    "        super().__init__(name, fname)\n",
    "        \n",
    "    def teach (self):\n",
    "        return \"Did you google it?\""
   ]
  },
  {
   "cell_type": "code",
   "execution_count": 252,
   "id": "92e3cc8f-2d94-4988-9652-6cc6dadb6d11",
   "metadata": {},
   "outputs": [],
   "source": [
    "carles = Teacher(\"Carles\", \"Espuña\")"
   ]
  },
  {
   "cell_type": "code",
   "execution_count": 253,
   "id": "9c270b52-dc28-4457-a0da-6767b301969b",
   "metadata": {},
   "outputs": [
    {
     "data": {
      "text/plain": [
       "'I know have 29 available for me to take'"
      ]
     },
     "execution_count": 253,
     "metadata": {},
     "output_type": "execute_result"
    }
   ],
   "source": [
    "carles.takes_days_off()"
   ]
  },
  {
   "cell_type": "code",
   "execution_count": 254,
   "id": "9a6dba65-75ed-4955-8dac-813aac83c28a",
   "metadata": {},
   "outputs": [
    {
     "data": {
      "text/plain": [
       "'Did you google it?'"
      ]
     },
     "execution_count": 254,
     "metadata": {},
     "output_type": "execute_result"
    }
   ],
   "source": [
    "carles.teach()"
   ]
  },
  {
   "cell_type": "code",
   "execution_count": 255,
   "id": "c43fde19-b6e8-41d5-a4b8-bdd96a096f41",
   "metadata": {},
   "outputs": [
    {
     "data": {
      "text/plain": [
       "'carles.espuña@ironhack.com'"
      ]
     },
     "execution_count": 255,
     "metadata": {},
     "output_type": "execute_result"
    }
   ],
   "source": [
    "carles.email"
   ]
  },
  {
   "cell_type": "code",
   "execution_count": 256,
   "id": "b3f263ee-21fc-4096-abcc-612916b903ee",
   "metadata": {},
   "outputs": [],
   "source": [
    "class Vehicle ():\n",
    "    pass\n",
    "\n",
    "class Car (Vehicle):\n",
    "    pass"
   ]
  },
  {
   "cell_type": "markdown",
   "id": "351f8c3a-4333-4a0f-9845-fd6aa6e9c52d",
   "metadata": {
    "lang": "en"
   },
   "source": [
    "## Summary\n",
    "Now it's your turn: What have we learned? 🤯\n",
    "\n",
    "- objects / oop \n",
    "- everything in python is an object\n",
    "    - `<__main__.Staff at 0x7f874ab27130>` \n",
    "    - call methods or use its attributes\n",
    "- two approaches when building things with code\n",
    "    - functional\n",
    "        - straight-fwd\n",
    "        - do things\n",
    "    - OOP\n",
    "        - might take bit more of time in the beginning\n",
    "        - more re-usability and convenience\n",
    "        - info & instructions\n",
    "        - encapsulation (higher degree than a function)\n",
    "- self\n",
    "    - refer to the instance we create\n",
    "- explore clases/objects/instances\n",
    "    - dir(object)\n",
    "    - object.__dict__\n",
    "    - object.age -> df.columns\n",
    "    - object.do_things() -> df.rename(dictionary)\n",
    "- create new objects that INHERIT from others (parent class)\n",
    "- `super().__init(name, fname)` to bring attributes"
   ]
  },
  {
   "cell_type": "markdown",
   "id": "870b29ae-50f4-436e-a28a-ec3a105c348e",
   "metadata": {
    "lang": "en"
   },
   "source": [
    "## Furthermaterials\n",
    "\n",
    "- Youtube Tutorial by [Corey Schafer](https://www.youtube.com/watch?v=ZDa-Z5JzLYM)\n",
    "- [Real Python](https://docs.hektorprofe.net/python/object-oriented-programming/classes-and-objects/)\n",
    "- [Interesting read](https://medium.com/@shaistha24/functional-programming-vs-object-oriented-programming-oop-which-is-better-82172e53a526) --> OOP vs Functional programming"
   ]
  },
  {
   "cell_type": "markdown",
   "id": "b09e7d4b-60dd-4052-b7f5-ab39ece2c293",
   "metadata": {
    "lang": "en"
   },
   "source": [
    "### Methods **ADVANCED** @classmethod@staticmethod\n",
    "* [Real Python - @classmethod/@stathicmethod](https://realpython.com/instance-class-and-static-methods-demystified/). Advanced Python with decorators (we'll mention them later)"
   ]
  },
  {
   "cell_type": "markdown",
   "id": "71c30a1f-53e2-473c-b958-afd86475bb11",
   "metadata": {
    "lang": "en"
   },
   "source": [
    "# Object-oriented programming"
   ]
  },
  {
   "cell_type": "markdown",
   "id": "0ff3dd89-8648-457b-87da-a015106a012f",
   "metadata": {
    "toc": true
   },
   "source": [
    "<h1>Table of Contents<span class=\"tocSkip\"></span></h1>\n",
    "<div class=\"toc\"><ul class=\"toc-item\"><li><span><a href=\"#What-is-OOP---Object-Oriented-Programming?\" data-toc-modified-id=\"What-is-OOP---Object-Oriented-Programming?-1\"><span class=\"toc-item-num\">1&nbsp;&nbsp;</span>What is OOP - Object Oriented Programming?</a></span><ul class=\"toc-item\"><li><span><a href=\"#Fundamental-Principles\" data-toc-modified-id=\"Fundamental-Principles-1.1\"><span class=\"toc-item-num\">1.1&nbsp;&nbsp;</span>Fundamental Principles</a></span></li></ul></li><li><span><a href=\"#Classes-and-instances\" data-toc-modified-id=\"Classes-and-instances-2\"><span class=\"toc-item-num\">2&nbsp;&nbsp;</span>Classes and instances</a></span><ul class=\"toc-item\"><li><ul class=\"toc-item\"><li><span><a href=\"#mini-recap\" data-toc-modified-id=\"mini-recap-2.0.1\"><span class=\"toc-item-num\">2.0.1&nbsp;&nbsp;</span>mini-recap</a></span></li></ul></li></ul></li><li><span><a href=\"#Definition-of-a-class\" data-toc-modified-id=\"Definition-of-a-class-3\"><span class=\"toc-item-num\">3&nbsp;&nbsp;</span>Definition of a class</a></span><ul class=\"toc-item\"><li><span><a href=\"#Self:\" data-toc-modified-id=\"Self:-3.1\"><span class=\"toc-item-num\">3.1&nbsp;&nbsp;</span>Self:</a></span><ul class=\"toc-item\"><li><span><a href=\"#Defining-a-function\" data-toc-modified-id=\"Defining-a-function-3.1.1\"><span class=\"toc-item-num\">3.1.1&nbsp;&nbsp;</span>Defining a function</a></span></li><li><span><a href=\"#Calling-a-function\" data-toc-modified-id=\"Calling-a-function-3.1.2\"><span class=\"toc-item-num\">3.1.2&nbsp;&nbsp;</span>Calling a function</a></span></li><li><span><a href=\"#Defining-a-class\" data-toc-modified-id=\"Defining-a-class-3.1.3\"><span class=\"toc-item-num\">3.1.3&nbsp;&nbsp;</span>Defining a class</a></span></li><li><span><a href=\"#Instansiating-a-class\" data-toc-modified-id=\"Instansiating-a-class-3.1.4\"><span class=\"toc-item-num\">3.1.4&nbsp;&nbsp;</span>Instansiating a class</a></span></li></ul></li><li><span><a href=\"#Exploring-a-class\" data-toc-modified-id=\"Exploring-a-class-3.2\"><span class=\"toc-item-num\">3.2&nbsp;&nbsp;</span>Exploring a class</a></span></li><li><span><a href=\"#Instance-Attributes\" data-toc-modified-id=\"Instance-Attributes-3.3\"><span class=\"toc-item-num\">3.3&nbsp;&nbsp;</span>Instance Attributes</a></span><ul class=\"toc-item\"><li><span><a href=\"#Default-attributes\" data-toc-modified-id=\"Default-attributes-3.3.1\"><span class=\"toc-item-num\">3.3.1&nbsp;&nbsp;</span>Default attributes</a></span></li></ul></li><li><span><a href=\"#Instance-Methods\" data-toc-modified-id=\"Instance-Methods-3.4\"><span class=\"toc-item-num\">3.4&nbsp;&nbsp;</span>Instance Methods</a></span><ul class=\"toc-item\"><li><span><a href=\"#Python-is-built-with-objects\" data-toc-modified-id=\"Python-is-built-with-objects-3.4.1\"><span class=\"toc-item-num\">3.4.1&nbsp;&nbsp;</span>Python is built with objects</a></span></li></ul></li><li><span><a href=\"#Class-variables\" data-toc-modified-id=\"Class-variables-3.5\"><span class=\"toc-item-num\">3.5&nbsp;&nbsp;</span>Class variables</a></span></li></ul></li><li><span><a href=\"#Before-continuing,-let's-take-a-breath-and-review-vocabulary\" data-toc-modified-id=\"Before-continuing,-let's-take-a-breath-and-review-vocabulary-4\"><span class=\"toc-item-num\">4&nbsp;&nbsp;</span>Before continuing, let's take a breath and review vocabulary</a></span><ul class=\"toc-item\"><li><ul class=\"toc-item\"><li><span><a href=\"#Easy-exercise\" data-toc-modified-id=\"Easy-exercise-4.0.1\"><span class=\"toc-item-num\">4.0.1&nbsp;&nbsp;</span>Easy exercise</a></span></li></ul></li></ul></li><li><span><a href=\"#Inheritance\" data-toc-modified-id=\"Inheritance-5\"><span class=\"toc-item-num\">5&nbsp;&nbsp;</span>Inheritance</a></span><ul class=\"toc-item\"><li><span><a href=\"#super()\" data-toc-modified-id=\"super()-5.1\"><span class=\"toc-item-num\">5.1&nbsp;&nbsp;</span>super()</a></span></li></ul></li><li><span><a href=\"#Summary\" data-toc-modified-id=\"Summary-6\"><span class=\"toc-item-num\">6&nbsp;&nbsp;</span>Summary</a></span></li><li><span><a href=\"#Furthermaterials\" data-toc-modified-id=\"Furthermaterials-7\"><span class=\"toc-item-num\">7&nbsp;&nbsp;</span>Furthermaterials</a></span><ul class=\"toc-item\"><li><span><a href=\"#Methods-ADVANCED-@classmethod@staticmethod\" data-toc-modified-id=\"Methods-ADVANCED-@classmethod@staticmethod-7.1\"><span class=\"toc-item-num\">7.1&nbsp;&nbsp;</span>Methods <strong>ADVANCED</strong> @classmethod@staticmethod</a></span></li></ul></li></ul></div>"
   ]
  },
  {
   "cell_type": "markdown",
   "id": "11d9a048-ce37-4430-89b3-e120b2741686",
   "metadata": {
    "lang": "en"
   },
   "source": [
    "## What is OOP - Object Oriented Programming?"
   ]
  },
  {
   "cell_type": "markdown",
   "id": "d380ad01-0d8b-439d-bbf0-fdc8591b692f",
   "metadata": {
    "lang": "en"
   },
   "source": [
    "Object-oriented programming is a programming paradigm, that is, a programming style and technique, which goes beyond the implementation itself. This paradigm is based on the \"object\" concept, which can contain both data, in the form of fields called \"attributes\", and code for its manipulation in the form of procedures and functions, called \"methods\". Thanks to this, we can group everything under a single data type (the object \"class\"), which facilitates the modularity and reusability of the code.\n",
    "This has a strong implication in the design of IT solutions; Software engineering methodologies are based on object-oriented programming."
   ]
  },
  {
   "cell_type": "markdown",
   "id": "cad5f599-9f4e-4bed-9543-d8ee665b4801",
   "metadata": {
    "lang": "en"
   },
   "source": [
    "You can imagine objects as a new data type whose definition is given in a structure called class.\n",
    "Classes are often compared to cookie cutters and objects to the cookies themselves. While all cookies made from the same pan have the same shape, each one takes on individual attributes after baking. Things like color, texture, flavor... can be very different.\n",
    "In other words, the cookies share a manufacturing process and some attributes, but they are independent of each other and of the mold itself, and that makes each one unique.\n",
    "Extrapolating from the example, a class is just a script about how the objects that will be created with it should be."
   ]
  },
  {
   "cell_type": "markdown",
   "id": "4cf9bd1f-90e6-40fe-989b-68363309b08a",
   "metadata": {},
   "source": [
    "![clases](https://files.realpython.com/media/Object-Oriented-Programming-OOP-in-Python-3_Watermarked.0d29780806d5.jpg)"
   ]
  },
  {
   "cell_type": "markdown",
   "id": "cedb1f08-242a-4ced-9583-23b7b4937ab4",
   "metadata": {
    "lang": "en"
   },
   "source": [
    "### Fundamental Principles"
   ]
  },
  {
   "cell_type": "markdown",
   "id": "b80c6d8c-60e8-48be-891e-7e76edf3b0b4",
   "metadata": {
    "lang": "en"
   },
   "source": [
    "1 - **Data abstraction**: Something we do naturally in our understanding of the world is the abstraction of concrete information in concepts or classes. For example, the concept of \"car\" evokes in us an idea of ​​a vehicle with four wheels, a steering wheel, an engine... Our car is a specific \"instance\" of that concept, and different from other cars, but we are capable of associating certain properties or characteristics to said concept above specific details. This ability to abstract a concept is essential for the development of human language and, of course, such a good idea has been transferred to the world of programming. In OOP, we call the abstract concept \"class\" and the realization of that concept \"object\". Your car is concrete, you can drive it, it is an object, an \"instance\" of the class \"car\".\n",
    "   \n",
    "   2 - **Encapsulation**: Each type of object contains its own information and can be manipulated in a particular way. A car can be driven and has a certain pressure in the wheels, a color, a certain level of gasoline, etc. With a GPS we can obtain our position coordinates and the batteries will have a certain charge. A dog barks, has a weight, an age. All those attributes and \"methods\" are \"encapsulated\" within the object, and are accessible only through a given object. The advantage is that we don't need to have, for example, a list with names, another with ages, another with weights... but rather a list of objects and each one contains, that is, encapsulates, its own information.\n",
    "   \n",
    "   3 - **Inheritance**: Some classes can specialize others. For this, the specialized class \"inherits\" the properties of the more general class, called the \"superclass\". For example, the \"Car\" and \"Truck\" classes can inherit from the \"Vehicle\" class. This is a way of reusing code, by being able to assume those common properties between several classes in a superior class. Python supports \"multiple inheritance\", so a class can be defined as a subclass of several classes from which it would inherit all its properties (attributes and methods) at once.\n",
    "   \n",
    "   4 - **Polymorphism**: A square can be drawn, a circle as well, just as any other shape can be drawn. \"Square\" and \"Circle\" would be subclasses of \"Shape\". The \"Shape\" superclass implements a draw() method, and both the \"Square\" subclass and the \"Circle\" subclass override this method to their particular case. So a function could accept an object of type \"Shape\" as a parameter and call the draw() method without knowing if the passed argument is a circle or a square. Each object knows its level of specialization and the concrete implementation of its methods. This ability to use superclass methods in code but resolve to subclass methods at run time is called \"Polymorphism\": the same variable can take different forms."
   ]
  },
  {
   "cell_type": "markdown",
   "id": "cf5bf99e-3880-4b23-9615-6c4ac1a809ad",
   "metadata": {
    "lang": "en"
   },
   "source": [
    "## Classes and instances"
   ]
  },
  {
   "cell_type": "markdown",
   "id": "6fb08827-0519-48e7-947f-d417f4b53845",
   "metadata": {
    "lang": "en"
   },
   "source": [
    "A class is like an abstract type for objects that, in addition to storing values ​​called attributes, has associated a series of functions that we call methods. An instance of a class is the same as saying an object of that class. Instantiating a class refers to creating an object that belongs to that class.\n",
    "In Python, data types are classes, and any literal or variable of one of these types is an object that instantiates the type's class. For example: a = 2222 is equivalent to instantiating the PyLongObject class by assigning an internal attribute the value 2222. This is what happens at a low level, but we can consider that the variable a is of type int. We can know the type of any variable, that is, the class it instantiates, with the type() function, and the identifier of the instantiated object with the id() function."
   ]
  },
  {
   "cell_type": "code",
   "execution_count": null,
   "id": "aab8649d-2e3d-4374-8ca3-ac4333ef46ae",
   "metadata": {},
   "outputs": [],
   "source": [
    "# class car\n",
    "    # instance = fiat punto, red, 2000"
   ]
  },
  {
   "cell_type": "code",
   "execution_count": 12,
   "id": "0b6695e5-98c0-40fa-b916-3db359c0501d",
   "metadata": {},
   "outputs": [],
   "source": [
    "a = 33 #instance"
   ]
  },
  {
   "cell_type": "code",
   "execution_count": 13,
   "id": "42aa0011-a84e-4370-a2da-bcbf7ef61d59",
   "metadata": {},
   "outputs": [
    {
     "data": {
      "text/plain": [
       "int"
      ]
     },
     "execution_count": 13,
     "metadata": {},
     "output_type": "execute_result"
    }
   ],
   "source": [
    "type(a)"
   ]
  },
  {
   "cell_type": "code",
   "execution_count": null,
   "id": "9e6b8b29-3449-432e-bdf1-8a1670506366",
   "metadata": {},
   "outputs": [],
   "source": [
    "# class number /int -> int\n",
    "    # instances / examples / specific things -> "
   ]
  },
  {
   "cell_type": "code",
   "execution_count": 14,
   "id": "08e2aaeb-8be5-4a2c-b785-2f613f9b8409",
   "metadata": {},
   "outputs": [],
   "source": [
    "random_sentence = \"any sentence\""
   ]
  },
  {
   "cell_type": "code",
   "execution_count": 15,
   "id": "d80a25a3-dcc2-4c9d-bb58-0a2217fbc00e",
   "metadata": {},
   "outputs": [
    {
     "data": {
      "text/plain": [
       "str"
      ]
     },
     "execution_count": 15,
     "metadata": {},
     "output_type": "execute_result"
    }
   ],
   "source": [
    "type(random_sentence)"
   ]
  },
  {
   "cell_type": "code",
   "execution_count": null,
   "id": "458ea743-0cb1-4c8e-b31b-4d650307643b",
   "metadata": {},
   "outputs": [],
   "source": [
    "#random_sentence iis an instance of the class string"
   ]
  },
  {
   "cell_type": "markdown",
   "id": "284e1f6b-c951-4049-8e3f-600d104773a3",
   "metadata": {
    "lang": "en"
   },
   "source": [
    "To know all the methods and attributes of a class we can use the dir() function both on an object and on the class."
   ]
  },
  {
   "cell_type": "code",
   "execution_count": 16,
   "id": "fa9185a9-84bc-4348-8ec7-14331ded482f",
   "metadata": {
    "scrolled": true
   },
   "outputs": [
    {
     "data": {
      "text/plain": [
       "'ANY SENTENCE'"
      ]
     },
     "execution_count": 16,
     "metadata": {},
     "output_type": "execute_result"
    }
   ],
   "source": [
    "random_sentence.upper()"
   ]
  },
  {
   "cell_type": "code",
   "execution_count": null,
   "id": "34227e8d-e35d-4b6d-9e99-efa686149780",
   "metadata": {},
   "outputs": [],
   "source": [
    "car.drive_forward() # updating the location of the car"
   ]
  },
  {
   "cell_type": "code",
   "execution_count": 17,
   "id": "187dab63-4c14-45c7-9e2a-fa6630d79d34",
   "metadata": {
    "scrolled": true
   },
   "outputs": [
    {
     "data": {
      "text/plain": [
       "['__add__',\n",
       " '__class__',\n",
       " '__contains__',\n",
       " '__delattr__',\n",
       " '__dir__',\n",
       " '__doc__',\n",
       " '__eq__',\n",
       " '__format__',\n",
       " '__ge__',\n",
       " '__getattribute__',\n",
       " '__getitem__',\n",
       " '__getnewargs__',\n",
       " '__gt__',\n",
       " '__hash__',\n",
       " '__init__',\n",
       " '__init_subclass__',\n",
       " '__iter__',\n",
       " '__le__',\n",
       " '__len__',\n",
       " '__lt__',\n",
       " '__mod__',\n",
       " '__mul__',\n",
       " '__ne__',\n",
       " '__new__',\n",
       " '__reduce__',\n",
       " '__reduce_ex__',\n",
       " '__repr__',\n",
       " '__rmod__',\n",
       " '__rmul__',\n",
       " '__setattr__',\n",
       " '__sizeof__',\n",
       " '__str__',\n",
       " '__subclasshook__',\n",
       " 'capitalize',\n",
       " 'casefold',\n",
       " 'center',\n",
       " 'count',\n",
       " 'encode',\n",
       " 'endswith',\n",
       " 'expandtabs',\n",
       " 'find',\n",
       " 'format',\n",
       " 'format_map',\n",
       " 'index',\n",
       " 'isalnum',\n",
       " 'isalpha',\n",
       " 'isascii',\n",
       " 'isdecimal',\n",
       " 'isdigit',\n",
       " 'isidentifier',\n",
       " 'islower',\n",
       " 'isnumeric',\n",
       " 'isprintable',\n",
       " 'isspace',\n",
       " 'istitle',\n",
       " 'isupper',\n",
       " 'join',\n",
       " 'ljust',\n",
       " 'lower',\n",
       " 'lstrip',\n",
       " 'maketrans',\n",
       " 'partition',\n",
       " 'replace',\n",
       " 'rfind',\n",
       " 'rindex',\n",
       " 'rjust',\n",
       " 'rpartition',\n",
       " 'rsplit',\n",
       " 'rstrip',\n",
       " 'split',\n",
       " 'splitlines',\n",
       " 'startswith',\n",
       " 'strip',\n",
       " 'swapcase',\n",
       " 'title',\n",
       " 'translate',\n",
       " 'upper',\n",
       " 'zfill']"
      ]
     },
     "execution_count": 17,
     "metadata": {},
     "output_type": "execute_result"
    }
   ],
   "source": [
    "dir(str) # double under score -> internal python thingies"
   ]
  },
  {
   "cell_type": "code",
   "execution_count": 20,
   "id": "4088b2cd-8b27-46fa-9c19-909ba44b43ec",
   "metadata": {},
   "outputs": [
    {
     "data": {
      "text/plain": [
       "['capitalize',\n",
       " 'casefold',\n",
       " 'center',\n",
       " 'count',\n",
       " 'encode',\n",
       " 'endswith',\n",
       " 'expandtabs',\n",
       " 'find',\n",
       " 'format',\n",
       " 'index',\n",
       " 'isalnum',\n",
       " 'isalpha',\n",
       " 'isascii',\n",
       " 'isdecimal',\n",
       " 'isdigit',\n",
       " 'isidentifier',\n",
       " 'islower',\n",
       " 'isnumeric',\n",
       " 'isprintable',\n",
       " 'isspace',\n",
       " 'istitle',\n",
       " 'isupper',\n",
       " 'join',\n",
       " 'ljust',\n",
       " 'lower',\n",
       " 'lstrip',\n",
       " 'maketrans',\n",
       " 'partition',\n",
       " 'replace',\n",
       " 'rfind',\n",
       " 'rindex',\n",
       " 'rjust',\n",
       " 'rpartition',\n",
       " 'rsplit',\n",
       " 'rstrip',\n",
       " 'split',\n",
       " 'splitlines',\n",
       " 'startswith',\n",
       " 'strip',\n",
       " 'swapcase',\n",
       " 'title',\n",
       " 'translate',\n",
       " 'upper',\n",
       " 'zfill']"
      ]
     },
     "execution_count": 20,
     "metadata": {},
     "output_type": "execute_result"
    }
   ],
   "source": [
    "#random_string\n",
    "[element for element in dir(random_sentence) if \"_\" not in element]"
   ]
  },
  {
   "cell_type": "code",
   "execution_count": 22,
   "id": "180fba09-e2c9-49f4-bd08-7f09c55092c4",
   "metadata": {},
   "outputs": [],
   "source": [
    "one_string = \"Hello\"\n",
    "second_string = \", how are you?\""
   ]
  },
  {
   "cell_type": "markdown",
   "id": "508c2e07-cd1f-4524-82a4-76d8de296d4b",
   "metadata": {},
   "source": [
    "You don't need to master this, just know what the `.__something__` means. It's a dunder/magic methods. Meant for Python internally"
   ]
  },
  {
   "cell_type": "code",
   "execution_count": 24,
   "id": "7e1f7cb9-825c-4fe2-bc1c-e14ecaa4205c",
   "metadata": {},
   "outputs": [
    {
     "data": {
      "text/plain": [
       "'Hello, how are you?'"
      ]
     },
     "execution_count": 24,
     "metadata": {},
     "output_type": "execute_result"
    }
   ],
   "source": [
    "one_string + second_string # I can add them\n",
    "# because it is a methid / function of the class Str\n",
    "# so I can add two strings"
   ]
  },
  {
   "cell_type": "code",
   "execution_count": 27,
   "id": "75a573f9-9daf-48bf-a087-77bb29d2f34f",
   "metadata": {},
   "outputs": [
    {
     "ename": "TypeError",
     "evalue": "can only concatenate str (not \"int\") to str",
     "output_type": "error",
     "traceback": [
      "\u001b[0;31m---------------------------------------------------------------------------\u001b[0m",
      "\u001b[0;31mTypeError\u001b[0m                                 Traceback (most recent call last)",
      "Input \u001b[0;32mIn [27]\u001b[0m, in \u001b[0;36m<cell line: 1>\u001b[0;34m()\u001b[0m\n\u001b[0;32m----> 1\u001b[0m \u001b[43mone_string\u001b[49m\u001b[43m \u001b[49m\u001b[38;5;241;43m+\u001b[39;49m\u001b[43m \u001b[49m\u001b[38;5;241;43m1\u001b[39;49m\n",
      "\u001b[0;31mTypeError\u001b[0m: can only concatenate str (not \"int\") to str"
     ]
    }
   ],
   "source": [
    "one_string + 1"
   ]
  },
  {
   "cell_type": "code",
   "execution_count": 31,
   "id": "b65b70c4-cb9f-4e21-b31a-d4bcc3d52b21",
   "metadata": {},
   "outputs": [
    {
     "data": {
      "text/plain": [
       "'Hello, how are you?'"
      ]
     },
     "execution_count": 31,
     "metadata": {},
     "output_type": "execute_result"
    }
   ],
   "source": [
    "# one_string + second_string -> running this line\n",
    "# this thing happens\n",
    "one_string.__add__(second_string)"
   ]
  },
  {
   "cell_type": "code",
   "execution_count": null,
   "id": "493376c0-0bfe-4657-8f68-edab34dc99d1",
   "metadata": {},
   "outputs": [],
   "source": [
    "# You can ignore the __, but just know that they do things\n",
    "# that you use"
   ]
  },
  {
   "cell_type": "markdown",
   "id": "9ea2080c-987f-4490-9e24-b957f8b6e73b",
   "metadata": {},
   "source": [
    "#### mini-recap\n",
    "\n",
    "- classes: general concepts, ideas\n",
    "    - from which you can create: instances / objects\n",
    "   \n",
    "- classes: structure, template on which you create the instances\n",
    "    - class car -> fiat punto\n",
    "    \n",
    "- classes have functions / methods that do thingsa\n",
    "    - a string can be added (just like a car can go forward)\n",
    "    - we can check what an obejct can do using dir(object)\n",
    "    \n",
    "- classes or objects/instances \n",
    "    - information -> properties / attributes / variables. Eg.: wheel = 4\n",
    "    - instructions -> does things E.g.: moving forward\n",
    "    \n",
    "- str:\n",
    "    - attributes: len(str)\n",
    "    - instructions / methods / functions -> str.upper()\n",
    "                                            car.move_forward()"
   ]
  },
  {
   "cell_type": "markdown",
   "id": "d8d5c277-25fc-4259-9929-a8bf51463cca",
   "metadata": {
    "lang": "en"
   },
   "source": [
    "## Definition of a class"
   ]
  },
  {
   "cell_type": "markdown",
   "id": "e6b1aa47-2490-479b-a46d-99ef1147ebda",
   "metadata": {
    "lang": "en"
   },
   "source": [
    "We can define our own classes and indicate whether they inherit from others, what their internal attributes are, and what their methods are. Once the class is defined, it is possible to create objects from it. To create a class, simply group attributes and methods in the body of a **class** block.\n",
    "Imagine that you create software to manage a school, and you want to represent \"teachers\" in your Python code. Teachers will have some associated data (`attributes` in `class` jargon), and they will be able to *perform actions* through functions that we will call `methods` (again, `class` jargon).\n",
    "\n",
    "We could do it one by one:"
   ]
  },
  {
   "cell_type": "code",
   "execution_count": 33,
   "id": "5baeaf56-8b54-409a-8599-f3ecb84b50c2",
   "metadata": {},
   "outputs": [],
   "source": [
    "albert = {\n",
    "    \"name\": \"albert\",\n",
    "    \"fname\": \"coca\",\n",
    "    \"time_off\": 30,\n",
    "    \"greeting\": lambda : print(\"Hello guys!\"),\n",
    "    \"hobbies\": [\"surfing\", \"climbing\", \"reading\"]\n",
    "}"
   ]
  },
  {
   "cell_type": "code",
   "execution_count": null,
   "id": "fbe4c3c2-612b-403b-9c82-735cff34f4b0",
   "metadata": {},
   "outputs": [],
   "source": [
    "# str -> upper()\n",
    "# car -> forward()\n",
    "\n",
    "# greeting -> print(\"Hello!\")"
   ]
  },
  {
   "cell_type": "code",
   "execution_count": 35,
   "id": "7c80acf5-a5ae-4619-93c1-f09337d57b74",
   "metadata": {},
   "outputs": [
    {
     "name": "stdout",
     "output_type": "stream",
     "text": [
      "\n"
     ]
    }
   ],
   "source": [
    "print(\"\") # built-in python function\n",
    "# it does things\n",
    "# it takes an argument"
   ]
  },
  {
   "cell_type": "code",
   "execution_count": 39,
   "id": "f4dbab25-dc68-4332-805e-f0bdb105e06e",
   "metadata": {},
   "outputs": [],
   "source": [
    "names = [\"laura\"]\n",
    "fname = [\"molas\"]\n",
    "time_off = []"
   ]
  },
  {
   "cell_type": "code",
   "execution_count": 40,
   "id": "c0cdc062-ce2e-477e-af04-3c1f4f0aef26",
   "metadata": {},
   "outputs": [],
   "source": [
    "laura = {\n",
    "    \"name\": \"laura\",\n",
    "    \"fname\": \"molas\",\n",
    "    \"time_off\": 20,\n",
    "    \"greeting\": lambda : print(\"Hey everyone!\"),\n",
    "    \"hobbies\": [\"surfing\", \"skating\", \"reading\"]\n",
    "}"
   ]
  },
  {
   "cell_type": "code",
   "execution_count": 41,
   "id": "895f9c8d-bc90-417f-bd51-9be24d2d8ecb",
   "metadata": {},
   "outputs": [
    {
     "data": {
      "text/plain": [
       "'molas'"
      ]
     },
     "execution_count": 41,
     "metadata": {},
     "output_type": "execute_result"
    }
   ],
   "source": [
    "laura[\"fname\"] # more comfortable than many lists"
   ]
  },
  {
   "cell_type": "code",
   "execution_count": 43,
   "id": "c1b1265a-85a2-4880-b36a-28287d59b206",
   "metadata": {},
   "outputs": [
    {
     "data": {
      "text/plain": [
       "'molas'"
      ]
     },
     "execution_count": 43,
     "metadata": {},
     "output_type": "execute_result"
    }
   ],
   "source": [
    "lfname = fname[0]\n",
    "lfname"
   ]
  },
  {
   "cell_type": "code",
   "execution_count": null,
   "id": "c19e40d4-9d35-4082-99d2-e298741f31b0",
   "metadata": {},
   "outputs": [],
   "source": [
    "thiago = {\n",
    "    \"name\": \"thiago\",\n",
    "    \"fname\": \"molas\",\n",
    "    \"time_off\": 20,\n",
    "    \"greeting\": lambda : print(\"Hey everyone!\"),\n",
    "    \"hobbies\": [\"surfing\", \"skating\", \"reading\"]\n",
    "}"
   ]
  },
  {
   "cell_type": "code",
   "execution_count": null,
   "id": "bc69f377-86af-4dfb-b223-7e26909a9d2d",
   "metadata": {},
   "outputs": [],
   "source": [
    "# class Car\n",
    "    # wheels\n",
    "    # move directions"
   ]
  },
  {
   "cell_type": "code",
   "execution_count": null,
   "id": "e735e4f2-7724-4c88-916f-514dcb0a1157",
   "metadata": {},
   "outputs": [],
   "source": [
    "# ffiat punto -> wheels & move directions\n",
    "# mercedes -> wheels & move directions"
   ]
  },
  {
   "cell_type": "code",
   "execution_count": 53,
   "id": "817a9bd8-129c-4bf6-b9eb-f2e01c8f4a5f",
   "metadata": {},
   "outputs": [],
   "source": [
    "def operations (a, b):\n",
    "    c = a + b\n",
    "    d = c / 2\n",
    "    return d"
   ]
  },
  {
   "cell_type": "code",
   "execution_count": 54,
   "id": "99942183-a261-4438-bbab-114d08801d41",
   "metadata": {},
   "outputs": [
    {
     "data": {
      "text/plain": [
       "3.5"
      ]
     },
     "execution_count": 54,
     "metadata": {},
     "output_type": "execute_result"
    }
   ],
   "source": [
    "operations (3, 4)"
   ]
  },
  {
   "cell_type": "code",
   "execution_count": 57,
   "id": "5635ae0e-c60e-4c0c-add3-861c1966a595",
   "metadata": {},
   "outputs": [],
   "source": [
    "a = 0\n",
    "b = 10"
   ]
  },
  {
   "cell_type": "code",
   "execution_count": 58,
   "id": "4440bb3d-ae68-4e23-83fb-29a37b39f018",
   "metadata": {},
   "outputs": [
    {
     "name": "stdout",
     "output_type": "stream",
     "text": [
      "5.0\n"
     ]
    }
   ],
   "source": [
    "c = a + b\n",
    "d = c / 2\n",
    "print(d)"
   ]
  },
  {
   "cell_type": "code",
   "execution_count": 59,
   "id": "2e62fc10-1ce4-4f57-b5ef-ecd068c38235",
   "metadata": {},
   "outputs": [],
   "source": [
    "# Encapsulation of code\n",
    "    # for classes\n",
    "    # also for functions\n",
    "# sanity & good practices"
   ]
  },
  {
   "cell_type": "markdown",
   "id": "2d62e6e2-8a67-4e43-85f0-53a29f2509a2",
   "metadata": {},
   "source": [
    "### Self: "
   ]
  },
  {
   "cell_type": "code",
   "execution_count": null,
   "id": "3e66cffc-fb18-41fc-8c20-efc3d5920ca9",
   "metadata": {},
   "outputs": [],
   "source": []
  },
  {
   "cell_type": "markdown",
   "id": "99b662f2-26be-4f5f-ba79-30543752d102",
   "metadata": {
    "lang": "en"
   },
   "source": [
    "I leave you [here](https://realpython.com/python-pep8/#naming-styles) a realpython article about the conventions for naming things (by things I mean variables, classes, functions... code tidbits )\n",
    "The Python user community has adopted a style guide that makes code easier to read and consistent between different user programs. This guide is not mandatory to follow, but it is highly recommended."
   ]
  },
  {
   "cell_type": "markdown",
   "id": "23b19fcc-8041-4110-b420-9eb8eefa3d52",
   "metadata": {},
   "source": [
    "#### Defining a function"
   ]
  },
  {
   "cell_type": "code",
   "execution_count": 60,
   "id": "c8e86962-cbbd-431f-942b-b2eec8cd8ea8",
   "metadata": {},
   "outputs": [],
   "source": [
    "def name_surname (name_):\n",
    "    return f\"Hello this is my {name_}\""
   ]
  },
  {
   "cell_type": "markdown",
   "id": "8888032e-4833-4c76-aba4-f6cbf07755d6",
   "metadata": {},
   "source": [
    "#### Calling a function"
   ]
  },
  {
   "cell_type": "code",
   "execution_count": 61,
   "id": "5d3c72d9-c04c-496e-9054-ea3ce5bb2e43",
   "metadata": {},
   "outputs": [
    {
     "data": {
      "text/plain": [
       "'Hello this is my Sam'"
      ]
     },
     "execution_count": 61,
     "metadata": {},
     "output_type": "execute_result"
    }
   ],
   "source": [
    "name(\"Sam\")"
   ]
  },
  {
   "cell_type": "markdown",
   "id": "3fdca23f-6276-4d09-a0c9-274dd30b0391",
   "metadata": {},
   "source": [
    "#### Defining a class"
   ]
  },
  {
   "cell_type": "code",
   "execution_count": 63,
   "id": "a1d58c26-c3b8-40cf-b099-fb26d21d1c70",
   "metadata": {},
   "outputs": [],
   "source": [
    "class Staff ():\n",
    "    pass"
   ]
  },
  {
   "cell_type": "markdown",
   "id": "f32a62c1-2c41-43c9-bced-b960740e341b",
   "metadata": {},
   "source": [
    "#### Instansiating a class"
   ]
  },
  {
   "cell_type": "code",
   "execution_count": 64,
   "id": "2b0f3e97-feae-45ca-926e-a049ee00f74e",
   "metadata": {},
   "outputs": [],
   "source": [
    "# creating an object from a class\n",
    "    # making a fiat out of the class Car()"
   ]
  },
  {
   "cell_type": "code",
   "execution_count": 65,
   "id": "33ec0270-a258-4465-ab5c-a57b412f8a73",
   "metadata": {},
   "outputs": [],
   "source": [
    "laura = Staff()"
   ]
  },
  {
   "cell_type": "markdown",
   "id": "691d6668-9d00-4483-9acd-81ae6a7a14b5",
   "metadata": {},
   "source": [
    "### Exploring a class"
   ]
  },
  {
   "cell_type": "code",
   "execution_count": 66,
   "id": "79031ca6-9e18-45dc-ac76-daad472bbcae",
   "metadata": {},
   "outputs": [
    {
     "data": {
      "text/plain": [
       "__main__.Staff"
      ]
     },
     "execution_count": 66,
     "metadata": {},
     "output_type": "execute_result"
    }
   ],
   "source": [
    "type(laura)"
   ]
  },
  {
   "cell_type": "code",
   "execution_count": 67,
   "id": "5c86070d-b1d9-43b2-bf66-2e1f212f264f",
   "metadata": {},
   "outputs": [
    {
     "data": {
      "text/plain": [
       "True"
      ]
     },
     "execution_count": 67,
     "metadata": {},
     "output_type": "execute_result"
    }
   ],
   "source": [
    "isinstance(laura, Staff)"
   ]
  },
  {
   "cell_type": "code",
   "execution_count": 69,
   "id": "8e8235cc-c7e2-4db0-a2a0-cb8a0e0b781f",
   "metadata": {},
   "outputs": [],
   "source": [
    "clara = {}"
   ]
  },
  {
   "cell_type": "code",
   "execution_count": 70,
   "id": "0cd5358e-7f55-48e0-ac88-ce16bfc53d58",
   "metadata": {},
   "outputs": [
    {
     "data": {
      "text/plain": [
       "False"
      ]
     },
     "execution_count": 70,
     "metadata": {},
     "output_type": "execute_result"
    }
   ],
   "source": [
    "isinstance(clara, Staff)"
   ]
  },
  {
   "cell_type": "code",
   "execution_count": 71,
   "id": "967c889c-bbc9-4928-822b-dda399c47873",
   "metadata": {},
   "outputs": [],
   "source": [
    "laura = Staff()\n",
    "albert = Staff()\n",
    "clara = Staff()"
   ]
  },
  {
   "cell_type": "code",
   "execution_count": 73,
   "id": "502ba9a4-0d00-4e05-a496-d369455de460",
   "metadata": {},
   "outputs": [
    {
     "data": {
      "text/plain": [
       "[]"
      ]
     },
     "execution_count": 73,
     "metadata": {},
     "output_type": "execute_result"
    }
   ],
   "source": [
    "[element for element in dir(albert) if \"_\" not in element]"
   ]
  },
  {
   "cell_type": "markdown",
   "id": "04300c4b-d6dd-4971-b16d-47bb9c4df770",
   "metadata": {},
   "source": [
    "### Instance Attributes\n",
    "They contain data that is unique to each instance."
   ]
  },
  {
   "cell_type": "code",
   "execution_count": 74,
   "id": "9703dd6c-1d2f-4a8f-840e-17f3a7a29233",
   "metadata": {},
   "outputs": [],
   "source": [
    "laura.age = 30"
   ]
  },
  {
   "cell_type": "code",
   "execution_count": 76,
   "id": "0839e97e-481b-493b-b446-f02f3ddca097",
   "metadata": {},
   "outputs": [],
   "source": [
    "laura.fname = \"molas\""
   ]
  },
  {
   "cell_type": "code",
   "execution_count": 77,
   "id": "605c08b6-8f03-4643-9796-e03ff761b2be",
   "metadata": {},
   "outputs": [
    {
     "data": {
      "text/plain": [
       "{'age': 30, 'fname': 'molas'}"
      ]
     },
     "execution_count": 77,
     "metadata": {},
     "output_type": "execute_result"
    }
   ],
   "source": [
    "laura.__dict__"
   ]
  },
  {
   "cell_type": "code",
   "execution_count": 78,
   "id": "94d4316f-9aa0-43ca-a296-87a0fb8603d9",
   "metadata": {},
   "outputs": [],
   "source": [
    "# age & name -> attributes"
   ]
  },
  {
   "cell_type": "code",
   "execution_count": 79,
   "id": "3f64f1c3-ac30-4f62-be8c-0a3981e8795c",
   "metadata": {},
   "outputs": [],
   "source": [
    "class Cookie ():\n",
    "    pass"
   ]
  },
  {
   "cell_type": "code",
   "execution_count": 80,
   "id": "d55aa1b3-1696-4e7c-b147-704b6387efc2",
   "metadata": {},
   "outputs": [],
   "source": [
    "chocolate_cookie = Cookie ()"
   ]
  },
  {
   "cell_type": "code",
   "execution_count": 81,
   "id": "c9476d9b-7772-4e69-a4f4-1d2fe4b4b804",
   "metadata": {},
   "outputs": [],
   "source": [
    "chocolate_cookie.chocolate_chips = 10"
   ]
  },
  {
   "cell_type": "code",
   "execution_count": 82,
   "id": "b5a65159-4e97-4a3e-9301-2c0c68f55e1d",
   "metadata": {},
   "outputs": [
    {
     "data": {
      "text/plain": [
       "{'chocolate_chips': 10}"
      ]
     },
     "execution_count": 82,
     "metadata": {},
     "output_type": "execute_result"
    }
   ],
   "source": [
    "chocolate_cookie.__dict__"
   ]
  },
  {
   "cell_type": "code",
   "execution_count": 83,
   "id": "0ceb6097-32b3-405a-995c-d8f2755cfa79",
   "metadata": {},
   "outputs": [],
   "source": [
    "peanut_butter_cookie = Cookie ()"
   ]
  },
  {
   "cell_type": "code",
   "execution_count": 84,
   "id": "d80ce533-ef64-4654-91aa-e5a0b5ca707c",
   "metadata": {},
   "outputs": [],
   "source": [
    "peanut_butter_cookie.shape = \"circular\""
   ]
  },
  {
   "cell_type": "code",
   "execution_count": 85,
   "id": "ac9759b8-b9e2-4336-98b8-2b41cacf4dad",
   "metadata": {},
   "outputs": [
    {
     "data": {
      "text/plain": [
       "{'shape': 'circular'}"
      ]
     },
     "execution_count": 85,
     "metadata": {},
     "output_type": "execute_result"
    }
   ],
   "source": [
    "peanut_butter_cookie.__dict__"
   ]
  },
  {
   "cell_type": "markdown",
   "id": "404999ad-4d46-42a5-8503-934c1263e67b",
   "metadata": {
    "lang": "en"
   },
   "source": [
    "Instead of doing it one by one, we can create these variables each time an object is instantiated with the special `__init__` method. This function defines all the actions that should be performed when we create a new object. The reason we have two underscores before and after the function name is to indicate that this function is internal to the object and should not be called from outside the object."
   ]
  },
  {
   "cell_type": "code",
   "execution_count": null,
   "id": "9081918d-b436-4edd-bb84-550533cedea9",
   "metadata": {},
   "outputs": [],
   "source": [
    "class Staff ():\n",
    "    \n",
    "    name = \n",
    "    fname = \n",
    "    time_off = "
   ]
  },
  {
   "cell_type": "code",
   "execution_count": 87,
   "id": "7c16c9ea-3fdf-49cf-b8b5-d5a8974c8289",
   "metadata": {},
   "outputs": [],
   "source": [
    "albert = {\n",
    "    \"name\": \"albert\",\n",
    "    \"fname\": \"coca\",\n",
    "    \"time_off\": 30,\n",
    "    \"greeting\": lambda : print(\"Hello guys!\"),\n",
    "    \"hobbies\": [\"surfing\", \"climbing\", \"reading\"]\n",
    "}"
   ]
  },
  {
   "cell_type": "code",
   "execution_count": 88,
   "id": "0764bba9-d3de-42da-9f17-eb1212e14cbd",
   "metadata": {},
   "outputs": [
    {
     "data": {
      "text/plain": [
       "'coca'"
      ]
     },
     "execution_count": 88,
     "metadata": {},
     "output_type": "execute_result"
    }
   ],
   "source": [
    "albert[\"fname\"]\n",
    "self[\"fname\"] #doesnt work outside of an instance\n",
    "#variable[\"key\"]"
   ]
  },
  {
   "cell_type": "code",
   "execution_count": 112,
   "id": "f453a040-6fc2-4eec-b18f-5ad19a903fa8",
   "metadata": {},
   "outputs": [],
   "source": [
    "class Staff ():\n",
    "    \n",
    "    def __init__(self, name, fname, time_off): # Allow me to create instances with the properties\n",
    "        self.name = name \n",
    "        self.fname = fname\n",
    "        self.time_off = time_off"
   ]
  },
  {
   "cell_type": "code",
   "execution_count": 105,
   "id": "fcd1d039-bd44-44f0-8a8e-8e96db0da03f",
   "metadata": {},
   "outputs": [],
   "source": [
    "# when creating a new instance\n",
    "# wee need all these properties to be created\n",
    "# along with the instance"
   ]
  },
  {
   "cell_type": "code",
   "execution_count": 106,
   "id": "f9a050db-d51e-49d4-bf06-f58c137b3963",
   "metadata": {},
   "outputs": [],
   "source": [
    "clara = Staff(\"Clara\", \"Fernández\", 30)"
   ]
  },
  {
   "cell_type": "code",
   "execution_count": 107,
   "id": "91cab1b5-32a4-4a10-a00a-ca3b22061634",
   "metadata": {},
   "outputs": [],
   "source": [
    "albert = Staff (\"Albert\", \"Coca\", 25)"
   ]
  },
  {
   "cell_type": "code",
   "execution_count": 108,
   "id": "1211c919-18d3-4a2f-a25f-5619821d2595",
   "metadata": {},
   "outputs": [],
   "source": [
    "laura = Staff(\"Laura\", \"Molas\", 26)"
   ]
  },
  {
   "cell_type": "code",
   "execution_count": 109,
   "id": "3f044243-97c2-4811-a1af-f32b2da169ef",
   "metadata": {},
   "outputs": [
    {
     "data": {
      "text/plain": [
       "'Fernández'"
      ]
     },
     "execution_count": 109,
     "metadata": {},
     "output_type": "execute_result"
    }
   ],
   "source": [
    "clara.fname"
   ]
  },
  {
   "cell_type": "code",
   "execution_count": 110,
   "id": "39fab585-7b18-4636-9594-8652b2781eaa",
   "metadata": {},
   "outputs": [
    {
     "data": {
      "text/plain": [
       "25"
      ]
     },
     "execution_count": 110,
     "metadata": {},
     "output_type": "execute_result"
    }
   ],
   "source": [
    "albert.time_off"
   ]
  },
  {
   "cell_type": "code",
   "execution_count": 111,
   "id": "5664d00b-c6c6-4e6b-b6c5-9bbfef9f6521",
   "metadata": {},
   "outputs": [
    {
     "data": {
      "text/plain": [
       "{'name': 'Clara', 'fname': 'Fernández', 'time_off': 30}"
      ]
     },
     "execution_count": 111,
     "metadata": {},
     "output_type": "execute_result"
    }
   ],
   "source": [
    "clara.__dict__"
   ]
  },
  {
   "cell_type": "code",
   "execution_count": 116,
   "id": "c0a8f88b-f2e5-42b9-af8a-fc75b2a7df5a",
   "metadata": {},
   "outputs": [
    {
     "data": {
      "text/plain": [
       "30"
      ]
     },
     "execution_count": 116,
     "metadata": {},
     "output_type": "execute_result"
    }
   ],
   "source": [
    "holidays_clara = clara.time_off\n",
    "holidays_clara"
   ]
  },
  {
   "cell_type": "code",
   "execution_count": 114,
   "id": "d2e8ee78-0140-4370-9943-8b03c17d1dee",
   "metadata": {},
   "outputs": [
    {
     "data": {
      "text/plain": [
       "<__main__.Staff at 0x7f874ab27130>"
      ]
     },
     "execution_count": 114,
     "metadata": {},
     "output_type": "execute_result"
    }
   ],
   "source": [
    "laura"
   ]
  },
  {
   "cell_type": "markdown",
   "id": "0ed10008-cc02-412f-9f2d-5213bbb80ed2",
   "metadata": {
    "lang": "en"
   },
   "source": [
    "What does self do? It indicates that the data we are entering is for the object we are creating."
   ]
  },
  {
   "cell_type": "code",
   "execution_count": 221,
   "id": "da8c3ea1-bbe8-4093-932a-9d654009e7a3",
   "metadata": {},
   "outputs": [],
   "source": [
    "class Staff ():\n",
    "    \n",
    "    def __init__(self, name, fname, time_off): # Allow me to create instances with the properties\n",
    "        self.name = name \n",
    "        self.fname = fname\n",
    "        self.time_off = time_off\n",
    "        \n",
    "        self.email = self.name.lower() + \".\" + self.fname.lower() + \"@ironhack.com\""
   ]
  },
  {
   "cell_type": "code",
   "execution_count": 122,
   "id": "0653f90a-bb62-4e27-9c76-beef407faea2",
   "metadata": {},
   "outputs": [],
   "source": [
    "# clara.fernandez@ironhack.com"
   ]
  },
  {
   "cell_type": "code",
   "execution_count": 123,
   "id": "df6c5fbc-51e9-496d-9405-47f7f4d9555e",
   "metadata": {},
   "outputs": [],
   "source": [
    "clara = Staff (\"Clara\", \"Fernández\", 30) #I didn't declare e-mail"
   ]
  },
  {
   "cell_type": "code",
   "execution_count": 124,
   "id": "752173d8-a3ae-4df6-b787-aba9b8a62cfe",
   "metadata": {},
   "outputs": [
    {
     "data": {
      "text/plain": [
       "'clara.fernández@ironhack.com'"
      ]
     },
     "execution_count": 124,
     "metadata": {},
     "output_type": "execute_result"
    }
   ],
   "source": [
    "clara.email"
   ]
  },
  {
   "cell_type": "code",
   "execution_count": 125,
   "id": "9686682b-3a8d-402d-bbdd-61b7dcd80932",
   "metadata": {},
   "outputs": [
    {
     "data": {
      "text/plain": [
       "'albert.coca@ironhack.com'"
      ]
     },
     "execution_count": 125,
     "metadata": {},
     "output_type": "execute_result"
    }
   ],
   "source": [
    "albert = Staff (\"Albert\", \"Coca\", 25)\n",
    "albert.email"
   ]
  },
  {
   "cell_type": "markdown",
   "id": "e3ed5313-fc9d-4940-bd13-46e80f55c93a",
   "metadata": {
    "lang": "en"
   },
   "source": [
    "#### Default attributes\n",
    "\n",
    "We can initialize the attributes with a default value in case later, when creating the instances, the user or ourselves do not put anything in any of the attributes"
   ]
  },
  {
   "cell_type": "code",
   "execution_count": 127,
   "id": "090209ae-f5f5-483a-b61a-5a89fb94f027",
   "metadata": {},
   "outputs": [],
   "source": [
    "class Staff ():\n",
    "    \n",
    "    def __init__(self, name, fname, time_off=30): # Allow me to create instances with the properties\n",
    "        self.name = name \n",
    "        self.fname = fname\n",
    "        self.time_off = time_off\n",
    "        \n",
    "        self.email = self.name.lower() + \".\" + self.fname.lower() + \"@ironhack.com\""
   ]
  },
  {
   "cell_type": "code",
   "execution_count": 129,
   "id": "185663e0-69dd-461b-961a-6a92387affc3",
   "metadata": {},
   "outputs": [
    {
     "data": {
      "text/plain": [
       "30"
      ]
     },
     "execution_count": 129,
     "metadata": {},
     "output_type": "execute_result"
    }
   ],
   "source": [
    "albert = Staff (\"Albert\", \"Coca\")\n",
    "albert.time_off"
   ]
  },
  {
   "cell_type": "markdown",
   "id": "e9fec952-898f-46dc-aa03-4c91fa5207e9",
   "metadata": {
    "lang": "en"
   },
   "source": [
    "### Instance Methods"
   ]
  },
  {
   "cell_type": "code",
   "execution_count": 141,
   "id": "8dc2c7ed-1924-48b2-9680-41bd3d7c4eec",
   "metadata": {},
   "outputs": [
    {
     "data": {
      "text/plain": [
       "22"
      ]
     },
     "execution_count": 141,
     "metadata": {},
     "output_type": "execute_result"
    }
   ],
   "source": [
    "albert.time_off = albert.time_off - 1\n",
    "albert.time_off"
   ]
  },
  {
   "cell_type": "code",
   "execution_count": 142,
   "id": "33e23222-9cfb-4cfc-8bda-8c2596c57d1b",
   "metadata": {},
   "outputs": [
    {
     "data": {
      "text/plain": [
       "{'name': 'Albert',\n",
       " 'fname': 'Coca',\n",
       " 'time_off': 22,\n",
       " 'email': 'albert.coca@ironhack.com'}"
      ]
     },
     "execution_count": 142,
     "metadata": {},
     "output_type": "execute_result"
    }
   ],
   "source": [
    "albert.__dict__"
   ]
  },
  {
   "cell_type": "markdown",
   "id": "20f5302c-3c89-409d-96f8-d378c216a701",
   "metadata": {
    "lang": "en"
   },
   "source": [
    "They are functions within the classes that will save us a lot of time"
   ]
  },
  {
   "cell_type": "code",
   "execution_count": 159,
   "id": "f6e97d5c-4466-43c5-ae7d-71380cab59b7",
   "metadata": {},
   "outputs": [],
   "source": [
    "class Staff ():\n",
    "    \n",
    "    def __init__(self, name, fname, time_off=30): # Allow me to create instances with the properties\n",
    "        self.name = name \n",
    "        self.fname = fname\n",
    "        self.time_off = time_off\n",
    "        \n",
    "        self.email = self.name.lower() + \".\" + self.fname.lower() + \"@ironhack.com\"\n",
    "        \n",
    "    def greeting (self):\n",
    "        print(\"Hello everyone!\")"
   ]
  },
  {
   "cell_type": "code",
   "execution_count": 160,
   "id": "ac419f56-3134-4601-be58-9e6b6987c83c",
   "metadata": {},
   "outputs": [],
   "source": [
    "albert = Staff(\"Albert\", \"Coca\")"
   ]
  },
  {
   "cell_type": "code",
   "execution_count": 161,
   "id": "1c020198-b50a-4464-9e9f-36652a136f1a",
   "metadata": {},
   "outputs": [
    {
     "data": {
      "text/plain": [
       "30"
      ]
     },
     "execution_count": 161,
     "metadata": {},
     "output_type": "execute_result"
    }
   ],
   "source": [
    "albert.time_off # .something -> value of the attribute / property | INFORMATION"
   ]
  },
  {
   "cell_type": "code",
   "execution_count": 162,
   "id": "cdd9bb58-832e-48c8-a041-b1d62019ae57",
   "metadata": {},
   "outputs": [
    {
     "name": "stdout",
     "output_type": "stream",
     "text": [
      "Hello everyone!\n"
     ]
    }
   ],
   "source": [
    "albert.greeting() # .something() -> running a function | INSTRUCTIONS, methods, functions"
   ]
  },
  {
   "cell_type": "code",
   "execution_count": 163,
   "id": "31ddbb40-17db-474d-90e5-4c549bcc7bd7",
   "metadata": {},
   "outputs": [
    {
     "data": {
      "text/plain": [
       "'A'"
      ]
     },
     "execution_count": 163,
     "metadata": {},
     "output_type": "execute_result"
    }
   ],
   "source": [
    "\"a\".upper()"
   ]
  },
  {
   "cell_type": "code",
   "execution_count": 164,
   "id": "578f777f-bf2c-4b43-bab2-bcd7f1a55bc4",
   "metadata": {},
   "outputs": [],
   "source": [
    "#[element for element in dir(str) if \"_\" not in element]"
   ]
  },
  {
   "cell_type": "code",
   "execution_count": 195,
   "id": "9b6362c7-7b82-42d8-bb76-d6ebf36fd9ed",
   "metadata": {},
   "outputs": [],
   "source": [
    "class Staff ():\n",
    "    \n",
    "    def __init__(self, name, fname, time_off=30): # Allow me to create instances with the properties\n",
    "        self.name = name \n",
    "        self.fname = fname\n",
    "        self.time_off = time_off\n",
    "        \n",
    "        self.email = self.name.lower() + \".\" + self.fname.lower() + \"@ironhack.com\"\n",
    "        \n",
    "    def greeting (self):\n",
    "        print(\"Hello everyone!\")\n",
    "        \n",
    "    def takes_days_off (self):\n",
    "        if self.time_off > 0:\n",
    "            self.time_off -= 1\n",
    "            return f\"I know have {self.time_off} available for me to take\"\n",
    "        else:\n",
    "            return \"No more days off, your total is 0\""
   ]
  },
  {
   "cell_type": "code",
   "execution_count": 196,
   "id": "108d9165-3d44-4a01-b86c-80094bed5a59",
   "metadata": {},
   "outputs": [
    {
     "data": {
      "text/plain": [
       "{'name': 'ALbert',\n",
       " 'fname': 'Coca',\n",
       " 'time_off': 30,\n",
       " 'email': 'albert.coca@ironhack.com'}"
      ]
     },
     "execution_count": 196,
     "metadata": {},
     "output_type": "execute_result"
    }
   ],
   "source": [
    "albert = Staff (\"ALbert\", \"Coca\")\n",
    "albert.__dict__"
   ]
  },
  {
   "cell_type": "code",
   "execution_count": 230,
   "id": "bacc8aba-7616-4e1d-ae62-405ef3d9a64d",
   "metadata": {},
   "outputs": [
    {
     "data": {
      "text/plain": [
       "'No more days off, your total is 0'"
      ]
     },
     "execution_count": 230,
     "metadata": {},
     "output_type": "execute_result"
    }
   ],
   "source": [
    "albert.takes_days_off()"
   ]
  },
  {
   "cell_type": "code",
   "execution_count": 191,
   "id": "88aede6b-a184-4d4a-9045-22b3616a3f76",
   "metadata": {},
   "outputs": [
    {
     "data": {
      "text/plain": [
       "'I know have 18 available for me to take'"
      ]
     },
     "execution_count": 191,
     "metadata": {},
     "output_type": "execute_result"
    }
   ],
   "source": [
    "#clara = Staff (\"Clara\", \"Fdz\")\n",
    "clara.takes_days_off()"
   ]
  },
  {
   "cell_type": "code",
   "execution_count": 192,
   "id": "8a6d1daf-e5e5-46b9-845a-4c5cddb08022",
   "metadata": {},
   "outputs": [
    {
     "data": {
      "text/plain": [
       "{'name': 'Clara',\n",
       " 'fname': 'Fdz',\n",
       " 'time_off': 18,\n",
       " 'email': 'clara.fdz@ironhack.com'}"
      ]
     },
     "execution_count": 192,
     "metadata": {},
     "output_type": "execute_result"
    }
   ],
   "source": [
    "clara.__dict__"
   ]
  },
  {
   "cell_type": "code",
   "execution_count": 193,
   "id": "559aed23-6e60-4f28-8779-79627a3776b2",
   "metadata": {},
   "outputs": [
    {
     "data": {
      "text/plain": [
       "18"
      ]
     },
     "execution_count": 193,
     "metadata": {},
     "output_type": "execute_result"
    }
   ],
   "source": [
    "clara.time_off"
   ]
  },
  {
   "cell_type": "code",
   "execution_count": 232,
   "id": "0e500092-17f4-4741-a54c-688caa5aa60c",
   "metadata": {},
   "outputs": [],
   "source": [
    "def greeting ():\n",
    "    print(\"Hello everyone!\")"
   ]
  },
  {
   "cell_type": "code",
   "execution_count": 233,
   "id": "ff16e0a7-2a23-4e39-a502-7ae47104f4ba",
   "metadata": {},
   "outputs": [
    {
     "name": "stdout",
     "output_type": "stream",
     "text": [
      "Hello everyone!\n"
     ]
    }
   ],
   "source": [
    "greeting()"
   ]
  },
  {
   "cell_type": "code",
   "execution_count": 234,
   "id": "8fec1524-ece9-44a9-8e18-027f4ead0923",
   "metadata": {},
   "outputs": [],
   "source": [
    "def greeting (name):\n",
    "    print(f\"Hello everyone, I'm {name}!\")"
   ]
  },
  {
   "cell_type": "code",
   "execution_count": 235,
   "id": "c798b0d5-e63f-45a1-a30a-4ced2e281adc",
   "metadata": {},
   "outputs": [
    {
     "name": "stdout",
     "output_type": "stream",
     "text": [
      "Hello everyone, I'm Clara!\n"
     ]
    }
   ],
   "source": [
    "greeting (\"Clara\")"
   ]
  },
  {
   "cell_type": "code",
   "execution_count": 236,
   "id": "d167bbde-15bf-444c-b561-aebc094dc847",
   "metadata": {},
   "outputs": [
    {
     "name": "stdout",
     "output_type": "stream",
     "text": [
      "Hello everyone, I'm Albert!\n"
     ]
    }
   ],
   "source": [
    "greeting (\"Albert\")"
   ]
  },
  {
   "cell_type": "code",
   "execution_count": 237,
   "id": "50d57032-ede4-4c8c-aa20-fa55a785664b",
   "metadata": {},
   "outputs": [
    {
     "name": "stdout",
     "output_type": "stream",
     "text": [
      "Hello everyone!\n"
     ]
    }
   ],
   "source": [
    "albert.greeting()"
   ]
  },
  {
   "cell_type": "code",
   "execution_count": 238,
   "id": "63e95bfa-b1cc-4a90-be86-b9a9ea010e4b",
   "metadata": {},
   "outputs": [
    {
     "ename": "AttributeError",
     "evalue": "'Staff' object has no attribute 'greeting'",
     "output_type": "error",
     "traceback": [
      "\u001b[0;31m---------------------------------------------------------------------------\u001b[0m",
      "\u001b[0;31mAttributeError\u001b[0m                            Traceback (most recent call last)",
      "Input \u001b[0;32mIn [238]\u001b[0m, in \u001b[0;36m<cell line: 1>\u001b[0;34m()\u001b[0m\n\u001b[0;32m----> 1\u001b[0m \u001b[43mlaura\u001b[49m\u001b[38;5;241;43m.\u001b[39;49m\u001b[43mgreeting\u001b[49m()\n",
      "\u001b[0;31mAttributeError\u001b[0m: 'Staff' object has no attribute 'greeting'"
     ]
    }
   ],
   "source": [
    "laura.greeting()"
   ]
  },
  {
   "cell_type": "code",
   "execution_count": 241,
   "id": "9e3e55e6-5e91-4784-a708-d7964197b7aa",
   "metadata": {},
   "outputs": [
    {
     "data": {
      "text/plain": [
       "10"
      ]
     },
     "execution_count": 241,
     "metadata": {},
     "output_type": "execute_result"
    }
   ],
   "source": [
    "albert.time_off = 10\n",
    "albert.time_off"
   ]
  },
  {
   "cell_type": "code",
   "execution_count": 222,
   "id": "e066998b-f40a-4155-9f48-5f1ab8d18854",
   "metadata": {},
   "outputs": [],
   "source": [
    "class Staff ():\n",
    "    \n",
    "    def __init__(self, name, fname, time_off=30): # Allow me to create instances with the properties\n",
    "        self.name = name \n",
    "        self.fname = fname\n",
    "        self.time_off = time_off\n",
    "        \n",
    "        self.email = self.name.lower() + \".\" + self.fname.lower() + \"@ironhack.com\"\n",
    "        \n",
    "        self.hobbies = []\n",
    "        \n",
    "    def greeting (self):\n",
    "        print(\"Hello everyone!\")\n",
    "        \n",
    "    def takes_days_off (self):\n",
    "        if self.time_off > 0:\n",
    "            self.time_off -= 1\n",
    "            return f\"I know have {self.time_off} available for me to take\"\n",
    "        else:\n",
    "            return \"No more days off, your total is 0\"\n",
    "    \n",
    "    def hobbies_add_or_show (self, *hob):\n",
    "        if hob:\n",
    "            self.hobbies.append(hob)\n",
    "            return f\"New hobby included: {hob[0][0]}\"\n",
    "        else:\n",
    "            return f\"My hobbies are: {self.hobbies}\"\n",
    "        \n",
    "    "
   ]
  },
  {
   "cell_type": "code",
   "execution_count": 60,
   "id": "27acb138-6717-4e31-b80a-cc0346d6ce19",
   "metadata": {},
   "outputs": [],
   "source": [
    "# Q Bernat: do I need self?=\n",
    "# A: only on those attributes that actually belong to the class\n",
    "# not the ones from \"the outside\" like \"hob\""
   ]
  },
  {
   "cell_type": "code",
   "execution_count": 61,
   "id": "ba24a50e-27b0-4664-9b4d-b612bc05e29f",
   "metadata": {},
   "outputs": [],
   "source": [
    "carles = Staff(\"Carles\", \"Espuña\")"
   ]
  },
  {
   "cell_type": "code",
   "execution_count": 62,
   "id": "5af3eb3b-177c-4374-adb8-0c7906190654",
   "metadata": {},
   "outputs": [
    {
     "data": {
      "text/plain": [
       "[]"
      ]
     },
     "execution_count": 62,
     "metadata": {},
     "output_type": "execute_result"
    }
   ],
   "source": [
    "carles.hobbies"
   ]
  },
  {
   "cell_type": "code",
   "execution_count": 63,
   "id": "5a2adcc8-f986-42ee-917a-9cb492724b85",
   "metadata": {},
   "outputs": [
    {
     "data": {
      "text/plain": [
       "'New hobby included: s'"
      ]
     },
     "execution_count": 63,
     "metadata": {},
     "output_type": "execute_result"
    }
   ],
   "source": [
    "carles.hobbies_add_or_show(\"skydiving\", \"going out\", \"surfing\") # running a method that is modifying his attributes"
   ]
  },
  {
   "cell_type": "code",
   "execution_count": 64,
   "id": "2887c7ad-5ca5-41bc-a341-b74fa0d7021f",
   "metadata": {},
   "outputs": [
    {
     "data": {
      "text/plain": [
       "[('skydiving', 'going out', 'surfing')]"
      ]
     },
     "execution_count": 64,
     "metadata": {},
     "output_type": "execute_result"
    }
   ],
   "source": [
    "carles.hobbies # his attribute"
   ]
  },
  {
   "cell_type": "code",
   "execution_count": 65,
   "id": "e3646430-827b-4056-8ac2-369a9c4902fe",
   "metadata": {},
   "outputs": [
    {
     "data": {
      "text/plain": [
       "{'name': 'Carles',\n",
       " 'fname': 'Espuña',\n",
       " 'time_off': 30,\n",
       " 'email': 'carles.espuña@ironhack.com',\n",
       " 'hobbies': [('skydiving', 'going out', 'surfing')]}"
      ]
     },
     "execution_count": 65,
     "metadata": {},
     "output_type": "execute_result"
    }
   ],
   "source": [
    "carles.__dict__"
   ]
  },
  {
   "cell_type": "code",
   "execution_count": 58,
   "id": "16391f10-4143-4dd9-ad52-6d9eddfc7ee3",
   "metadata": {},
   "outputs": [],
   "source": [
    "# i should have the hobbies_add function with *Args\n",
    "# if I want to run the code below\n",
    "# carles.hobbies_add(\"reading\", \"surfing\") "
   ]
  },
  {
   "cell_type": "markdown",
   "id": "06e8c098-08ae-4938-b4ea-9f7da2245845",
   "metadata": {},
   "source": [
    "_⚠️:  Target variables when instantiaing, ingnoring defaults?_"
   ]
  },
  {
   "cell_type": "code",
   "execution_count": null,
   "id": "4f06ab0e-66bb-4d8c-b7f0-ddfe8082277a",
   "metadata": {},
   "outputs": [],
   "source": []
  },
  {
   "cell_type": "markdown",
   "id": "33248878-0d19-4100-bd45-065156bc5937",
   "metadata": {
    "lang": "en"
   },
   "source": [
    "**watch out** 👀\n",
    "If we modify a class and add attributes or methods, we have to recreate the object so that it is initialized with those attributes and has those methods."
   ]
  },
  {
   "cell_type": "markdown",
   "id": "94bf6d0d-ba43-4969-b1b3-fa7e5b9fda72",
   "metadata": {
    "lang": "en"
   },
   "source": [
    "#### Python is built with objects\n",
    "In Python primitive data types are also objects that have associated attributes and methods."
   ]
  },
  {
   "cell_type": "code",
   "execution_count": 66,
   "id": "44384185-f325-4de5-89c9-bfc88a1aa5a6",
   "metadata": {},
   "outputs": [
    {
     "data": {
      "text/plain": [
       "'A'"
      ]
     },
     "execution_count": 66,
     "metadata": {},
     "output_type": "execute_result"
    }
   ],
   "source": [
    "\"a\".upper()"
   ]
  },
  {
   "cell_type": "code",
   "execution_count": 67,
   "id": "40226f6b-86b9-4881-b0ba-713d2e4b28af",
   "metadata": {},
   "outputs": [
    {
     "data": {
      "text/plain": [
       "8"
      ]
     },
     "execution_count": 67,
     "metadata": {},
     "output_type": "execute_result"
    }
   ],
   "source": [
    "a_string = \"sdjsndsd\"\n",
    "len(a_string)"
   ]
  },
  {
   "cell_type": "markdown",
   "id": "3dacf46f-8e88-4dbf-984c-bc914d2b624e",
   "metadata": {
    "lang": "en"
   },
   "source": [
    "Whenever we do .something, it is because we are calling the methods/attributes of that class"
   ]
  },
  {
   "cell_type": "markdown",
   "id": "cc1ea42d-2c68-44c5-86d2-34d541243811",
   "metadata": {
    "lang": "en"
   },
   "source": [
    "### Class variables"
   ]
  },
  {
   "cell_type": "code",
   "execution_count": null,
   "id": "c32488d8-f593-433f-b02b-afe1b879346c",
   "metadata": {},
   "outputs": [],
   "source": []
  },
  {
   "cell_type": "markdown",
   "id": "4852e109-e0de-4f6a-89f5-8c5d178adf5b",
   "metadata": {
    "lang": "en"
   },
   "source": [
    "In general, class attributes should not be used, except to store constant values."
   ]
  },
  {
   "cell_type": "markdown",
   "id": "a36934ab-3882-499d-b7c8-9de71ec6a449",
   "metadata": {
    "lang": "en"
   },
   "source": [
    "**Exercise**\n",
    "\n",
    "Create a class `Circle` with:\n",
    "- radius as instance/object variable\n",
    "- pi (math.pi) as class variable\n",
    "- a compute_area(self) method that returns the area of ​​the \"circle\" object"
   ]
  },
  {
   "cell_type": "code",
   "execution_count": 68,
   "id": "19ba511a-dd60-4772-b62c-c8f848b800f5",
   "metadata": {},
   "outputs": [],
   "source": [
    "import math"
   ]
  },
  {
   "cell_type": "code",
   "execution_count": 69,
   "id": "af2ad293-f810-4e39-b0a2-453c86cf903c",
   "metadata": {},
   "outputs": [],
   "source": [
    "pi = math.pi"
   ]
  },
  {
   "cell_type": "code",
   "execution_count": 70,
   "id": "650e87ee-2ebc-4694-9b41-d7ad8c5c235d",
   "metadata": {},
   "outputs": [],
   "source": [
    "# class Circle\n",
    "    # properties: radius\n",
    "    # calculate_area"
   ]
  },
  {
   "cell_type": "code",
   "execution_count": 127,
   "id": "0876d70b-0d29-42a2-ba6c-7fbd73236df4",
   "metadata": {},
   "outputs": [],
   "source": [
    "radius = 100"
   ]
  },
  {
   "cell_type": "code",
   "execution_count": 134,
   "id": "3b5a3b68-26f9-4a4e-9414-e6189e7cf48d",
   "metadata": {},
   "outputs": [],
   "source": [
    "# 1. Creating the class\n",
    "class Circle ():\n",
    "    \n",
    "    def __init__(self, number):\n",
    "        self.radius = number\n",
    "                \n",
    "    def calculate_area(self):\n",
    "        return math.pi*(self.radius**2)"
   ]
  },
  {
   "cell_type": "code",
   "execution_count": 135,
   "id": "96e52478-9de5-40e0-a1b5-4d0a1ac4f8f2",
   "metadata": {},
   "outputs": [],
   "source": [
    "# 2. Instansiating the object\n",
    "joana_circle = Circle(5)"
   ]
  },
  {
   "cell_type": "code",
   "execution_count": 136,
   "id": "730c4ba7-b090-45fb-a059-22a54a87b9a3",
   "metadata": {},
   "outputs": [
    {
     "data": {
      "text/plain": [
       "78.53981633974483"
      ]
     },
     "execution_count": 136,
     "metadata": {},
     "output_type": "execute_result"
    }
   ],
   "source": [
    "# 3. Running a method of the object\n",
    "joana_circle.calculate_area()"
   ]
  },
  {
   "cell_type": "code",
   "execution_count": null,
   "id": "c2186f0a-8856-46cf-b969-6ab4b16285ae",
   "metadata": {},
   "outputs": [],
   "source": [
    "# Q Max: do I need self insid eof the \"calculate_area\" function?\n",
    "# A: Yes, otherwise it'd be looking for the variable oputside\n",
    "# and I just want the one that belongs to me"
   ]
  },
  {
   "cell_type": "code",
   "execution_count": 105,
   "id": "e476b03d-f8cc-4f91-b0a1-28105cb16fc1",
   "metadata": {},
   "outputs": [
    {
     "data": {
      "text/plain": [
       "78.53981633974483"
      ]
     },
     "execution_count": 105,
     "metadata": {},
     "output_type": "execute_result"
    }
   ],
   "source": [
    "class Circle ():\n",
    "    \n",
    "    def __init__(self, radius):\n",
    "        self.area = radius**2*math.pi\n",
    "\n",
    "carles_circle = Circle(5)\n",
    "carles_circle.area"
   ]
  },
  {
   "cell_type": "code",
   "execution_count": 82,
   "id": "31a85181-dba1-4dea-9b02-4575d0a7831e",
   "metadata": {},
   "outputs": [
    {
     "data": {
      "text/plain": [
       "78.53981633974483"
      ]
     },
     "execution_count": 82,
     "metadata": {},
     "output_type": "execute_result"
    }
   ],
   "source": [
    "class Circle ():\n",
    "    \n",
    "    def __init__(self, rad):\n",
    "        self.rad = rad\n",
    "        self.area = pi*(rad)**2\n",
    "        \n",
    "maya_circle = Circle(5)\n",
    "maya_circle.area"
   ]
  },
  {
   "cell_type": "code",
   "execution_count": 137,
   "id": "d8f095c5-ffff-47b4-828b-c1f250ce62e3",
   "metadata": {},
   "outputs": [
    {
     "data": {
      "text/plain": [
       "78.53981633974483"
      ]
     },
     "execution_count": 137,
     "metadata": {},
     "output_type": "execute_result"
    }
   ],
   "source": [
    "class Circle():\n",
    "    def __init__(self,radius):\n",
    "        self.radius = radius\n",
    "        self.area = math.pi * radius**2\n",
    "        \n",
    "        \n",
    "marc_dalmau = Circle(5)\n",
    "marc_dalmau.area"
   ]
  },
  {
   "cell_type": "code",
   "execution_count": 139,
   "id": "aae17330-9319-4fea-8e86-f50e0ea8c4f5",
   "metadata": {},
   "outputs": [],
   "source": [
    "class Circle ():\n",
    "    \n",
    "    PI = math.pi # class variable\n",
    "    \n",
    "    def __init__(self, number):\n",
    "        self.radius = number\n",
    "                \n",
    "    def calculate_area(self):\n",
    "        return PI * (self.radius**2)"
   ]
  },
  {
   "cell_type": "code",
   "execution_count": 140,
   "id": "fa03a6c9-e6ea-4d13-9f0f-65116e2ff627",
   "metadata": {},
   "outputs": [],
   "source": [
    "# constants -> uppercase"
   ]
  },
  {
   "cell_type": "markdown",
   "id": "3aaf3486-1634-4393-845d-b766b1f41588",
   "metadata": {
    "lang": "en"
   },
   "source": [
    "## Before continuing, let's take a breath and review vocabulary"
   ]
  },
  {
   "cell_type": "markdown",
   "id": "b19fd0e5-058e-42c9-8aa3-478de4ee146a",
   "metadata": {
    "lang": "en"
   },
   "source": [
    "- **Class**: The cookie mold. With the class we can generate instances or objects.\n",
    "- **Object**: The cookie we generated. Each object has different characteristics but under the same pattern as the class.\n",
    "- **Instance**: Same as object, it's a synonym :) hehe\n",
    "- **Attribute**: The different ingredients of each object. They are defined as arguments in the __init__ function but are saved as data when we instantiate an object by calling the class"
   ]
  },
  {
   "cell_type": "code",
   "execution_count": 148,
   "id": "fe921ca5-3a08-41cc-9c71-3f2b822538cc",
   "metadata": {},
   "outputs": [
    {
     "data": {
      "text/html": [
       "<div>\n",
       "<style scoped>\n",
       "    .dataframe tbody tr th:only-of-type {\n",
       "        vertical-align: middle;\n",
       "    }\n",
       "\n",
       "    .dataframe tbody tr th {\n",
       "        vertical-align: top;\n",
       "    }\n",
       "\n",
       "    .dataframe thead th {\n",
       "        text-align: right;\n",
       "    }\n",
       "</style>\n",
       "<table border=\"1\" class=\"dataframe\">\n",
       "  <thead>\n",
       "    <tr style=\"text-align: right;\">\n",
       "      <th></th>\n",
       "      <th>A</th>\n",
       "      <th>B</th>\n",
       "    </tr>\n",
       "  </thead>\n",
       "  <tbody>\n",
       "    <tr>\n",
       "      <th>0</th>\n",
       "      <td>4</td>\n",
       "      <td>9</td>\n",
       "    </tr>\n",
       "    <tr>\n",
       "      <th>1</th>\n",
       "      <td>4</td>\n",
       "      <td>9</td>\n",
       "    </tr>\n",
       "    <tr>\n",
       "      <th>2</th>\n",
       "      <td>4</td>\n",
       "      <td>9</td>\n",
       "    </tr>\n",
       "  </tbody>\n",
       "</table>\n",
       "</div>"
      ],
      "text/plain": [
       "   A  B\n",
       "0  4  9\n",
       "1  4  9\n",
       "2  4  9"
      ]
     },
     "execution_count": 148,
     "metadata": {},
     "output_type": "execute_result"
    }
   ],
   "source": [
    "import pandas as pd\n",
    "\n",
    "df = pd.DataFrame([[4, 9]] * 3, columns=['A', 'B'])\n",
    "df"
   ]
  },
  {
   "cell_type": "code",
   "execution_count": 149,
   "id": "da2e9803-2ebd-433a-b48e-8e0746348c35",
   "metadata": {},
   "outputs": [],
   "source": [
    "#DataFrame -> class\n",
    "    #df -> instance of that class"
   ]
  },
  {
   "cell_type": "code",
   "execution_count": 150,
   "id": "1074750f-7b41-4627-bddb-0e73b364176b",
   "metadata": {},
   "outputs": [
    {
     "data": {
      "text/plain": [
       "Index(['A', 'B'], dtype='object')"
      ]
     },
     "execution_count": 150,
     "metadata": {},
     "output_type": "execute_result"
    }
   ],
   "source": [
    "df.columns"
   ]
  },
  {
   "cell_type": "code",
   "execution_count": 262,
   "id": "b4615a1b-d2ba-426e-829d-f5f5d68bb3a4",
   "metadata": {},
   "outputs": [
    {
     "data": {
      "text/html": [
       "<div>\n",
       "<style scoped>\n",
       "    .dataframe tbody tr th:only-of-type {\n",
       "        vertical-align: middle;\n",
       "    }\n",
       "\n",
       "    .dataframe tbody tr th {\n",
       "        vertical-align: top;\n",
       "    }\n",
       "\n",
       "    .dataframe thead th {\n",
       "        text-align: right;\n",
       "    }\n",
       "</style>\n",
       "<table border=\"1\" class=\"dataframe\">\n",
       "  <thead>\n",
       "    <tr style=\"text-align: right;\">\n",
       "      <th></th>\n",
       "      <th>a</th>\n",
       "      <th>b</th>\n",
       "    </tr>\n",
       "  </thead>\n",
       "  <tbody>\n",
       "    <tr>\n",
       "      <th>0</th>\n",
       "      <td>4</td>\n",
       "      <td>9</td>\n",
       "    </tr>\n",
       "    <tr>\n",
       "      <th>1</th>\n",
       "      <td>4</td>\n",
       "      <td>9</td>\n",
       "    </tr>\n",
       "    <tr>\n",
       "      <th>2</th>\n",
       "      <td>4</td>\n",
       "      <td>9</td>\n",
       "    </tr>\n",
       "  </tbody>\n",
       "</table>\n",
       "</div>"
      ],
      "text/plain": [
       "   a  b\n",
       "0  4  9\n",
       "1  4  9\n",
       "2  4  9"
      ]
     },
     "execution_count": 262,
     "metadata": {},
     "output_type": "execute_result"
    }
   ],
   "source": [
    "# method is a function \n",
    "    # given instance \n",
    "\n",
    "df.rename(columns = {\"A\": \"a\", \"B\":\"b\"})"
   ]
  },
  {
   "cell_type": "code",
   "execution_count": 263,
   "id": "e81e7b86-13d0-4083-ade4-47baee1c3d2d",
   "metadata": {},
   "outputs": [
    {
     "data": {
      "text/html": [
       "<div>\n",
       "<style scoped>\n",
       "    .dataframe tbody tr th:only-of-type {\n",
       "        vertical-align: middle;\n",
       "    }\n",
       "\n",
       "    .dataframe tbody tr th {\n",
       "        vertical-align: top;\n",
       "    }\n",
       "\n",
       "    .dataframe thead th {\n",
       "        text-align: right;\n",
       "    }\n",
       "</style>\n",
       "<table border=\"1\" class=\"dataframe\">\n",
       "  <thead>\n",
       "    <tr style=\"text-align: right;\">\n",
       "      <th></th>\n",
       "      <th>a</th>\n",
       "      <th>b</th>\n",
       "    </tr>\n",
       "  </thead>\n",
       "  <tbody>\n",
       "    <tr>\n",
       "      <th>0</th>\n",
       "      <td>4</td>\n",
       "      <td>9</td>\n",
       "    </tr>\n",
       "    <tr>\n",
       "      <th>1</th>\n",
       "      <td>4</td>\n",
       "      <td>9</td>\n",
       "    </tr>\n",
       "    <tr>\n",
       "      <th>2</th>\n",
       "      <td>4</td>\n",
       "      <td>9</td>\n",
       "    </tr>\n",
       "  </tbody>\n",
       "</table>\n",
       "</div>"
      ],
      "text/plain": [
       "   a  b\n",
       "0  4  9\n",
       "1  4  9\n",
       "2  4  9"
      ]
     },
     "execution_count": 263,
     "metadata": {},
     "output_type": "execute_result"
    }
   ],
   "source": [
    "df"
   ]
  },
  {
   "cell_type": "code",
   "execution_count": 264,
   "id": "ba188d7f-61fc-4917-8781-ebfaf0bf52b8",
   "metadata": {},
   "outputs": [],
   "source": [
    "#[i for i in dir(df) if \"_\" not in i]"
   ]
  },
  {
   "cell_type": "markdown",
   "id": "26556297-90d5-467b-a772-3f2153c20c20",
   "metadata": {},
   "source": [
    "```python\n",
    "aleix = Instructor(\"Aleix\", \"García\")\n",
    "```"
   ]
  },
  {
   "cell_type": "markdown",
   "id": "504197f6-c1a5-4739-81bd-d65e4d691370",
   "metadata": {},
   "source": [
    "We can say that the attributes are the DATA, in this case \"Pau\" and \"Peracaula\".\n",
    "They are variables\n",
    "\n",
    "\n",
    "* **Class attribute**: Variables that belong to the class and that will be the same in all objects.\n",
    "* **Object/instance attribute**: The attributes explained above, specific to each object.\n",
    "* **Method**: Functions that do things"
   ]
  },
  {
   "cell_type": "markdown",
   "id": "f9746927-7d4c-413c-b4a6-171fc4914da6",
   "metadata": {
    "lang": "en"
   },
   "source": [
    "#### Easy exercise\n",
    "Kata --> https://www.codewars.com/kata/53f0f358b9cb376eca001079/train/python\n",
    "\n",
    "You can ignore the \"object\" for now"
   ]
  },
  {
   "cell_type": "code",
   "execution_count": 170,
   "id": "2217e712-22be-40d7-a818-36230b56bddf",
   "metadata": {},
   "outputs": [],
   "source": [
    "class Ball():\n",
    "    def __init__ (self, ball_type=\"regular\"):\n",
    "        self.ball_type = ball_type"
   ]
  },
  {
   "cell_type": "code",
   "execution_count": 171,
   "id": "ef398cbc-bf7e-4bed-a4a5-aa0d7fc05e8f",
   "metadata": {},
   "outputs": [
    {
     "data": {
      "text/plain": [
       "'not regular'"
      ]
     },
     "execution_count": 171,
     "metadata": {},
     "output_type": "execute_result"
    }
   ],
   "source": [
    "my_ball = Ball(\"not regular\")\n",
    "my_ball.ball_type"
   ]
  },
  {
   "cell_type": "code",
   "execution_count": 172,
   "id": "8e63f00e-7ac8-4508-a0c6-6df6d64a2b2a",
   "metadata": {},
   "outputs": [
    {
     "data": {
      "text/plain": [
       "'like this'"
      ]
     },
     "execution_count": 172,
     "metadata": {},
     "output_type": "execute_result"
    }
   ],
   "source": [
    "my_ball.ball_type = \"like this\" # i can overwrite\n",
    "my_ball.ball_type"
   ]
  },
  {
   "cell_type": "code",
   "execution_count": 173,
   "id": "b3258b19-1ae9-491c-bc43-0f2dfd637a63",
   "metadata": {},
   "outputs": [],
   "source": [
    "def greeting (name, language=\"en\"):\n",
    "    if language == \"es\": \n",
    "        return f\"Hola mi nombre es: {name}\"\n",
    "    else:\n",
    "        return f\"hello my name is {name}\""
   ]
  },
  {
   "cell_type": "code",
   "execution_count": 162,
   "id": "9d0d87b8-448c-4a4a-9821-653acdc677e7",
   "metadata": {},
   "outputs": [
    {
     "data": {
      "text/plain": [
       "'hello my name is Sam'"
      ]
     },
     "execution_count": 162,
     "metadata": {},
     "output_type": "execute_result"
    }
   ],
   "source": [
    "greeting (\"Sam\")"
   ]
  },
  {
   "cell_type": "code",
   "execution_count": 163,
   "id": "4203775b-641c-4019-bfbd-6700b53cd296",
   "metadata": {},
   "outputs": [
    {
     "data": {
      "text/plain": [
       "'Hola mi nombre es: Venice'"
      ]
     },
     "execution_count": 163,
     "metadata": {},
     "output_type": "execute_result"
    }
   ],
   "source": [
    "greeting(\"Venice\", \"es\")"
   ]
  },
  {
   "cell_type": "markdown",
   "id": "1a2d5e7d-0870-44cc-85d7-8bd053456bc2",
   "metadata": {},
   "source": [
    "Solution:\n",
    "\n",
    "\n",
    "```python\n",
    "class Ball():\n",
    "    def __init__ (self, ball_type = \"regular\"):\n",
    "        self.ball_type = ball_type\n",
    "````"
   ]
  },
  {
   "cell_type": "markdown",
   "id": "100a966f-7802-4338-851d-6a64a84afbff",
   "metadata": {},
   "source": [
    "## Inheritance"
   ]
  },
  {
   "cell_type": "markdown",
   "id": "433e4f36-8c8c-46db-92e7-fca32e9a6862",
   "metadata": {
    "lang": "en"
   },
   "source": [
    "Inheritance allows defining new classes from existing classes. The class from which it is inherited is called the \"parent class\"/\"superclass\"/\"parent\". The class that it inherits is called a \"child class\" or \"subclass.\"\n",
    "The child class \"inherits\" all the properties of the parent class and allows us to override methods and attributes or add new ones. The fundamental advantage that the inheritance mechanism brings to programming is the ability to reuse code. Thus, a set of classes that share attributes and methods can inherit from a superclass where those methods and attributes are defined."
   ]
  },
  {
   "cell_type": "markdown",
   "id": "ab90d6bd-dafe-4160-81f0-3c0e6ed278ff",
   "metadata": {},
   "source": [
    "\n",
    "![miniyoda](https://media.giphy.com/media/j0eRJzyW7XjMpu1Pqd/giphy.gif)"
   ]
  },
  {
   "cell_type": "markdown",
   "id": "1a8e23cb-fdab-4ebb-92c5-9bbc7b9c15e7",
   "metadata": {
    "lang": "en"
   },
   "source": [
    "- Method defined in the `parent`, but not in the `child`\n",
    "\n",
    "In this case, the child will inherit the parent's method, it will work exactly the same and there is no need to override it.\n",
    "\n",
    "- Method defined in `Child`, but not in Parent\n",
    "\n",
    "The method only belongs to the child. Inheritance is one way.\n",
    "\n",
    "- Method set to \"both\".\n",
    "\n",
    "Two things can happen here, but both are a variant of the same fact. The method written in the `Child` class will override the one previously defined in Parent.\n",
    "\n",
    "However, if we want to use the original method and just add something else to it, we can always refer to the original (parent) method with `super()`. The `super()` function allows us to call any method of the parent class. Just remember to call it on the new define and make sure you get all the attributes it needs 😉 ."
   ]
  },
  {
   "cell_type": "code",
   "execution_count": 187,
   "id": "a19ff3ed-c053-4b89-a783-97f8c81cef7a",
   "metadata": {},
   "outputs": [],
   "source": [
    "class Staff ():\n",
    "    \n",
    "    def __init__(self, name, fname, time_off=30): # Allow me to create instances with the properties\n",
    "        self.name = name \n",
    "        self.fname = fname\n",
    "        self.time_off = time_off\n",
    "        \n",
    "        self.email = self.name.lower() + \".\" + self.fname.lower() + \"@ironhack.com\"\n",
    "        \n",
    "    def greeting (self):\n",
    "        print(\"Hello everyone!\")\n",
    "        \n",
    "    def takes_days_off (self):\n",
    "        if self.time_off > 0:\n",
    "            self.time_off -= 1\n",
    "            return f\"I know have {self.time_off} available for me to take\"\n",
    "        else:\n",
    "            return \"No more days off, your total is 0\""
   ]
  },
  {
   "cell_type": "code",
   "execution_count": 188,
   "id": "e8c9ebf0-a13c-4bd4-a697-0a0cf07bc7e8",
   "metadata": {},
   "outputs": [],
   "source": [
    "# Creating a class that inherits from something else"
   ]
  },
  {
   "cell_type": "code",
   "execution_count": 206,
   "id": "edecf8e2-0e94-4537-be8e-80c7958118cc",
   "metadata": {},
   "outputs": [],
   "source": [
    "# Staff -> parent class\n",
    "    # Marketing (Staff)\n",
    "    \n",
    "    \n",
    "class Marketing (Staff):\n",
    "    def __init__(self, name, fname, time_off=30): # Allow me to create instances with the properties\n",
    "        self.name = name \n",
    "        self.fname = fname\n",
    "        self.time_off = time_off\n",
    "    \n",
    "    # greeting function is not here but you can find on the parent class; which is Staff\n",
    "    \n",
    "    def role (self):\n",
    "        print (\"I work in Marketing\")"
   ]
  },
  {
   "cell_type": "code",
   "execution_count": 212,
   "id": "4476448a-a454-4682-9d0f-f4810fb1759b",
   "metadata": {},
   "outputs": [],
   "source": [
    "# laura, which is a Marketing instance\n",
    "# is also able to access the methods for Staff\n",
    "# might have other specific methods"
   ]
  },
  {
   "cell_type": "code",
   "execution_count": 204,
   "id": "534ec328-dc6c-44c0-8419-0fc0ad32b58d",
   "metadata": {},
   "outputs": [],
   "source": [
    "laura = Marketing(\"Laura\", \"Molas\")"
   ]
  },
  {
   "cell_type": "code",
   "execution_count": 205,
   "id": "396fa443-818c-485c-9899-6e9e73df3b65",
   "metadata": {},
   "outputs": [
    {
     "name": "stdout",
     "output_type": "stream",
     "text": [
      "I work in Marketing\n"
     ]
    }
   ],
   "source": [
    "laura.role()"
   ]
  },
  {
   "cell_type": "code",
   "execution_count": 211,
   "id": "2e984b44-7be0-442b-b5c8-bdba8941bcf7",
   "metadata": {},
   "outputs": [
    {
     "name": "stdout",
     "output_type": "stream",
     "text": [
      "Hello everyone!\n"
     ]
    }
   ],
   "source": [
    "laura.greeting()"
   ]
  },
  {
   "cell_type": "code",
   "execution_count": 208,
   "id": "4f9d8278-dc9f-42a6-8943-34519499f6e3",
   "metadata": {},
   "outputs": [],
   "source": [
    "clara = Staff (\"Clara\", \"Fernández\")"
   ]
  },
  {
   "cell_type": "code",
   "execution_count": 210,
   "id": "9c77901c-815c-4f7e-9653-90b0145af4ff",
   "metadata": {},
   "outputs": [
    {
     "ename": "AttributeError",
     "evalue": "'Staff' object has no attribute 'role'",
     "output_type": "error",
     "traceback": [
      "\u001b[0;31m---------------------------------------------------------------------------\u001b[0m",
      "\u001b[0;31mAttributeError\u001b[0m                            Traceback (most recent call last)",
      "Input \u001b[0;32mIn [210]\u001b[0m, in \u001b[0;36m<cell line: 1>\u001b[0;34m()\u001b[0m\n\u001b[0;32m----> 1\u001b[0m \u001b[43mclara\u001b[49m\u001b[38;5;241;43m.\u001b[39;49m\u001b[43mrole\u001b[49m()\n",
      "\u001b[0;31mAttributeError\u001b[0m: 'Staff' object has no attribute 'role'"
     ]
    }
   ],
   "source": [
    "clara.role()"
   ]
  },
  {
   "cell_type": "code",
   "execution_count": 191,
   "id": "0f193e72-dd4d-4173-b6d1-c4c04d91c85a",
   "metadata": {},
   "outputs": [
    {
     "data": {
      "text/plain": [
       "__main__.Marketing"
      ]
     },
     "execution_count": 191,
     "metadata": {},
     "output_type": "execute_result"
    }
   ],
   "source": [
    "type(laura)"
   ]
  },
  {
   "cell_type": "code",
   "execution_count": 197,
   "id": "d6f17a9c-f700-4ddf-9dea-21419401aa64",
   "metadata": {},
   "outputs": [
    {
     "data": {
      "text/plain": [
       "'I know have 24 available for me to take'"
      ]
     },
     "execution_count": 197,
     "metadata": {},
     "output_type": "execute_result"
    }
   ],
   "source": [
    "laura.takes_days_off()"
   ]
  },
  {
   "cell_type": "code",
   "execution_count": null,
   "id": "55f524f3-da6e-4fce-8c39-64107d341123",
   "metadata": {},
   "outputs": [],
   "source": [
    "class Staff ():\n",
    "    \n",
    "    def __init__(self, name, fname, time_off=30): # Allow me to create instances with the properties\n",
    "        self.name = name \n",
    "        self.fname = fname\n",
    "        self.time_off = time_off\n",
    "        \n",
    "        self.email = self.name.lower() + \".\" + self.fname.lower() + \"@ironhack.com\"\n",
    "        \n",
    "        self.hobbies = []\n",
    "        \n",
    "    def greeting (self):\n",
    "        print(\"Hello everyone!\")\n",
    "        \n",
    "    def takes_days_off (self):\n",
    "        if self.time_off > 0:\n",
    "            self.time_off -= 1\n",
    "            return f\"I know have {self.time_off} available for me to take\"\n",
    "        else:\n",
    "            return \"No more days off, your total is 0\"\n",
    "    \n",
    "    def hobbies_add_or_show (self, *hob):\n",
    "        if hob:\n",
    "            self.hobbies.append(hob)\n",
    "            return f\"New hobby included: {hob[0][0]}\"\n",
    "        else:\n",
    "            return f\"My hobbies are: {self.hobbies}\"\n",
    "        \n",
    "    "
   ]
  },
  {
   "cell_type": "markdown",
   "id": "a54390df-6677-4131-b6dd-aa56d976214f",
   "metadata": {},
   "source": [
    "### super()"
   ]
  },
  {
   "cell_type": "code",
   "execution_count": 234,
   "id": "c08a1348-95ce-47ff-8001-8b699c5893cd",
   "metadata": {},
   "outputs": [],
   "source": [
    "# Staff -> parent class\n",
    "    # Marketing (Staff)\n",
    "    \n",
    "    \n",
    "class Marketing (Staff):\n",
    "    def __init__(self, name, fname, time_off=30): # Allow me to create instances with the properties\n",
    "        super().__init__(name, fname) #email\n",
    "    \n",
    "    def role (self):\n",
    "        print (\"I work in Marketing\")"
   ]
  },
  {
   "cell_type": "code",
   "execution_count": 235,
   "id": "1f5329ee-369f-4687-bd36-27708e4ef429",
   "metadata": {},
   "outputs": [],
   "source": [
    "laura = Marketing(\"Laura\", \"Molas\")"
   ]
  },
  {
   "cell_type": "code",
   "execution_count": 236,
   "id": "2acc45a7-1d2d-4096-8ca8-134d282105fb",
   "metadata": {},
   "outputs": [
    {
     "data": {
      "text/plain": [
       "{'name': 'Laura',\n",
       " 'fname': 'Molas',\n",
       " 'time_off': 30,\n",
       " 'email': 'laura.molas@ironhack.com',\n",
       " 'hobbies': []}"
      ]
     },
     "execution_count": 236,
     "metadata": {},
     "output_type": "execute_result"
    }
   ],
   "source": [
    "laura.__dict__"
   ]
  },
  {
   "cell_type": "code",
   "execution_count": 251,
   "id": "86c2b8b3-b671-4099-a6b1-753cd6746042",
   "metadata": {},
   "outputs": [],
   "source": [
    "class Teacher (Staff):\n",
    "        \n",
    "    def __init__ (self, name, fname):\n",
    "        super().__init__(name, fname)\n",
    "        \n",
    "    def teach (self):\n",
    "        return \"Did you google it?\""
   ]
  },
  {
   "cell_type": "code",
   "execution_count": 252,
   "id": "81876d99-5ad5-4cc4-870f-c46e66c64a1f",
   "metadata": {},
   "outputs": [],
   "source": [
    "carles = Teacher(\"Carles\", \"Espuña\")"
   ]
  },
  {
   "cell_type": "code",
   "execution_count": 253,
   "id": "7cef5a64-6370-44b2-81da-b3beee25c956",
   "metadata": {},
   "outputs": [
    {
     "data": {
      "text/plain": [
       "'I know have 29 available for me to take'"
      ]
     },
     "execution_count": 253,
     "metadata": {},
     "output_type": "execute_result"
    }
   ],
   "source": [
    "carles.takes_days_off()"
   ]
  },
  {
   "cell_type": "code",
   "execution_count": 254,
   "id": "14152cab-5e15-4736-8077-47050b0ab4a8",
   "metadata": {},
   "outputs": [
    {
     "data": {
      "text/plain": [
       "'Did you google it?'"
      ]
     },
     "execution_count": 254,
     "metadata": {},
     "output_type": "execute_result"
    }
   ],
   "source": [
    "carles.teach()"
   ]
  },
  {
   "cell_type": "code",
   "execution_count": 255,
   "id": "6a799f54-e88e-4e01-bdda-b2790276e7ae",
   "metadata": {},
   "outputs": [
    {
     "data": {
      "text/plain": [
       "'carles.espuña@ironhack.com'"
      ]
     },
     "execution_count": 255,
     "metadata": {},
     "output_type": "execute_result"
    }
   ],
   "source": [
    "carles.email"
   ]
  },
  {
   "cell_type": "code",
   "execution_count": 256,
   "id": "0e997168-a1b2-4aef-88bd-242a7b907d47",
   "metadata": {},
   "outputs": [],
   "source": [
    "class Vehicle ():\n",
    "    pass\n",
    "\n",
    "class Car (Vehicle):\n",
    "    pass"
   ]
  },
  {
   "cell_type": "markdown",
   "id": "a37294a9-f6d2-40ac-83cb-f1df50e0c9ea",
   "metadata": {
    "lang": "en"
   },
   "source": [
    "## Summary\n",
    "Now it's your turn: What have we learned? 🤯\n",
    "\n",
    "- objects / oop \n",
    "- everything in python is an object\n",
    "    - `<__main__.Staff at 0x7f874ab27130>` \n",
    "    - call methods or use its attributes\n",
    "- two approaches when building things with code\n",
    "    - functional\n",
    "        - straight-fwd\n",
    "        - do things\n",
    "    - OOP\n",
    "        - might take bit more of time in the beginning\n",
    "        - more re-usability and convenience\n",
    "        - info & instructions\n",
    "        - encapsulation (higher degree than a function)\n",
    "- self\n",
    "    - refer to the instance we create\n",
    "- explore clases/objects/instances\n",
    "    - dir(object)\n",
    "    - object.__dict__\n",
    "    - object.age -> df.columns\n",
    "    - object.do_things() -> df.rename(dictionary)\n",
    "- create new objects that INHERIT from others (parent class)\n",
    "- `super().__init(name, fname)` to bring attributes"
   ]
  },
  {
   "cell_type": "markdown",
   "id": "d98cfcf6-6b65-4aa6-958c-c295d3172154",
   "metadata": {
    "lang": "en"
   },
   "source": [
    "## Furthermaterials\n",
    "\n",
    "- Youtube Tutorial by [Corey Schafer](https://www.youtube.com/watch?v=ZDa-Z5JzLYM)\n",
    "- [Real Python](https://docs.hektorprofe.net/python/object-oriented-programming/classes-and-objects/)\n",
    "- [Interesting read](https://medium.com/@shaistha24/functional-programming-vs-object-oriented-programming-oop-which-is-better-82172e53a526) --> OOP vs Functional programming"
   ]
  },
  {
   "cell_type": "markdown",
   "id": "8fe4cdf9-6ce4-45f9-9991-c9465dfaafe1",
   "metadata": {
    "lang": "en"
   },
   "source": [
    "### Methods **ADVANCED** @classmethod@staticmethod\n",
    "* [Real Python - @classmethod/@stathicmethod](https://realpython.com/instance-class-and-static-methods-demystified/). Advanced Python with decorators (we'll mention them later)"
   ]
  }
 ],
 "metadata": {
  "kernelspec": {
   "display_name": "Python 3 (ipykernel)",
   "language": "python",
   "name": "python3"
  },
  "language_info": {
   "codemirror_mode": {
    "name": "ipython",
    "version": 3
   },
   "file_extension": ".py",
   "mimetype": "text/x-python",
   "name": "python",
   "nbconvert_exporter": "python",
   "pygments_lexer": "ipython3",
   "version": "3.9.13"
  }
 },
 "nbformat": 4,
 "nbformat_minor": 5
}

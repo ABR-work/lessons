{
 "cells": [
  {
   "cell_type": "code",
   "execution_count": null,
   "id": "21e14077-1bfe-4be2-ba92-386d177ea4d8",
   "metadata": {},
   "outputs": [],
   "source": []
  },
  {
   "cell_type": "markdown",
   "id": "50011e88-750d-43f1-b6a4-91f427b5de03",
   "metadata": {
    "lang": "en"
   },
   "source": [
    "## Lambda\n",
    "A lambda function is an anonymous function, with no identifier, that can be declared in place. Since we can take functions as arguments and assign them to variables, the notation that makes it possible to create lambda functions is very handy in many cases.\n",
    "### Syntax of a lambda\n",
    "```python\n",
    "lambda <param list>:<return expression>\n",
    "```\n",
    "### lambda examples"
   ]
  },
  {
   "cell_type": "code",
   "execution_count": null,
   "id": "69f10b15-1c6d-4c47-8067-0c5d60673654",
   "metadata": {},
   "outputs": [],
   "source": []
  },
  {
   "cell_type": "code",
   "execution_count": 67,
   "id": "65f65ec5-bfa2-40c7-a6ff-360108a1e613",
   "metadata": {},
   "outputs": [],
   "source": [
    "def random_function (argument1, argument2, *args, **dict_):\n",
    "    \n",
    "    total_of_list = sum(args)\n",
    "    \n",
    "    total = argument1 * argument2 * total_of_list\n",
    "    \n",
    "    return f\"Random numbers is: {total} and age is {dict_['age']}\""
   ]
  },
  {
   "cell_type": "code",
   "execution_count": 24,
   "id": "e6407456-1346-4699-8a9d-66fd961432b6",
   "metadata": {
    "scrolled": true
   },
   "outputs": [
    {
     "data": {
      "text/plain": [
       "'Random numbers is: 800 and age is 30'"
      ]
     },
     "execution_count": 24,
     "metadata": {},
     "output_type": "execute_result"
    }
   ],
   "source": [
    "random_function (100, 2, 2, 2, **clara)"
   ]
  },
  {
   "cell_type": "code",
   "execution_count": null,
   "id": "ce1d2aa3-dfd8-4a4c-a456-85bc9a3965a9",
   "metadata": {
    "scrolled": true
   },
   "outputs": [],
   "source": [
    "sort(iterable, key = lambda x: x[1])\n",
    "lambdas -> dataframes\n",
    "\n",
    "# if we dont want to reuse, and we want something quick, we do lambdas"
   ]
  },
  {
   "cell_type": "code",
   "execution_count": 334,
   "id": "83c9ae68-afc5-46bc-93f1-1bc8eb94a903",
   "metadata": {},
   "outputs": [
    {
     "data": {
      "text/plain": [
       "5"
      ]
     },
     "execution_count": 334,
     "metadata": {},
     "output_type": "execute_result"
    }
   ],
   "source": [
    "addition = lambda a, b: a + b\n",
    "addition (2, 3)"
   ]
  },
  {
   "cell_type": "code",
   "execution_count": null,
   "id": "786681b2-43b0-4e48-8ffe-814b864b7b95",
   "metadata": {},
   "outputs": [],
   "source": [
    "def adds_1 (x):\n",
    "    return x + 1"
   ]
  },
  {
   "cell_type": "code",
   "execution_count": null,
   "id": "98816b98-e29e-4783-ad1f-b35f386322b5",
   "metadata": {},
   "outputs": [],
   "source": [
    "# df[\"column\"].apply(adds_1)"
   ]
  },
  {
   "cell_type": "code",
   "execution_count": null,
   "id": "f45c59ec-85cb-4c0c-b0da-e092ffc9f302",
   "metadata": {},
   "outputs": [],
   "source": [
    "# df[\"column\"].apply(lambda x: x + 1)"
   ]
  },
  {
   "cell_type": "code",
   "execution_count": 335,
   "id": "a7089494-2531-48c9-8ddb-2f744fc12b15",
   "metadata": {},
   "outputs": [],
   "source": [
    "say_hi = lambda num: \"Hi\" if num > 5 else \"Hello\""
   ]
  },
  {
   "cell_type": "code",
   "execution_count": 337,
   "id": "17df7eb6-4fd9-4e52-bbb6-f95efa3ca0fb",
   "metadata": {},
   "outputs": [
    {
     "data": {
      "text/plain": [
       "'Hi'"
      ]
     },
     "execution_count": 337,
     "metadata": {},
     "output_type": "execute_result"
    }
   ],
   "source": [
    "say_hi(6)"
   ]
  },
  {
   "cell_type": "code",
   "execution_count": 338,
   "id": "a6fc0ed1-7b5d-4293-97bb-fe3630a79720",
   "metadata": {},
   "outputs": [
    {
     "data": {
      "text/plain": [
       "'Hello'"
      ]
     },
     "execution_count": 338,
     "metadata": {},
     "output_type": "execute_result"
    }
   ],
   "source": [
    "say_hi(3)"
   ]
  },
  {
   "cell_type": "code",
   "execution_count": 339,
   "id": "9a05b634-d567-434f-b6c5-6c83dac45429",
   "metadata": {},
   "outputs": [],
   "source": [
    "def says_hi_hello (num):\n",
    "    if num > 5:\n",
    "        return \"Hi\"\n",
    "    else:\n",
    "        return \"Hello\""
   ]
  },
  {
   "cell_type": "code",
   "execution_count": 340,
   "id": "3728cf91-81b1-43ee-8595-d974914ccda3",
   "metadata": {},
   "outputs": [
    {
     "data": {
      "text/plain": [
       "'Hello'"
      ]
     },
     "execution_count": 340,
     "metadata": {},
     "output_type": "execute_result"
    }
   ],
   "source": [
    "says_hi_hello (3)"
   ]
  },
  {
   "cell_type": "code",
   "execution_count": 341,
   "id": "c80ea9ae-444d-4a93-801c-d364b2216b98",
   "metadata": {},
   "outputs": [
    {
     "data": {
      "text/plain": [
       "'Hi'"
      ]
     },
     "execution_count": 341,
     "metadata": {},
     "output_type": "execute_result"
    }
   ],
   "source": [
    "says_hi_hello (6)"
   ]
  },
  {
   "cell_type": "markdown",
   "id": "df3f3d5e-7d2a-4699-980c-1b6672d0c4a7",
   "metadata": {
    "lang": "en"
   },
   "source": [
    "It is also possible to use these anonymous functions as arguments in calls to other functions. For example, in a call to sorted() or list.sort() we can use a lambda function as an argument to the key parameter:"
   ]
  },
  {
   "cell_type": "code",
   "execution_count": 25,
   "id": "67030045-a43d-4870-916c-edcd014d7ccd",
   "metadata": {},
   "outputs": [
    {
     "data": {
      "text/plain": [
       "[('bcn', 38378373), ('city', 7482), ('murcia', 333)]"
      ]
     },
     "execution_count": 25,
     "metadata": {},
     "output_type": "execute_result"
    }
   ],
   "source": [
    "# Criteria: first element of the tuple\n",
    "sorted(list_of_tuples, key = lambda x: x[0], reverse = False)"
   ]
  },
  {
   "cell_type": "code",
   "execution_count": 28,
   "id": "2b3da15a-542a-47ce-b204-4054b0329017",
   "metadata": {},
   "outputs": [
    {
     "data": {
      "text/plain": [
       "[('murcia', 333), ('city', 7482), ('bcn', 38378373)]"
      ]
     },
     "execution_count": 28,
     "metadata": {},
     "output_type": "execute_result"
    }
   ],
   "source": [
    "# Criteria: second element of the tuple\n",
    "sorted(list_of_tuples, key = lambda x: x[1])"
   ]
  },
  {
   "cell_type": "code",
   "execution_count": 27,
   "id": "de5ef3c3-66a5-4f50-a2be-88db77bab6aa",
   "metadata": {},
   "outputs": [
    {
     "data": {
      "text/plain": [
       "[('bcn', 38378373), ('city', 7482), ('murcia', 333)]"
      ]
     },
     "execution_count": 27,
     "metadata": {},
     "output_type": "execute_result"
    }
   ],
   "source": [
    "# Criteria: second element of the tuple\n",
    "sorted(list_of_tuples, key = lambda x: x[1], reverse = True)"
   ]
  },
  {
   "cell_type": "code",
   "execution_count": 29,
   "id": "843c689a-49b3-45f9-8d46-e80115679725",
   "metadata": {},
   "outputs": [
    {
     "data": {
      "text/plain": [
       "['a', 'c', 'z']"
      ]
     },
     "execution_count": 29,
     "metadata": {},
     "output_type": "execute_result"
    }
   ],
   "source": [
    "# Q: cabn you do the same with a list?\n",
    "sorted([\"a\", \"z\", \"c\"])"
   ]
  },
  {
   "cell_type": "markdown",
   "id": "2e148286-e31b-48a0-b24c-a8bfa125f5e4",
   "metadata": {
    "lang": "en"
   },
   "source": [
    "Lastly, if we want to return the result of a function to another function, we can use any known function in the scope of the returning function, or use a lambda function:"
   ]
  },
  {
   "cell_type": "code",
   "execution_count": 5,
   "id": "271c1a63-8be3-4e3f-95da-ccc454b4c7ce",
   "metadata": {},
   "outputs": [],
   "source": [
    "def greater (a, b):\n",
    "    if a > b:\n",
    "        return a\n",
    "    elif b > a:\n",
    "        return b"
   ]
  },
  {
   "cell_type": "code",
   "execution_count": 30,
   "id": "b7b8d0a8-309f-473d-a4cc-f8024f96a747",
   "metadata": {},
   "outputs": [],
   "source": [
    "def comparisons (types_of_comparison):\n",
    "\n",
    "    if types_of_comparison == \"greater\":\n",
    "        return greater\n",
    "    elif types_of_comparison == \"lesser\":\n",
    "        return lambda x, y: x if x < y else y"
   ]
  },
  {
   "cell_type": "code",
   "execution_count": null,
   "id": "1a42fc3b-7b15-453e-8cad-a5cbccf90a6e",
   "metadata": {},
   "outputs": [],
   "source": [
    "# parameters = placeholders: \"name\"\n",
    "# arguemnt = actual value: \"sam\""
   ]
  },
  {
   "cell_type": "code",
   "execution_count": 31,
   "id": "2dbb019c-03e4-4234-b585-293236d5f4de",
   "metadata": {},
   "outputs": [
    {
     "data": {
      "text/plain": [
       "5"
      ]
     },
     "execution_count": 31,
     "metadata": {},
     "output_type": "execute_result"
    }
   ],
   "source": [
    "comparisons (\"lesser\")(10, 5) #lambda function"
   ]
  },
  {
   "cell_type": "code",
   "execution_count": 32,
   "id": "501912f6-0206-46fb-b849-ae1123c13c59",
   "metadata": {},
   "outputs": [
    {
     "data": {
      "text/plain": [
       "4"
      ]
     },
     "execution_count": 32,
     "metadata": {},
     "output_type": "execute_result"
    }
   ],
   "source": [
    "comparisons (\"greater\")(3, 4) #user-defined function"
   ]
  },
  {
   "cell_type": "code",
   "execution_count": 21,
   "id": "32c68780-1f1f-4cef-8cd8-360af21cfca3",
   "metadata": {},
   "outputs": [],
   "source": [
    "list_of_tuples = [(\"city\", 7482), (\"bcn\", 38378373), (\"murcia\", 333)]"
   ]
  },
  {
   "cell_type": "code",
   "execution_count": 34,
   "id": "217f5d92-1988-4bfe-8826-bc2155010592",
   "metadata": {},
   "outputs": [],
   "source": [
    "# no name\n",
    "# in-line\n",
    "# on the spot\n",
    "# not re-usable (unless you save them)\n",
    "# they can take many parameters"
   ]
  },
  {
   "cell_type": "markdown",
   "id": "95974520-156c-4e83-853e-8997cdc93193",
   "metadata": {},
   "source": [
    "# Map, Filter, Reduce"
   ]
  },
  {
   "cell_type": "markdown",
   "id": "5f1cc7ba-1282-497b-90e9-3b97d4606b67",
   "metadata": {
    "toc": true
   },
   "source": [
    "<h1>Table of Contents<span class=\"tocSkip\"></span></h1>\n",
    "<div class=\"toc\"><ul class=\"toc-item\"><li><ul class=\"toc-item\"><li><span><a href=\"#Each-student-is-randomly-assigned-a-topic\" data-toc-modified-id=\"Each-student-is-randomly-assigned-a-topic-0.1\"><span class=\"toc-item-num\">0.1&nbsp;&nbsp;</span>Each student is randomly assigned a topic</a></span></li></ul></li><li><span><a href=\"#Let's-start\" data-toc-modified-id=\"Let's-start-1\"><span class=\"toc-item-num\">1&nbsp;&nbsp;</span>Let's start</a></span><ul class=\"toc-item\"><li><span><a href=\"#Create-groups-with-other-people-who-have-studied-the-same-function\" data-toc-modified-id=\"Create-groups-with-other-people-who-have-studied-the-same-function-1.1\"><span class=\"toc-item-num\">1.1&nbsp;&nbsp;</span>Create groups with other people who have studied the same function</a></span></li></ul></li><li><span><a href=\"#Map,-Filter,-Reduce\" data-toc-modified-id=\"Map,-Filter,-Reduce-2\"><span class=\"toc-item-num\">2&nbsp;&nbsp;</span>Map, Filter, Reduce</a></span><ul class=\"toc-item\"><li><span><a href=\"#Map\" data-toc-modified-id=\"Map-2.1\"><span class=\"toc-item-num\">2.1&nbsp;&nbsp;</span>Map</a></span><ul class=\"toc-item\"><li><span><a href=\"#First-we-do-it-with-functions\" data-toc-modified-id=\"First-we-do-it-with-functions-2.1.1\"><span class=\"toc-item-num\">2.1.1&nbsp;&nbsp;</span>First we do it with functions</a></span></li><li><span><a href=\"#Extra:-Do-it-with-lambda!\" data-toc-modified-id=\"Extra:-Do-it-with-lambda!-2.1.2\"><span class=\"toc-item-num\">2.1.2&nbsp;&nbsp;</span>Extra: Do it with lambda!</a></span></li></ul></li><li><span><a href=\"#Filter\" data-toc-modified-id=\"Filter-2.2\"><span class=\"toc-item-num\">2.2&nbsp;&nbsp;</span>Filter</a></span><ul class=\"toc-item\"><li><span><a href=\"#First-we-do-it-with-functions\" data-toc-modified-id=\"First-we-do-it-with-functions-2.2.1\"><span class=\"toc-item-num\">2.2.1&nbsp;&nbsp;</span>First we do it with functions</a></span></li><li><span><a href=\"#Extra:-Do-it-with-lambda!\" data-toc-modified-id=\"Extra:-Do-it-with-lambda!-2.2.2\"><span class=\"toc-item-num\">2.2.2&nbsp;&nbsp;</span>Extra: Do it with lambda!</a></span></li></ul></li><li><span><a href=\"#Reduce\" data-toc-modified-id=\"Reduce-2.3\"><span class=\"toc-item-num\">2.3&nbsp;&nbsp;</span>Reduce</a></span><ul class=\"toc-item\"><li><span><a href=\"#What-happened?\" data-toc-modified-id=\"What-happened?-2.3.1\"><span class=\"toc-item-num\">2.3.1&nbsp;&nbsp;</span>What happened?</a></span></li></ul></li><li><span><a href=\"#First-we-do-it-with-functions\" data-toc-modified-id=\"First-we-do-it-with-functions-2.4\"><span class=\"toc-item-num\">2.4&nbsp;&nbsp;</span>First we do it with functions</a></span></li><li><span><a href=\"#Bonus:-Do-it-with-lambda!\" data-toc-modified-id=\"Bonus:-Do-it-with-lambda!-2.5\"><span class=\"toc-item-num\">2.5&nbsp;&nbsp;</span>Bonus: Do it with lambda!</a></span></li></ul></li><li><span><a href=\"#Summary\" data-toc-modified-id=\"Summary-3\"><span class=\"toc-item-num\">3&nbsp;&nbsp;</span>Summary</a></span></li><li><span><a href=\"#Further-materials\" data-toc-modified-id=\"Further-materials-4\"><span class=\"toc-item-num\">4&nbsp;&nbsp;</span>Further materials</a></span></li></ul></div>"
   ]
  },
  {
   "cell_type": "markdown",
   "id": "9fabe6e0-901d-4ef6-9ca2-b70b064244ac",
   "metadata": {
    "lang": "en"
   },
   "source": [
    "### Each student is randomly assigned a topic"
   ]
  },
  {
   "cell_type": "code",
   "execution_count": 14,
   "id": "d8f15b54-680f-40c8-8b8a-1244c751d86d",
   "metadata": {},
   "outputs": [],
   "source": [
    "students = [\n",
    "    \"@Sergi Portoles\",\n",
    "    \"@Bernat Bellmunt\",\n",
    "    \"@Francesc Andreu Macias\",\n",
    "    \"@Guillermo Nespral\",\n",
    "    \"@Hugo Alaimo\",\n",
    "    \"@Marc Calvente\",\n",
    "    \"@Marc Planas\",\n",
    "    \"@Marc Dalmau\",\n",
    "    \"@Maya Almeida\",\n",
    "    \"@Carles Sunyol\",\n",
    "    \"@Carlos Muñoz\",\n",
    "    \"@Cason Berkenstock\",\n",
    "    \"@david ros\",\n",
    "    \"@Joan Roca\",\n",
    "    \"@Joana Maia\",\n",
    "    \"@Joaquin\",\n",
    "    \"@Marc Pérez\",\n",
    "    \"@Max Tabo\",\n",
    "    \"@Nerea Larrachea\",\n",
    "    \"@queralt\",\n",
    "    \"@Selma Laarabi\",\n",
    "    \"@Raphael Hersant\"\n",
    "    \"placeholder\",\n",
    "    \"placeholder\",\n",
    "    \"placeholder\"\n",
    "]"
   ]
  },
  {
   "cell_type": "code",
   "execution_count": 15,
   "id": "edd48246-f4de-4537-bf66-c248db4fbc8d",
   "metadata": {},
   "outputs": [],
   "source": [
    "#Group 1: [('Marc', 'map'), ('Carles', 'filter'), ('Nerea', 'reduce')]\n",
    "#Group 2: [('Marc', 'map'), ('Carles', 'filter'), ('Nerea', 'reduce')]"
   ]
  },
  {
   "cell_type": "code",
   "execution_count": 16,
   "id": "c1386cff-4aa5-49db-8ceb-10c2faf86963",
   "metadata": {},
   "outputs": [],
   "source": [
    "import random"
   ]
  },
  {
   "cell_type": "code",
   "execution_count": 17,
   "id": "6a04ad05-010a-487b-acc0-ac31f30facd0",
   "metadata": {},
   "outputs": [],
   "source": [
    "topics = [\"map\"] * 8  + [\"filter\"] * 8 + [\"reduce\"] * 8"
   ]
  },
  {
   "cell_type": "code",
   "execution_count": 18,
   "id": "3a0b92e7-c41d-4553-98f9-96bd2f558847",
   "metadata": {},
   "outputs": [
    {
     "data": {
      "text/plain": [
       "['map',\n",
       " 'map',\n",
       " 'map',\n",
       " 'map',\n",
       " 'map',\n",
       " 'map',\n",
       " 'map',\n",
       " 'map',\n",
       " 'filter',\n",
       " 'filter',\n",
       " 'filter',\n",
       " 'filter',\n",
       " 'filter',\n",
       " 'filter',\n",
       " 'filter',\n",
       " 'filter',\n",
       " 'reduce',\n",
       " 'reduce',\n",
       " 'reduce',\n",
       " 'reduce',\n",
       " 'reduce',\n",
       " 'reduce',\n",
       " 'reduce',\n",
       " 'reduce']"
      ]
     },
     "execution_count": 18,
     "metadata": {},
     "output_type": "execute_result"
    }
   ],
   "source": [
    "topics"
   ]
  },
  {
   "cell_type": "code",
   "execution_count": 19,
   "id": "91772c7d-007f-41a5-b69d-ea1e499c8eed",
   "metadata": {},
   "outputs": [
    {
     "data": {
      "text/plain": [
       "24"
      ]
     },
     "execution_count": 19,
     "metadata": {},
     "output_type": "execute_result"
    }
   ],
   "source": [
    "len(students)"
   ]
  },
  {
   "cell_type": "code",
   "execution_count": 20,
   "id": "641fc281-822d-4281-a4a0-60152f91e36a",
   "metadata": {},
   "outputs": [
    {
     "data": {
      "text/plain": [
       "24"
      ]
     },
     "execution_count": 20,
     "metadata": {},
     "output_type": "execute_result"
    }
   ],
   "source": [
    "len(topics)"
   ]
  },
  {
   "cell_type": "code",
   "execution_count": 21,
   "id": "f00c414c-534e-47dd-bbad-9caf7262132f",
   "metadata": {},
   "outputs": [],
   "source": [
    "import random"
   ]
  },
  {
   "cell_type": "code",
   "execution_count": 40,
   "id": "0e8d472b-3de6-446d-a49a-cbeee14031d4",
   "metadata": {},
   "outputs": [
    {
     "name": "stdout",
     "output_type": "stream",
     "text": [
      "['@Maya Almeida', '@Sergi Portoles', '@Marc Planas', '@Bernat Bellmunt', '@Carles Sunyol', 'placeholder', '@Max Tabo', '@Cason Berkenstock', '@Raphael Hersantplaceholder', '@david ros', '@Joan Roca', '@Marc Dalmau', '@Francesc Andreu Macias', '@Selma Laarabi', '@Joana Maia', '@Guillermo Nespral', '@Carlos Muñoz', '@Nerea Larrachea', 'placeholder', '@Marc Calvente', '@Joaquin', '@queralt', '@Hugo Alaimo', '@Marc Pérez']\n"
     ]
    }
   ],
   "source": [
    "random.shuffle(students)\n",
    "print(students)"
   ]
  },
  {
   "cell_type": "code",
   "execution_count": 41,
   "id": "c4caca6c-b326-4229-a333-460c1555d473",
   "metadata": {},
   "outputs": [
    {
     "name": "stdout",
     "output_type": "stream",
     "text": [
      "['map', 'filter', 'map', 'filter', 'filter', 'map', 'filter', 'reduce', 'reduce', 'map', 'reduce', 'filter', 'reduce', 'map', 'map', 'reduce', 'reduce', 'filter', 'map', 'filter', 'filter', 'reduce', 'reduce', 'map']\n"
     ]
    }
   ],
   "source": [
    "random.shuffle(topics)\n",
    "print(topics)"
   ]
  },
  {
   "cell_type": "markdown",
   "id": "6eadd983-40f3-4007-b521-626383d4b5e2",
   "metadata": {
    "lang": "en"
   },
   "source": [
    "## Let's start"
   ]
  },
  {
   "cell_type": "markdown",
   "id": "aadb2dbb-3728-454e-b1f6-f3a1c7824474",
   "metadata": {
    "lang": "en"
   },
   "source": [
    "You have 10 minutes to explore and understand the role you have been assigned on your own. You may find these links useful:\n",
    "\n",
    "- [link 1](https://medium.com/swlh/higher-order-functions-in-python-map-filter-and-reduce-34299fee1b21)\n",
    "- [link 2](https://www.learnpython.org/en/Map,_Filter,_Reduce)\n",
    "- [link 3](https://stackabuse.com/map-filter-and-reduce-in-python-with-examples)"
   ]
  },
  {
   "cell_type": "markdown",
   "id": "16f246ef-e28e-4699-b616-fb8fbf101299",
   "metadata": {},
   "source": [
    "### Create groups with other people who have studied the same function"
   ]
  },
  {
   "cell_type": "markdown",
   "id": "afdedb88-fa10-48fe-995d-0a649fc98a10",
   "metadata": {},
   "source": [
    "![otrogif](https://media.giphy.com/media/UatRnEUNX8iCQ/giphy.gif)"
   ]
  },
  {
   "cell_type": "markdown",
   "id": "8cd925f6-ff28-4ecb-af07-c519a8d224c2",
   "metadata": {
    "lang": "en"
   },
   "source": [
    "In this part of the game you are assigned to a group in which you are the expert in your role.\n",
    "Each group member has 5 minutes to explain their role to the other team members."
   ]
  },
  {
   "cell_type": "code",
   "execution_count": null,
   "id": "d1e9c0d1-37e2-4ab1-8192-edfb35677fac",
   "metadata": {
    "collapsed": true,
    "jupyter": {
     "outputs_hidden": true
    }
   },
   "outputs": [],
   "source": [
    "topics & students"
   ]
  },
  {
   "cell_type": "code",
   "execution_count": 42,
   "id": "d1e12bf9-2549-4a84-876e-d825fee4d6f0",
   "metadata": {},
   "outputs": [],
   "source": [
    "alltogether = list(zip(students, topics))"
   ]
  },
  {
   "cell_type": "code",
   "execution_count": 43,
   "id": "d4c0e06b-60db-4618-a839-80672bf3512a",
   "metadata": {},
   "outputs": [
    {
     "data": {
      "text/plain": [
       "[('@Maya Almeida', 'map'),\n",
       " ('@Sergi Portoles', 'filter'),\n",
       " ('@Marc Planas', 'map'),\n",
       " ('@Bernat Bellmunt', 'filter'),\n",
       " ('@Carles Sunyol', 'filter'),\n",
       " ('placeholder', 'map'),\n",
       " ('@Max Tabo', 'filter'),\n",
       " ('@Cason Berkenstock', 'reduce'),\n",
       " ('@Raphael Hersantplaceholder', 'reduce'),\n",
       " ('@david ros', 'map'),\n",
       " ('@Joan Roca', 'reduce'),\n",
       " ('@Marc Dalmau', 'filter'),\n",
       " ('@Francesc Andreu Macias', 'reduce'),\n",
       " ('@Selma Laarabi', 'map'),\n",
       " ('@Joana Maia', 'map'),\n",
       " ('@Guillermo Nespral', 'reduce'),\n",
       " ('@Carlos Muñoz', 'reduce'),\n",
       " ('@Nerea Larrachea', 'filter'),\n",
       " ('placeholder', 'map'),\n",
       " ('@Marc Calvente', 'filter'),\n",
       " ('@Joaquin', 'filter'),\n",
       " ('@queralt', 'reduce'),\n",
       " ('@Hugo Alaimo', 'reduce'),\n",
       " ('@Marc Pérez', 'map')]"
      ]
     },
     "execution_count": 43,
     "metadata": {},
     "output_type": "execute_result"
    }
   ],
   "source": [
    "alltogether"
   ]
  },
  {
   "cell_type": "code",
   "execution_count": 50,
   "id": "3d76ded3-f156-43c2-86b1-4e326fc698c0",
   "metadata": {},
   "outputs": [],
   "source": [
    "map_experts = list(filter(lambda x: x[1] == \"map\", alltogether))\n",
    "filter_experts = list(filter(lambda x: x[1] == \"filter\", alltogether))\n",
    "reduce_experts = list(filter(lambda x: x[1] == \"reduce\", alltogether))"
   ]
  },
  {
   "cell_type": "code",
   "execution_count": 52,
   "id": "d0d1860d-3ea4-409f-b9f2-6a86a922a260",
   "metadata": {},
   "outputs": [
    {
     "name": "stdout",
     "output_type": "stream",
     "text": [
      "Group 1: [('@Maya Almeida', 'map'), ('@Sergi Portoles', 'filter'), ('@Cason Berkenstock', 'reduce')]\n",
      "Group 2: [('@Marc Planas', 'map'), ('@Bernat Bellmunt', 'filter'), ('@Raphael Hersantplaceholder', 'reduce')]\n",
      "Group 3: [('placeholder', 'map'), ('@Carles Sunyol', 'filter'), ('@Joan Roca', 'reduce')]\n",
      "Group 4: [('@david ros', 'map'), ('@Max Tabo', 'filter'), ('@Francesc Andreu Macias', 'reduce')]\n",
      "Group 5: [('@Selma Laarabi', 'map'), ('@Marc Dalmau', 'filter'), ('@Guillermo Nespral', 'reduce')]\n",
      "Group 6: [('@Joana Maia', 'map'), ('@Nerea Larrachea', 'filter'), ('@Carlos Muñoz', 'reduce')]\n",
      "Group 7: [('placeholder', 'map'), ('@Marc Calvente', 'filter'), ('@queralt', 'reduce')]\n",
      "Group 8: [('@Marc Pérez', 'map'), ('@Joaquin', 'filter'), ('@Hugo Alaimo', 'reduce')]\n"
     ]
    }
   ],
   "source": [
    "counter = 1\n",
    "for everyone in zip(map_experts, filter_experts, reduce_experts):\n",
    "    print(f\"Group {counter}: {[[i][0]for i in everyone]}\")\n",
    "    counter += 1"
   ]
  },
  {
   "cell_type": "markdown",
   "id": "8d7917da-6aae-4772-bfdd-ba4ccb564a0b",
   "metadata": {
    "lang": "en"
   },
   "source": [
    "## Map, Filter, Reduce"
   ]
  },
  {
   "cell_type": "markdown",
   "id": "8958a915-bbd0-44fe-af6d-18ed39a69a5c",
   "metadata": {
    "lang": "en"
   },
   "source": [
    "There are three functions that will come in very handy when working with iterators. These functions facilitate certain basic and common operations on iterable collections of data, such as removing elements that do not meet a certain condition, calculating a result from the contained data, or applying a transformation to each element. Let's see them with examples of use:"
   ]
  },
  {
   "cell_type": "markdown",
   "id": "e5f275cc-31bc-4f44-bb7f-5bce097407aa",
   "metadata": {},
   "source": [
    "### Map"
   ]
  },
  {
   "cell_type": "markdown",
   "id": "bd8c26fb-5ef3-448e-bbed-a075cb59eb8f",
   "metadata": {
    "lang": "en"
   },
   "source": [
    "The map() function takes a function and a list and applies that function to each element in that list, producing a new list.\n",
    "```python\n",
    "map(function_to_apply, list_of_inputs)\n",
    "```"
   ]
  },
  {
   "cell_type": "code",
   "execution_count": 53,
   "id": "f9f16fb3-91f5-41cb-9740-4941a5109ac2",
   "metadata": {},
   "outputs": [
    {
     "data": {
      "text/plain": [
       "('@Selma Laarabi', 'map')"
      ]
     },
     "execution_count": 53,
     "metadata": {},
     "output_type": "execute_result"
    }
   ],
   "source": [
    "map_experts[4]"
   ]
  },
  {
   "cell_type": "code",
   "execution_count": null,
   "id": "f6857d6b-da95-44ed-9630-51778c3b5e8a",
   "metadata": {},
   "outputs": [],
   "source": [
    "# loop -> map\n",
    "# two arguments -> function & iterable\n",
    "    # many iterables\n",
    "    # one-liners vs a for loop\n",
    "    # map(function, iterable)\n",
    "    # MAP RETURNS AN OBJECT"
   ]
  },
  {
   "cell_type": "code",
   "execution_count": 55,
   "id": "79b16b14-e834-4704-9ddd-227ddf20eb7d",
   "metadata": {},
   "outputs": [],
   "source": [
    "def square (n):\n",
    "    return n ** 2"
   ]
  },
  {
   "cell_type": "code",
   "execution_count": 59,
   "id": "46b796f5-5d02-4ef7-b4fc-427df77fd85c",
   "metadata": {},
   "outputs": [],
   "source": [
    "list_ = [2, 4, 6]"
   ]
  },
  {
   "cell_type": "code",
   "execution_count": 60,
   "id": "6c7edeeb-52db-48bf-a32c-50857878a3d6",
   "metadata": {},
   "outputs": [
    {
     "data": {
      "text/plain": [
       "<map at 0x7fecbeeaf190>"
      ]
     },
     "execution_count": 60,
     "metadata": {},
     "output_type": "execute_result"
    }
   ],
   "source": [
    "map(square, list_)"
   ]
  },
  {
   "cell_type": "code",
   "execution_count": 65,
   "id": "85ec4c2b-3952-427f-b495-e7304f33385e",
   "metadata": {},
   "outputs": [
    {
     "data": {
      "text/plain": [
       "[4, 16, 36]"
      ]
     },
     "execution_count": 65,
     "metadata": {},
     "output_type": "execute_result"
    }
   ],
   "source": [
    "new_list = list(map(square, list_))\n",
    "new_list"
   ]
  },
  {
   "cell_type": "code",
   "execution_count": 66,
   "id": "c427f848-e771-4dab-a4ba-f806da80bb95",
   "metadata": {},
   "outputs": [
    {
     "data": {
      "text/plain": [
       "[4, 16, 36]"
      ]
     },
     "execution_count": 66,
     "metadata": {},
     "output_type": "execute_result"
    }
   ],
   "source": [
    "new_list = []\n",
    "for i in list_:\n",
    "    new_list.append(i ** 2)\n",
    "    \n",
    "new_list"
   ]
  },
  {
   "cell_type": "code",
   "execution_count": null,
   "id": "0c95261e-f633-4117-a45b-5ac0cc64177e",
   "metadata": {},
   "outputs": [],
   "source": [
    "# defined function -> defined by me / built-in\n",
    "# saving the trouble of creating a for loop"
   ]
  },
  {
   "cell_type": "markdown",
   "id": "e8127fb4-42cb-47c2-9122-7b028efdc93b",
   "metadata": {
    "lang": "en"
   },
   "source": [
    "#### First we do it with functions"
   ]
  },
  {
   "cell_type": "code",
   "execution_count": null,
   "id": "288c489d-68b4-4a68-99d9-16dbdb4c34c9",
   "metadata": {},
   "outputs": [],
   "source": []
  },
  {
   "cell_type": "markdown",
   "id": "dbc1907b-a9df-4bb6-be78-8940ec00291b",
   "metadata": {
    "lang": "en"
   },
   "source": [
    "The map function returns an iterator, so we have to use `list(map_iterator)`"
   ]
  },
  {
   "cell_type": "code",
   "execution_count": null,
   "id": "4df9043a-eda1-40db-822c-e447387db664",
   "metadata": {
    "scrolled": true
   },
   "outputs": [],
   "source": []
  },
  {
   "cell_type": "markdown",
   "id": "4f2d55b2-df16-44fa-919c-28883da77e4b",
   "metadata": {
    "lang": "en"
   },
   "source": [
    "#### Extra: Do it with lambda!"
   ]
  },
  {
   "cell_type": "code",
   "execution_count": 67,
   "id": "878a1fff-1c3f-4462-aca4-6e2862031e41",
   "metadata": {},
   "outputs": [
    {
     "data": {
      "text/plain": [
       "[2, 4, 6]"
      ]
     },
     "execution_count": 67,
     "metadata": {},
     "output_type": "execute_result"
    }
   ],
   "source": [
    "list_"
   ]
  },
  {
   "cell_type": "code",
   "execution_count": null,
   "id": "1a1743a3-e3f2-4626-9e3f-157e506bbffb",
   "metadata": {},
   "outputs": [],
   "source": [
    "[4, ...]"
   ]
  },
  {
   "cell_type": "code",
   "execution_count": 68,
   "id": "c096eef3-02c0-4d6c-92b1-abfcebbd142b",
   "metadata": {},
   "outputs": [],
   "source": [
    "new_list = []\n",
    "\n",
    "\n",
    "# get the square of each in a list with a lambda"
   ]
  },
  {
   "cell_type": "code",
   "execution_count": 69,
   "id": "f4896bbc-f6c5-4b18-bf82-ababa3493807",
   "metadata": {},
   "outputs": [
    {
     "data": {
      "text/plain": [
       "[4, 16, 36]"
      ]
     },
     "execution_count": 69,
     "metadata": {},
     "output_type": "execute_result"
    }
   ],
   "source": [
    "list(map(square, list_))"
   ]
  },
  {
   "cell_type": "code",
   "execution_count": 97,
   "id": "046626fc-d129-4213-8064-3720a6181eef",
   "metadata": {},
   "outputs": [],
   "source": [
    "def square (n):\n",
    "    a = n ** 2\n",
    "    print(a)\n",
    "    return a"
   ]
  },
  {
   "cell_type": "code",
   "execution_count": 98,
   "id": "d0417756-972d-4909-85ab-3ea0eeaf7290",
   "metadata": {},
   "outputs": [
    {
     "data": {
      "text/plain": [
       "[1, 4, 9]"
      ]
     },
     "execution_count": 98,
     "metadata": {},
     "output_type": "execute_result"
    }
   ],
   "source": [
    "list(map(lambda x: x ** 2, list_))"
   ]
  },
  {
   "cell_type": "code",
   "execution_count": 99,
   "id": "6e5dd11c-9860-48bf-87f6-a75f43ca2860",
   "metadata": {},
   "outputs": [
    {
     "name": "stdout",
     "output_type": "stream",
     "text": [
      "25\n",
      "100\n",
      "400\n"
     ]
    },
    {
     "data": {
      "text/plain": [
       "[25, 100, 400]"
      ]
     },
     "execution_count": 99,
     "metadata": {},
     "output_type": "execute_result"
    }
   ],
   "source": [
    "# Q Marc Pérez: can we do the same with a dictionary?\n",
    "# iterable in a dictionary: values? the keys?\n",
    "\n",
    "a_dictionary = {\n",
    "    \"a\": 5,\n",
    "    \"b\": 10,\n",
    "    \"c\": 20\n",
    "}\n",
    "\n",
    "\n",
    "a_dictionary.values()\n",
    "\n",
    "for i in a_dictionary.values():\n",
    "    print(i ** 2)\n",
    "    \n",
    "list(map(lambda x: x ** 2, a_dictionary.values()))"
   ]
  },
  {
   "cell_type": "code",
   "execution_count": 100,
   "id": "6357c1f3-5a31-4199-a899-1ca487fcea23",
   "metadata": {},
   "outputs": [],
   "source": [
    "# Q Maya: can I pass two arguemnts? \n",
    "# A: yes, but n arguments for the function should match n number if iterables\n",
    "\n",
    "def addition (a, b):\n",
    "    return a + b\n",
    "\n",
    "iterable = [4, 16, 36]\n",
    "iterable_2  = [40, 160, 360, 202202]"
   ]
  },
  {
   "cell_type": "code",
   "execution_count": 101,
   "id": "41e0e628-a253-4688-806f-3efb21e33394",
   "metadata": {},
   "outputs": [
    {
     "data": {
      "text/plain": [
       "[44, 176, 396]"
      ]
     },
     "execution_count": 101,
     "metadata": {},
     "output_type": "execute_result"
    }
   ],
   "source": [
    "new_list_two_arguments = list(map(addition, iterable, iterable_2))\n",
    "new_list_two_arguments"
   ]
  },
  {
   "cell_type": "code",
   "execution_count": 102,
   "id": "5dc238ec-2801-47fc-ae8b-bc083b4dd56e",
   "metadata": {},
   "outputs": [
    {
     "data": {
      "text/plain": [
       "[44, 176, 396]"
      ]
     },
     "execution_count": 102,
     "metadata": {},
     "output_type": "execute_result"
    }
   ],
   "source": [
    "# Q Max: same with lambda\n",
    "\n",
    "new_list_two_arguments = list(map(lambda x, y: x + y, iterable, iterable_2))\n",
    "new_list_two_arguments"
   ]
  },
  {
   "cell_type": "code",
   "execution_count": 103,
   "id": "b31196a4-e3a0-4c74-8e59-799a56581591",
   "metadata": {},
   "outputs": [],
   "source": [
    "#[(iterable1[0]), (iterable_2[0]), (iterable1[1], iterable1[1])]\n",
    "# like a zip -> stick to the shortest one"
   ]
  },
  {
   "cell_type": "code",
   "execution_count": 104,
   "id": "3ed5cc3d-9001-412b-99a0-b891538d2a97",
   "metadata": {},
   "outputs": [
    {
     "data": {
      "text/plain": [
       "['HELLO', 'MY', 'NAME', 'IS']"
      ]
     },
     "execution_count": 104,
     "metadata": {},
     "output_type": "execute_result"
    }
   ],
   "source": [
    "iterable_strings = [\"hello\" ,\"my\", \"name\", \"is\"]\n",
    "\n",
    "list(map(lambda x: x.upper(), iterable_strings))"
   ]
  },
  {
   "cell_type": "code",
   "execution_count": 105,
   "id": "ba3f23e3-7d69-4d3b-aba6-d50380ce56fc",
   "metadata": {},
   "outputs": [
    {
     "data": {
      "text/plain": [
       "['HELLO', 'MY', 'NAME', 'IS']"
      ]
     },
     "execution_count": 105,
     "metadata": {},
     "output_type": "execute_result"
    }
   ],
   "source": [
    "list(map(lambda x: x.upper(), iterable_strings))"
   ]
  },
  {
   "cell_type": "code",
   "execution_count": null,
   "id": "45827aa9-642f-41cd-8910-60ebb0a892cf",
   "metadata": {},
   "outputs": [],
   "source": [
    "def square (n):\n",
    "    a = n ** 2\n",
    "    print(a)\n",
    "    return a"
   ]
  },
  {
   "cell_type": "code",
   "execution_count": 115,
   "id": "7b802727-be39-4514-bda0-eec8e94361b5",
   "metadata": {},
   "outputs": [],
   "source": [
    "import time"
   ]
  },
  {
   "cell_type": "code",
   "execution_count": 125,
   "id": "c944db0f-8cda-49d3-87c1-4cd2d6314c59",
   "metadata": {},
   "outputs": [
    {
     "name": "stdout",
     "output_type": "stream",
     "text": [
      "1\n",
      "4\n",
      "9\n",
      "CPU times: user 385 µs, sys: 161 µs, total: 546 µs\n",
      "Wall time: 560 µs\n"
     ]
    },
    {
     "data": {
      "text/plain": [
       "[1, 4, 9]"
      ]
     },
     "execution_count": 125,
     "metadata": {},
     "output_type": "execute_result"
    }
   ],
   "source": [
    "%%time\n",
    "list_ = [1, 2, 3]\n",
    "new_list = []\n",
    "\n",
    "for i in list_:\n",
    "    new_list.append(square(i))\n",
    "new_list"
   ]
  },
  {
   "cell_type": "code",
   "execution_count": 126,
   "id": "3146cf82-11a8-4d6b-91d6-4e89cbb0c2c3",
   "metadata": {},
   "outputs": [
    {
     "name": "stdout",
     "output_type": "stream",
     "text": [
      "1\n",
      "4\n",
      "9\n",
      "CPU times: user 79 µs, sys: 33 µs, total: 112 µs\n",
      "Wall time: 87.3 µs\n"
     ]
    },
    {
     "data": {
      "text/plain": [
       "[1, 4, 9]"
      ]
     },
     "execution_count": 126,
     "metadata": {},
     "output_type": "execute_result"
    }
   ],
   "source": [
    "%%time\n",
    "new_list_2 = list(map(square, list_))\n",
    "new_list_2"
   ]
  },
  {
   "cell_type": "markdown",
   "id": "b5139f56-04e1-4ca8-a270-9fe03307845d",
   "metadata": {},
   "source": [
    "### Filter"
   ]
  },
  {
   "cell_type": "markdown",
   "id": "c908137b-67f7-4855-899f-de29c1d0b8b8",
   "metadata": {
    "lang": "en"
   },
   "source": [
    "The filter() function filters a list of items for which a function returns True.\n",
    "```python\n",
    "filter(a_function, a_list)\n",
    "```"
   ]
  },
  {
   "cell_type": "markdown",
   "id": "a17c5120-c0b6-4844-b193-e60b775169c8",
   "metadata": {
    "lang": "en"
   },
   "source": [
    "Imagine you want to filter a list of numbers to get only even values."
   ]
  },
  {
   "cell_type": "code",
   "execution_count": 127,
   "id": "54e008f1-e646-47d5-b578-aed0b4f187e0",
   "metadata": {},
   "outputs": [
    {
     "data": {
      "text/plain": [
       "('@Joaquin', 'filter')"
      ]
     },
     "execution_count": 127,
     "metadata": {},
     "output_type": "execute_result"
    }
   ],
   "source": [
    "filter_experts[7]"
   ]
  },
  {
   "cell_type": "code",
   "execution_count": null,
   "id": "32a0121a-1eed-45af-89f3-4752c7d0326d",
   "metadata": {},
   "outputs": [],
   "source": [
    "# function\n",
    "    # two args: function & iterable\n",
    "    # returns a boolean: true or false\n",
    "# returns a filtered iterable\n",
    "    # list through the function\n",
    "    # return a shorter lists with those values that are true"
   ]
  },
  {
   "cell_type": "code",
   "execution_count": null,
   "id": "4b2dca44-fa4f-4f62-b9ed-9a177b48a9f3",
   "metadata": {},
   "outputs": [],
   "source": [
    "# one iterable required"
   ]
  },
  {
   "cell_type": "code",
   "execution_count": 128,
   "id": "46030aa2-1bde-460d-b846-8c9d838cb536",
   "metadata": {},
   "outputs": [
    {
     "data": {
      "text/plain": [
       "[1, 2, 3, 4, 5, 6, 7, 8, 9, 10]"
      ]
     },
     "execution_count": 128,
     "metadata": {},
     "output_type": "execute_result"
    }
   ],
   "source": [
    "all_number = [i for i in range(1, 11)]\n",
    "all_number"
   ]
  },
  {
   "cell_type": "markdown",
   "id": "457948d2-004b-4b11-87ac-8182483b5f1f",
   "metadata": {
    "lang": "en"
   },
   "source": [
    "#### First we do it with functions"
   ]
  },
  {
   "cell_type": "code",
   "execution_count": null,
   "id": "56096718-743b-4259-93a3-34a1094e1ea8",
   "metadata": {},
   "outputs": [],
   "source": [
    "# smallest value\n",
    "# later you will loop / iterate / map "
   ]
  },
  {
   "cell_type": "code",
   "execution_count": 148,
   "id": "58681af9-de17-4b7f-954e-6b82b21a0f06",
   "metadata": {},
   "outputs": [],
   "source": [
    "# function\n",
    "   # bool value\n",
    "    \n",
    "def even (n):\n",
    "    if n % 2 == 0:\n",
    "        return True"
   ]
  },
  {
   "cell_type": "code",
   "execution_count": 162,
   "id": "bdb5bf6a-1921-4d54-a13e-3a78dd171d90",
   "metadata": {},
   "outputs": [],
   "source": [
    "# function\n",
    "   # bool value\n",
    "    \n",
    "def even_2 (n):\n",
    "    if n % 2 == 0:\n",
    "        return n\n",
    "    else:\n",
    "        return \"no number\""
   ]
  },
  {
   "cell_type": "code",
   "execution_count": 149,
   "id": "15bfda8d-c409-478e-be14-fe60d4b3ab9f",
   "metadata": {},
   "outputs": [],
   "source": [
    "number = even(3)\n",
    "number"
   ]
  },
  {
   "cell_type": "code",
   "execution_count": 150,
   "id": "b90c7663-06f3-454c-9c63-76b552279655",
   "metadata": {},
   "outputs": [
    {
     "data": {
      "text/plain": [
       "True"
      ]
     },
     "execution_count": 150,
     "metadata": {},
     "output_type": "execute_result"
    }
   ],
   "source": [
    "number = even(2)\n",
    "number"
   ]
  },
  {
   "cell_type": "markdown",
   "id": "1b151cdc-56ca-4bb2-8909-dd4851240a0e",
   "metadata": {
    "lang": "en"
   },
   "source": [
    "Imagine that you want to filter a list and keep only the groups that start with the letter R"
   ]
  },
  {
   "cell_type": "code",
   "execution_count": 151,
   "id": "063f583f-2dc9-4f0b-bc95-4f5b1c7edb64",
   "metadata": {},
   "outputs": [
    {
     "data": {
      "text/plain": [
       "[1, 2, 3, 4, 5, 6, 7, 8, 9, 10]"
      ]
     },
     "execution_count": 151,
     "metadata": {},
     "output_type": "execute_result"
    }
   ],
   "source": [
    "all_number"
   ]
  },
  {
   "cell_type": "code",
   "execution_count": 152,
   "id": "a486b31c-b501-4478-853f-fc43bd96a03f",
   "metadata": {},
   "outputs": [
    {
     "data": {
      "text/plain": [
       "[1, 2, 3, 4, 5, 6, 7, 8, 9, 10]"
      ]
     },
     "execution_count": 152,
     "metadata": {},
     "output_type": "execute_result"
    }
   ],
   "source": [
    "all_number # before filtering"
   ]
  },
  {
   "cell_type": "code",
   "execution_count": 153,
   "id": "cce441c6-4c6b-4c62-862f-533f3f854062",
   "metadata": {},
   "outputs": [
    {
     "data": {
      "text/plain": [
       "[2, 4, 6, 8, 10]"
      ]
     },
     "execution_count": 153,
     "metadata": {},
     "output_type": "execute_result"
    }
   ],
   "source": [
    "#after filtering\n",
    "new_filtered_list = list(filter(even, all_number))\n",
    "new_filtered_list"
   ]
  },
  {
   "cell_type": "code",
   "execution_count": 154,
   "id": "61d6ea87-6ca5-4ada-ae3e-e7073d7312b2",
   "metadata": {},
   "outputs": [],
   "source": [
    "# the function you pass: returns True/False\n",
    "# Filter will return the element depending on the result of your function"
   ]
  },
  {
   "cell_type": "code",
   "execution_count": 163,
   "id": "e2122e16-d8fd-4e52-8530-7a98551bf678",
   "metadata": {},
   "outputs": [
    {
     "data": {
      "text/plain": [
       "['no number',\n",
       " 2,\n",
       " 'no number',\n",
       " 4,\n",
       " 'no number',\n",
       " 6,\n",
       " 'no number',\n",
       " 8,\n",
       " 'no number',\n",
       " 10]"
      ]
     },
     "execution_count": 163,
     "metadata": {},
     "output_type": "execute_result"
    }
   ],
   "source": [
    "# Q Maya: using map on this\n",
    "\n",
    "list(map(even_2, all_number))"
   ]
  },
  {
   "cell_type": "code",
   "execution_count": 166,
   "id": "15548946-5b01-45ec-9459-02521757a2e5",
   "metadata": {},
   "outputs": [
    {
     "data": {
      "text/plain": [
       "[2, 4, 6, 8, 10]"
      ]
     },
     "execution_count": 166,
     "metadata": {},
     "output_type": "execute_result"
    }
   ],
   "source": [
    "# Q Maya: using map on this\n",
    "\n",
    "list(filter(even, all_number))"
   ]
  },
  {
   "cell_type": "code",
   "execution_count": 167,
   "id": "0458413b-4073-4b6f-a413-237f3efaea14",
   "metadata": {},
   "outputs": [],
   "source": [
    "list_strings = [\"Rosalía\", \"Bad bunny\", \"Russian red\"]"
   ]
  },
  {
   "cell_type": "code",
   "execution_count": 169,
   "id": "3ad631bc-2b05-4a75-b5ea-23a052563382",
   "metadata": {},
   "outputs": [
    {
     "data": {
      "text/plain": [
       "['Rosalía', 'Russian red']"
      ]
     },
     "execution_count": 169,
     "metadata": {},
     "output_type": "execute_result"
    }
   ],
   "source": [
    "# 1. For loop\n",
    "\n",
    "new_list = []\n",
    "\n",
    "for i in list_strings:\n",
    "    if i.startswith(\"R\"):\n",
    "        new_list.append(i)\n",
    "\n",
    "new_list"
   ]
  },
  {
   "cell_type": "code",
   "execution_count": 174,
   "id": "ea9b29e0-be46-4951-a236-752e83843224",
   "metadata": {},
   "outputs": [
    {
     "data": {
      "text/plain": [
       "['Rosalía', 'Russian red']"
      ]
     },
     "execution_count": 174,
     "metadata": {},
     "output_type": "execute_result"
    }
   ],
   "source": [
    "# 2. Filter\n",
    "\n",
    "def starts_with_r (n):\n",
    "    return n.startswith(\"R\") #bool\n",
    "\n",
    "starts_with_r (\"Bad Bunny\")\n",
    "\n",
    "list(filter(starts_with_r, list_strings))"
   ]
  },
  {
   "cell_type": "markdown",
   "id": "b162da35-9116-4448-8ce7-8069343872d3",
   "metadata": {
    "lang": "en"
   },
   "source": [
    "#### Extra: Do it with lambda!"
   ]
  },
  {
   "cell_type": "code",
   "execution_count": 175,
   "id": "8040209d-a393-47cd-8235-6df73a6e7713",
   "metadata": {},
   "outputs": [
    {
     "data": {
      "text/plain": [
       "['Rosalía', 'Russian red']"
      ]
     },
     "execution_count": 175,
     "metadata": {},
     "output_type": "execute_result"
    }
   ],
   "source": [
    "# 3. Filter & lambda\n",
    "\n",
    "list(filter(lambda x: x[0] == \"R\", list_strings))"
   ]
  },
  {
   "cell_type": "code",
   "execution_count": null,
   "id": "06ee304a-a134-477a-8a2c-b97e1d656e3a",
   "metadata": {},
   "outputs": [],
   "source": [
    "# does it take any arguments? it has to"
   ]
  },
  {
   "cell_type": "markdown",
   "id": "94ec44d9-314b-4040-bd30-11bed2110061",
   "metadata": {
    "lang": "en"
   },
   "source": [
    "### Reduce"
   ]
  },
  {
   "cell_type": "markdown",
   "id": "220db4b6-5e77-4078-9884-68fe085626fd",
   "metadata": {
    "lang": "en"
   },
   "source": [
    "This function is not a built-in function, which means you must first import the functools library for use. The reduce() function cumulatively applies the f() function to the elements of the iterable. The accumulator can be initialized with an optional third argument. The result is the final value of the accumulator.\n",
    "\n",
    "```python\n",
    "reduce(function, iterable[, initial])\n",
    "```"
   ]
  },
  {
   "cell_type": "code",
   "execution_count": 176,
   "id": "15f31f26-3aa9-49a7-b98a-09a328da2269",
   "metadata": {},
   "outputs": [
    {
     "data": {
      "text/plain": [
       "('@Carlos Muñoz', 'reduce')"
      ]
     },
     "execution_count": 176,
     "metadata": {},
     "output_type": "execute_result"
    }
   ],
   "source": [
    "reduce_experts[5]"
   ]
  },
  {
   "cell_type": "code",
   "execution_count": null,
   "id": "040a93c5-3bb7-4852-b94f-127df6ece085",
   "metadata": {},
   "outputs": [],
   "source": [
    "# function\n",
    "    # two arguments\n",
    "    # accumulatively \n",
    "    # may or may not have an initla argument"
   ]
  },
  {
   "cell_type": "code",
   "execution_count": 178,
   "id": "1fb0a749-4e3f-44b8-bf67-a8274549e7e4",
   "metadata": {},
   "outputs": [],
   "source": [
    "from functools import reduce"
   ]
  },
  {
   "cell_type": "code",
   "execution_count": 194,
   "id": "72d43e79-7291-440c-a198-f47914c361ca",
   "metadata": {},
   "outputs": [],
   "source": [
    "def addition (a, b):\n",
    "    #print(a * b)\n",
    "    return a * b"
   ]
  },
  {
   "cell_type": "code",
   "execution_count": 195,
   "id": "2fa6cdae-bdba-49a0-9203-ac39a40fc96f",
   "metadata": {},
   "outputs": [
    {
     "data": {
      "text/plain": [
       "20"
      ]
     },
     "execution_count": 195,
     "metadata": {},
     "output_type": "execute_result"
    }
   ],
   "source": [
    "addition (10, 2)"
   ]
  },
  {
   "cell_type": "code",
   "execution_count": 196,
   "id": "f45c4429-0530-4704-9295-068abc95a234",
   "metadata": {},
   "outputs": [
    {
     "data": {
      "text/plain": [
       "[1, 2, 3, 4, 5, 6, 7, 8, 9, 10, 11, 12, 13, 14, 15]"
      ]
     },
     "execution_count": 196,
     "metadata": {},
     "output_type": "execute_result"
    }
   ],
   "source": [
    "numbers_15 = [i for i in range(1, 16)]\n",
    "numbers_15"
   ]
  },
  {
   "cell_type": "code",
   "execution_count": 197,
   "id": "be6a823f-9431-44d8-97a4-6bd56a45c32f",
   "metadata": {},
   "outputs": [
    {
     "data": {
      "text/plain": [
       "120"
      ]
     },
     "execution_count": 197,
     "metadata": {},
     "output_type": "execute_result"
    }
   ],
   "source": [
    "sum(numbers_15)"
   ]
  },
  {
   "cell_type": "code",
   "execution_count": 198,
   "id": "9a0c8981-56e2-499e-abb3-9146ee067dc3",
   "metadata": {},
   "outputs": [],
   "source": [
    "# start: list /iterable\n",
    "# finishing with a value: just one thing\n",
    "\n",
    "# map & filter -> iterable to iterable\n",
    "# reduce -> iterable to number"
   ]
  },
  {
   "cell_type": "code",
   "execution_count": 199,
   "id": "be97ba75-61f0-4c36-84a3-652bf116b21f",
   "metadata": {},
   "outputs": [
    {
     "data": {
      "text/plain": [
       "1307674368000"
      ]
     },
     "execution_count": 199,
     "metadata": {},
     "output_type": "execute_result"
    }
   ],
   "source": [
    "reduce(addition, numbers_15)"
   ]
  },
  {
   "cell_type": "code",
   "execution_count": 209,
   "id": "145179c6-ace3-4649-9e21-8fd9d9b5e3e3",
   "metadata": {},
   "outputs": [],
   "source": [
    "def addition_strings (a, b):\n",
    "    #print(a * b)\n",
    "    return a + \" \" + b"
   ]
  },
  {
   "cell_type": "code",
   "execution_count": 210,
   "id": "3ed24109-0b5d-4244-a40b-9ea30679fca3",
   "metadata": {},
   "outputs": [
    {
     "data": {
      "text/plain": [
       "'hello  hi there'"
      ]
     },
     "execution_count": 210,
     "metadata": {},
     "output_type": "execute_result"
    }
   ],
   "source": [
    "addition_strings(\"hello\", \" hi there\")"
   ]
  },
  {
   "cell_type": "code",
   "execution_count": 211,
   "id": "04269aba-ce94-479a-9bc4-802e9ec71938",
   "metadata": {},
   "outputs": [],
   "source": [
    "list_of_strings = [\"hey\", \"how\", \"are\", \"you\", \"doing\"]"
   ]
  },
  {
   "cell_type": "code",
   "execution_count": 229,
   "id": "a0a04e99-1898-4eb4-b79e-fe10e3bef297",
   "metadata": {},
   "outputs": [
    {
     "data": {
      "text/plain": [
       "'sdsojbndnjkFNKJNFD'"
      ]
     },
     "execution_count": 229,
     "metadata": {},
     "output_type": "execute_result"
    }
   ],
   "source": [
    "\"sdsojbndnjkFNKJNFD\""
   ]
  },
  {
   "cell_type": "code",
   "execution_count": 230,
   "id": "2a08d68a-e711-45c0-b767-b8d9781dc489",
   "metadata": {},
   "outputs": [
    {
     "data": {
      "text/plain": [
       "'hey how are you doing'"
      ]
     },
     "execution_count": 230,
     "metadata": {},
     "output_type": "execute_result"
    }
   ],
   "source": [
    "\" \".join(list_of_strings)"
   ]
  },
  {
   "cell_type": "code",
   "execution_count": 231,
   "id": "a3cec551-4252-4f12-abf5-c013419f00a2",
   "metadata": {},
   "outputs": [
    {
     "data": {
      "text/plain": [
       "'s d s o j b n d n j k F N K J N F D'"
      ]
     },
     "execution_count": 231,
     "metadata": {},
     "output_type": "execute_result"
    }
   ],
   "source": [
    "reduce(addition_strings, \"sdsojbndnjkFNKJNFD\")"
   ]
  },
  {
   "cell_type": "code",
   "execution_count": null,
   "id": "f53c4f23-91d5-4cc5-b5b6-423d1ad2c3b6",
   "metadata": {},
   "outputs": [],
   "source": [
    "# whatever the result is will be the input for the next one"
   ]
  },
  {
   "cell_type": "markdown",
   "id": "d4c1fcac-6252-4f1e-953d-3fc60a855be4",
   "metadata": {
    "lang": "en"
   },
   "source": [
    "⚠️ Reduce is a bit more complicated to understand than map() and filter() so let's walk through the following example ⚠️"
   ]
  },
  {
   "cell_type": "code",
   "execution_count": 232,
   "id": "13222456-3f75-46f2-afe2-c829c28a6cd3",
   "metadata": {},
   "outputs": [
    {
     "data": {
      "text/plain": [
       "16"
      ]
     },
     "execution_count": 232,
     "metadata": {},
     "output_type": "execute_result"
    }
   ],
   "source": [
    "def add (x, y):\n",
    "    return x + y\n",
    "\n",
    "list_ = [2, 4, 7, 3]\n",
    "\n",
    "reduce(add, list_)"
   ]
  },
  {
   "cell_type": "markdown",
   "id": "737c9925-d9b6-4544-ac51-0056dabc8d81",
   "metadata": {
    "lang": "en"
   },
   "source": [
    "#### What happened?\n",
    "- We start with a list [2, 4, 7, 3] and pass the function add (x, y) to reduce ( ) along with this list, without an initial value\n",
    "\n",
    "- reduce() calls add(2, 4), and add() returns 6\n",
    "\n",
    "- reduce() calls sum(6, 7) (result of the previous call to sum() and the next element in the list as parameters), and sum() returns 13\n",
    "\n",
    "- reduce() calls sum(13, 3), and sum() returns 16\n",
    "\n",
    "Since there are no more elements left in the sequence, reduce() returns 16"
   ]
  },
  {
   "cell_type": "markdown",
   "id": "e35d4706-3780-47fa-8cc3-c6a3c6e37e6e",
   "metadata": {
    "lang": "en"
   },
   "source": [
    "Factorial:\n",
    "Amount that results from the multiplication of a certain natural number by all the natural numbers that precede it, excluding zero; is represented by n!"
   ]
  },
  {
   "cell_type": "markdown",
   "id": "0c6a41de-d681-45c4-9d48-3367e0195560",
   "metadata": {
    "lang": "en"
   },
   "source": [
    "### First we do it with functions"
   ]
  },
  {
   "cell_type": "code",
   "execution_count": null,
   "id": "e19574bc-cc8b-48c1-bb8a-dce8a19b7c13",
   "metadata": {},
   "outputs": [],
   "source": []
  },
  {
   "cell_type": "markdown",
   "id": "a188a0f9-e36c-44b2-bea7-d1c3f4985f98",
   "metadata": {
    "lang": "en"
   },
   "source": [
    "### Bonus: Do it with lambda!"
   ]
  },
  {
   "cell_type": "code",
   "execution_count": 217,
   "id": "e151e209-aa6b-438c-bf66-60d376303360",
   "metadata": {},
   "outputs": [
    {
     "name": "stdout",
     "output_type": "stream",
     "text": [
      "[1, 2, 3, 4, 5, 6, 7, 8, 9, 10, 11, 12, 13, 14, 15]\n"
     ]
    },
    {
     "data": {
      "text/plain": [
       "3628800"
      ]
     },
     "execution_count": 217,
     "metadata": {},
     "output_type": "execute_result"
    }
   ],
   "source": [
    "print(numbers_15)\n",
    "reduce(lambda x, y: x * y, numbers_15[:10])"
   ]
  },
  {
   "cell_type": "code",
   "execution_count": 222,
   "id": "21e4e1ad-e37e-4cb7-8129-fb09ed16baa4",
   "metadata": {},
   "outputs": [],
   "source": [
    "def keys_list (one_value, value):\n",
    "    new_list = []\n",
    "    list_.append(one_value)\n",
    "    print(list_)\n",
    "    return list_"
   ]
  },
  {
   "cell_type": "code",
   "execution_count": null,
   "id": "788016bf-64ff-404a-b657-3ac5f39325b9",
   "metadata": {},
   "outputs": [],
   "source": [
    "filter(lambda x: x == 5, dictionary.keys())"
   ]
  },
  {
   "cell_type": "code",
   "execution_count": null,
   "id": "e68ea0d6-a086-4adf-9685-35d01481aaee",
   "metadata": {},
   "outputs": [],
   "source": [
    "reduce(fuction, dictionary)"
   ]
  },
  {
   "cell_type": "code",
   "execution_count": null,
   "id": "976e7a43-4e97-46d7-854f-9cdaba5607d9",
   "metadata": {},
   "outputs": [],
   "source": [
    "# 1. Loop\n",
    "# 2. Function\n",
    "# map, filter, reduce\n",
    "# combination"
   ]
  },
  {
   "cell_type": "markdown",
   "id": "ccfb0ed7-5856-4f97-bf7a-4c0347ba241d",
   "metadata": {
    "lang": "en"
   },
   "source": [
    "## Summary"
   ]
  },
  {
   "cell_type": "markdown",
   "id": "4ce36198-c0d3-485f-adfe-d535b3e46914",
   "metadata": {},
   "source": [
    "- map\n",
    "    - takes function + iterable\n",
    "    - iterable modified\n",
    "- filter\n",
    "    - takes function + iterable\n",
    "    - iterable modified (shorter)\n",
    "- reduce\n",
    "    - takes function + iterable\n",
    "    - one cummulative value\n",
    "- more efficient ways than just loops\n",
    "- define our own functions OR we can use lambdas\n",
    "- reduce is something you need to import\n",
    "- makes code easier to read\n",
    "- proccesing is faster because it returns objecfts instead of the lists (memory wise)"
   ]
  },
  {
   "cell_type": "markdown",
   "id": "a63fa49d-d754-47aa-a30e-61fba379b85e",
   "metadata": {},
   "source": [
    "## Further materials\n",
    "http://web.mit.edu/6.005/www/sp16/classes/25-map-filter-reduce/    \n"
   ]
  }
 ],
 "metadata": {
  "kernelspec": {
   "display_name": "Python 3 (ipykernel)",
   "language": "python",
   "name": "python3"
  },
  "language_info": {
   "codemirror_mode": {
    "name": "ipython",
    "version": 3
   },
   "file_extension": ".py",
   "mimetype": "text/x-python",
   "name": "python",
   "nbconvert_exporter": "python",
   "pygments_lexer": "ipython3",
   "version": "3.9.13"
  }
 },
 "nbformat": 4,
 "nbformat_minor": 5
}

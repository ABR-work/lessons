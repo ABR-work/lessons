{
 "cells": [
  {
   "cell_type": "markdown",
   "id": "ee496315-b3e0-41db-a4d4-5606c48d552e",
   "metadata": {},
   "source": [
    "# List comprehension"
   ]
  },
  {
   "cell_type": "markdown",
   "id": "813f2cf6-b272-4b5a-a14c-f98756ee017b",
   "metadata": {},
   "source": [
    "List comprehension is an easy to read, compact, and elegant way of creating a list from any existing iterable object.\n",
    "\n",
    "List comprehension is a single line of code that you write inside the square brackets. It has three components:\n",
    "\n",
    "- For loop\n",
    "- Condition and expression (optional)\n",
    "- Output\n"
   ]
  },
  {
   "cell_type": "code",
   "execution_count": null,
   "id": "78c5e5e5-04cf-44c5-8c92-e23055b3632b",
   "metadata": {},
   "outputs": [],
   "source": []
  },
  {
   "cell_type": "code",
   "execution_count": null,
   "id": "8046f93d-e55c-45e7-9f94-f0870774b395",
   "metadata": {},
   "outputs": [],
   "source": [
    "# normal way (no comprehension)\n",
    "#create a list with the numbers from 0 to 9\n",
    "my_list = list()\n",
    "for x in range(10):\n",
    "    if x%2==0:\n",
    "        my_list.append(x)\n",
    "print(my_list)"
   ]
  },
  {
   "cell_type": "code",
   "execution_count": null,
   "id": "373615cb-4037-4aec-99c0-f8411ae7d189",
   "metadata": {},
   "outputs": [],
   "source": [
    "#equiv but in list comprehension\n",
    "my_list = [x for x in range(10) if x%2==0]\n",
    "my_list"
   ]
  },
  {
   "cell_type": "code",
   "execution_count": null,
   "id": "ac6dabc6-5e4a-4e3f-9582-73ae2dd847c3",
   "metadata": {},
   "outputs": [],
   "source": [
    "1. Want to ask for numbers to get into a list\n",
    "2. I want to create a list with the cubic of those numbers\n",
    "3. Do it first without comprehension, then with comprehension."
   ]
  },
  {
   "cell_type": "code",
   "execution_count": null,
   "id": "419bf4c7-0207-4605-96d9-000d78821643",
   "metadata": {},
   "outputs": [],
   "source": [
    "# if you dont want to ask how many numbers before hand...\n",
    "s = input(\"give me the numbers separated by ,\")\n",
    "s = s.split(\",\") #make a string a list, separated by \",\"\n",
    "numbers = []\n",
    "for i in s: #for each element in the list, which is ex. \"1\" \n",
    "    #I put it as an int, and add it to a new list with the right type\n",
    "    numbers.append(int(i))\n",
    "print(numbers)"
   ]
  },
  {
   "cell_type": "code",
   "execution_count": null,
   "id": "f06360af-1685-41cc-bfc0-8a64a4f9249a",
   "metadata": {},
   "outputs": [],
   "source": [
    "txt = \"\"\"hi my name is peter im \n",
    "18 \n",
    "years \n",
    "old\"\"\"\n",
    "txt.split(\"\\n\")"
   ]
  },
  {
   "cell_type": "code",
   "execution_count": null,
   "id": "46cb0902-0807-499b-ba36-c1ae7f522be3",
   "metadata": {},
   "outputs": [],
   "source": [
    "1. Write code so i can get a list of non prime numbers from 2 to 100\n",
    "2. Write code so i can get a list of the prime numbers from 2 to 100\n",
    "3. Do it both, with non comprehension and list comprehension"
   ]
  },
  {
   "cell_type": "code",
   "execution_count": null,
   "id": "fc12348a-9132-436d-8835-4a33d69b9d9f",
   "metadata": {},
   "outputs": [],
   "source": []
  },
  {
   "cell_type": "markdown",
   "id": "af457a18-e484-4f56-b013-a5e3feefa854",
   "metadata": {},
   "source": [
    "# Dict comprehension"
   ]
  },
  {
   "cell_type": "code",
   "execution_count": null,
   "id": "2ca6a9c3-9e8f-4aa5-bf04-199b728000fc",
   "metadata": {},
   "outputs": [],
   "source": [
    "dict_numbers = {\"a\": 1, \"b\":2, \"c\": 3, \"d\":4, \"e\":5}\n",
    "\n",
    "# create a dict without comprehension that has the values of dict\n",
    "# but doubled\n",
    "dict_double = {}\n",
    "for (key,value) in dict_numbers.items():\n",
    "    dict_double[key] = value*2\n",
    "dict_double"
   ]
  },
  {
   "cell_type": "code",
   "execution_count": null,
   "id": "7bc0517f-7406-413f-b12c-bd4869e3d0c6",
   "metadata": {},
   "outputs": [],
   "source": [
    "{key:value*2 for (key,value) in dict_numbers.items()}"
   ]
  },
  {
   "cell_type": "code",
   "execution_count": null,
   "id": "1709c91d-0d82-48f2-8bb2-449845aed050",
   "metadata": {},
   "outputs": [],
   "source": [
    "dict_2 = {-10: \"a\", -5:\"b\", 10:\"c\"}"
   ]
  },
  {
   "cell_type": "code",
   "execution_count": null,
   "id": "de793752-63e6-41b8-ae53-7fe3d5830e7d",
   "metadata": {},
   "outputs": [],
   "source": [
    "# Create a new dictionary, where the key is the same as dict_2\n",
    "# but the value is \"positive\" if the key >= 0 , and \"negative\" key<0\n",
    "new_dict = {key:(\"positive\" if key>=0 else \"negative\") \n",
    "            for key,value in dict_2.items()}\n",
    "new_dict"
   ]
  },
  {
   "cell_type": "markdown",
   "id": "a780eef9-3e46-4c6f-b5dc-1fcf4e181627",
   "metadata": {},
   "source": [
    "# Set Comprehension"
   ]
  },
  {
   "cell_type": "code",
   "execution_count": null,
   "id": "9c1d7426-7e8a-4e0f-ba85-9ff6a8096818",
   "metadata": {},
   "outputs": [],
   "source": [
    "numbers = {1,2,3,3,4}\n",
    "numbers"
   ]
  },
  {
   "cell_type": "code",
   "execution_count": null,
   "id": "a85f0e81-df64-4f1c-9c3b-f28a2b5aed91",
   "metadata": {},
   "outputs": [],
   "source": [
    "# create a set without comprehension that has 3 times the values of\n",
    "# the set numbers\n",
    "triple_numbers = set()\n",
    "for x in numbers:\n",
    "    triple_numbers.add(x*3) #is the same as append in a list, \n",
    "    # but remember sets are not ordered\n",
    "print(triple_numbers)"
   ]
  },
  {
   "cell_type": "code",
   "execution_count": null,
   "id": "bfe24ade-bb7c-4de0-8ebd-029868aea66c",
   "metadata": {},
   "outputs": [],
   "source": [
    "{x*3 for x in numbers}"
   ]
  },
  {
   "cell_type": "code",
   "execution_count": null,
   "id": "79aa8c1a-18c8-4771-8e79-1222add0cd87",
   "metadata": {},
   "outputs": [],
   "source": [
    "# create the set {0,1,2,3,4,5,6,7,8,9} with set comprehension without explicitly \n",
    "#writing the numbers\n",
    "{x for x in range(10)}"
   ]
  },
  {
   "cell_type": "code",
   "execution_count": null,
   "id": "49f91335-af8b-4f77-a51e-7edbd1ddc94a",
   "metadata": {},
   "outputs": [],
   "source": [
    "# create the set {6,7,8,9} by adding a condition to the cell above\n",
    "{x for x in range(10) if x>5} "
   ]
  },
  {
   "cell_type": "markdown",
   "id": "6a2ce8d0-62ea-45ca-81d0-f2faf43cd663",
   "metadata": {},
   "source": [
    "**CFU**: Create a dictionary with dict comprehension whose keys (`key`) are integers between 1 and 15 (both inclusive) and the values (` value`) are the square of the key (`key`)."
   ]
  },
  {
   "cell_type": "markdown",
   "id": "e1f3c60c-6a4c-4420-ab87-c2f6e0bd93ed",
   "metadata": {
    "lang": "en"
   },
   "source": [
    "# List Comprehensions"
   ]
  },
  {
   "cell_type": "markdown",
   "id": "41722faf-5aed-40a7-a665-e7b08ac83f23",
   "metadata": {},
   "source": [
    "![elgif](https://media.giphy.com/media/8vZY0QZZjJZqmfResk/giphy.gif)"
   ]
  },
  {
   "cell_type": "markdown",
   "id": "9527f90b-5903-418c-8596-201137132a3f",
   "metadata": {
    "lang": "en"
   },
   "source": [
    "## But what is this?\n",
    "List compressions are a very powerful tool, creating one list based on another, on a single readable line."
   ]
  },
  {
   "cell_type": "markdown",
   "id": "3515e46b-5214-490d-8d17-b8772533f12f",
   "metadata": {
    "lang": "en"
   },
   "source": [
    "If we wanted to have a list like this but with all the words in uppercase using a loop..."
   ]
  },
  {
   "cell_type": "code",
   "execution_count": 191,
   "id": "velvet-madonna",
   "metadata": {},
   "outputs": [
    {
     "data": {
      "text/plain": [
       "['BARCELONA', 'MADRID', 'GIRONA', 'MURCIA']"
      ]
     },
     "execution_count": 191,
     "metadata": {},
     "output_type": "execute_result"
    }
   ],
   "source": [
    "list_of_words = [\"barcelona\", \"madrid\", \"girona\", \"murcia\"]\n",
    "new_list_words_uppercase = []\n",
    "\n",
    "for city in list_of_words:\n",
    "    new_list_words_uppercase.append(city.upper())\n",
    "new_list_words_uppercase\n",
    "\n",
    "# transform the word into upper\n",
    "# append that transformed word into the new list"
   ]
  },
  {
   "cell_type": "markdown",
   "id": "5af540e1-a012-420b-914e-2102c4d1bcbe",
   "metadata": {
    "lang": "en"
   },
   "source": [
    "How can we do it with list comprehension?"
   ]
  },
  {
   "cell_type": "code",
   "execution_count": 189,
   "id": "c1754a5a",
   "metadata": {},
   "outputs": [
    {
     "data": {
      "text/plain": [
       "['BARCELONA', 'MADRID', 'GIRONA', 'MURCIA']"
      ]
     },
     "execution_count": 189,
     "metadata": {},
     "output_type": "execute_result"
    }
   ],
   "source": [
    "# comprehension list\n",
    "\n",
    "comp_list = [city.upper() for city in list_of_words]\n",
    "comp_list"
   ]
  },
  {
   "cell_type": "markdown",
   "id": "c66c4fb0-d349-4107-a20e-b0dbe7e19b71",
   "metadata": {},
   "source": [
    "![imagen_compr](https://stsewd.dev/charla-comprension-de-listas/img/listComprehensions.gif)"
   ]
  },
  {
   "cell_type": "code",
   "execution_count": 193,
   "id": "36e710a5",
   "metadata": {},
   "outputs": [],
   "source": [
    "list_of_words = [\"barcelona\", 2,  3, \"madrid\", \"girona\", 30, \"murcia\"]"
   ]
  },
  {
   "cell_type": "code",
   "execution_count": 197,
   "id": "221cc9df",
   "metadata": {},
   "outputs": [
    {
     "name": "stdout",
     "output_type": "stream",
     "text": [
      "New list:  ['BARCELONA', 'MADRID', 'GIRONA', 'MURCIA']\n",
      "Comp list:  ['BARCELONA', 'MADRID', 'GIRONA', 'MURCIA']\n"
     ]
    }
   ],
   "source": [
    "# Goal: ['BARCELONA', 'MADRID', 'GIRONA', 'MURCIA'], nums out\n",
    "\n",
    "\n",
    "# For loop\n",
    "\n",
    "new_list = []\n",
    "for cities in list_of_words:\n",
    "    if type(cities) == str:\n",
    "        new_list.append(cities.upper())\n",
    "print(\"New list: \", new_list)\n",
    "\n",
    "# Comprehension list\n",
    "comp_list_2 = [cities.upper() for cities in list_of_words if type(cities) == str]\n",
    "print(\"Comp list: \", comp_list_2)"
   ]
  },
  {
   "cell_type": "markdown",
   "id": "538daa36-cadf-4d07-9179-0e5494f982bc",
   "metadata": {
    "lang": "en"
   },
   "source": [
    "## Easy challenge 🤔\n",
    "We want a list containing the squares of the numbers 1 to 10."
   ]
  },
  {
   "cell_type": "code",
   "execution_count": null,
   "id": "e3bc67b9",
   "metadata": {},
   "outputs": [],
   "source": [
    "# what we have: nothing :/ \n",
    "# goal: squares 1 - 10"
   ]
  },
  {
   "cell_type": "code",
   "execution_count": 202,
   "id": "8f1496bc",
   "metadata": {},
   "outputs": [
    {
     "data": {
      "text/plain": [
       "[1, 4, 9, 16, 25, 36, 49, 64, 81, 100]"
      ]
     },
     "execution_count": 202,
     "metadata": {},
     "output_type": "execute_result"
    }
   ],
   "source": [
    "# Regular loop\n",
    "\n",
    "new_list = []\n",
    "for number in range(1, 11):\n",
    "    new_list.append(number ** 2)\n",
    "new_list"
   ]
  },
  {
   "cell_type": "code",
   "execution_count": 203,
   "id": "238f8099",
   "metadata": {},
   "outputs": [
    {
     "data": {
      "text/plain": [
       "[1, 4, 9, 16, 25, 36, 49, 64, 81, 100]"
      ]
     },
     "execution_count": 203,
     "metadata": {},
     "output_type": "execute_result"
    }
   ],
   "source": [
    "# Carles: comprehension list\n",
    "\n",
    "squares = [number**2 for number in range(1,11)]\n",
    "squares"
   ]
  },
  {
   "cell_type": "markdown",
   "id": "2c21eba4-092f-4836-8e72-ed48d3cfd451",
   "metadata": {
    "lang": "en"
   },
   "source": [
    "## Advantage\n",
    "Understanding the list:\n",
    " *we don't need an empty list to start* we don't use the `.append` method."
   ]
  },
  {
   "cell_type": "code",
   "execution_count": 1,
   "id": "4e649137",
   "metadata": {},
   "outputs": [],
   "source": [
    "import time\n",
    "list_of_words = ['barcelona', 'madrid', 'gerona', 'murcia']"
   ]
  },
  {
   "cell_type": "code",
   "execution_count": 27,
   "id": "83169f15",
   "metadata": {},
   "outputs": [
    {
     "name": "stdout",
     "output_type": "stream",
     "text": [
      "CPU times: user 2 µs, sys: 1 µs, total: 3 µs\n",
      "Wall time: 4.77 µs\n",
      "['barcalona', 'madrid', 'garona', 'murcia']\n"
     ]
    }
   ],
   "source": [
    "%time\n",
    "new_list = []\n",
    "for city in list_of_words:\n",
    "    new_list.append(city.replace(\"e\", \"a\"))\n",
    "print(new_list)"
   ]
  },
  {
   "cell_type": "code",
   "execution_count": 28,
   "id": "e7c482fd",
   "metadata": {},
   "outputs": [
    {
     "name": "stdout",
     "output_type": "stream",
     "text": [
      "CPU times: user 2 µs, sys: 0 ns, total: 2 µs\n",
      "Wall time: 6.2 µs\n",
      "['barcalona', 'madrid', 'garona', 'murcia']\n"
     ]
    }
   ],
   "source": [
    "%time\n",
    "list2 = [city.replace(\"e\",\"a\") for city in list_of_words]\n",
    "print(list2)"
   ]
  },
  {
   "cell_type": "code",
   "execution_count": 30,
   "id": "bb442f11",
   "metadata": {},
   "outputs": [],
   "source": [
    "# comprehension lists \"should\" be faster\n",
    "# but they're also more comfortable"
   ]
  },
  {
   "cell_type": "markdown",
   "id": "339c9c37-e281-4dcb-94dd-8f44db633bc8",
   "metadata": {
    "lang": "en"
   },
   "source": [
    "## Easy challenge 🤔\n",
    "Create a new list, substituting \"e's\" for \"a's\" in each word in the original `words` list."
   ]
  },
  {
   "cell_type": "code",
   "execution_count": 209,
   "id": "c8c45c56",
   "metadata": {},
   "outputs": [],
   "source": [
    "# e -> a\n",
    "\n",
    "# for loop\n",
    "    # get every word\n",
    "    # every word.replace \n",
    "    #append\n",
    "    #print(new_list)"
   ]
  },
  {
   "cell_type": "markdown",
   "id": "d6b11de6-a97e-4a49-988b-4d8baa738934",
   "metadata": {},
   "source": [
    "### For loop"
   ]
  },
  {
   "cell_type": "code",
   "execution_count": 212,
   "id": "e9043062",
   "metadata": {},
   "outputs": [
    {
     "data": {
      "text/plain": [
       "['barcalona', 'madrid', 'garona', 'murcia']"
      ]
     },
     "execution_count": 212,
     "metadata": {},
     "output_type": "execute_result"
    }
   ],
   "source": [
    "# for loop\n",
    "new_list = []\n",
    "for city in list_of_words:\n",
    "    new_list.append(city.replace(\"e\", \"a\"))\n",
    "new_list "
   ]
  },
  {
   "cell_type": "markdown",
   "id": "fe9691a1-dd02-4bc9-9321-cde54aa98599",
   "metadata": {},
   "source": [
    "### Comprehension list"
   ]
  },
  {
   "cell_type": "code",
   "execution_count": 213,
   "id": "4cf5c6cb",
   "metadata": {},
   "outputs": [
    {
     "name": "stdout",
     "output_type": "stream",
     "text": [
      "['barcalona', 'madrid', 'garona', 'murcia']\n"
     ]
    }
   ],
   "source": [
    "# Carles\n",
    "\n",
    "list2 = [city.replace(\"e\",\"a\") for city in list_of_words]\n",
    "print(list2)"
   ]
  },
  {
   "cell_type": "markdown",
   "id": "138d7541-41bf-436c-bffb-e4e5a510daa6",
   "metadata": {
    "lang": "en"
   },
   "source": [
    "## Conditions (we put IF in the comprehension)"
   ]
  },
  {
   "cell_type": "markdown",
   "id": "714b7bb9-4cad-47a4-97ca-0fcdb0c662ab",
   "metadata": {},
   "source": [
    "<img width=600 src=\"https://www.mrdbourke.com/content/images/2019/09/python-list-comprehension-article.png\">"
   ]
  },
  {
   "cell_type": "markdown",
   "id": "df4b13d9-0df6-4c0c-b481-9689936f4585",
   "metadata": {
    "lang": "en"
   },
   "source": [
    "## Easy challenge 🤔\n",
    "We want a new list with words longer than 5 characters."
   ]
  },
  {
   "cell_type": "code",
   "execution_count": 32,
   "id": "invalid-variation",
   "metadata": {},
   "outputs": [],
   "source": [
    "list_of_words = ['barcelona', 'madrid', 'gerona', 'murcia']"
   ]
  },
  {
   "cell_type": "markdown",
   "id": "8547ab70-7548-462c-a2fb-de619f171ae9",
   "metadata": {},
   "source": [
    "### For loop"
   ]
  },
  {
   "cell_type": "code",
   "execution_count": 36,
   "id": "83f3feda",
   "metadata": {},
   "outputs": [
    {
     "data": {
      "text/plain": [
       "['barcelona']"
      ]
     },
     "execution_count": 36,
     "metadata": {},
     "output_type": "execute_result"
    }
   ],
   "source": [
    "new_list = []\n",
    "for element in list_of_words:\n",
    "    if len(element) > 6:# if longer than 5\n",
    "        new_list.append(element)# then append\n",
    "new_list"
   ]
  },
  {
   "cell_type": "markdown",
   "id": "945c6df2-f70a-4d9c-b9bf-900895ccaa82",
   "metadata": {},
   "source": [
    "### Comprehension list"
   ]
  },
  {
   "cell_type": "code",
   "execution_count": 38,
   "id": "7283fba5",
   "metadata": {},
   "outputs": [
    {
     "data": {
      "text/plain": [
       "['barcelona']"
      ]
     },
     "execution_count": 38,
     "metadata": {},
     "output_type": "execute_result"
    }
   ],
   "source": [
    "new_list_comp = [element for element in list_of_words if len(element) > 6]\n",
    "new_list_comp"
   ]
  },
  {
   "cell_type": "markdown",
   "id": "de3bd144-3e49-497b-9840-e05d5e3fd80e",
   "metadata": {
    "lang": "en"
   },
   "source": [
    "## If / Else in comprehension\n",
    "You can include an else statement with a block of code that is implemented if the condition is false."
   ]
  },
  {
   "cell_type": "code",
   "execution_count": null,
   "id": "1cd66f87",
   "metadata": {},
   "outputs": [],
   "source": [
    "# if longer than 5\n",
    "# else: upper\n",
    "\n",
    "list_of_words = ['barcelona', 'madrid', 'gerona', 'murcia']"
   ]
  },
  {
   "cell_type": "code",
   "execution_count": 41,
   "id": "528c62a3",
   "metadata": {},
   "outputs": [
    {
     "data": {
      "text/plain": [
       "['barcelona', 'MADRID', 'GERONA', 'MURCIA']"
      ]
     },
     "execution_count": 41,
     "metadata": {},
     "output_type": "execute_result"
    }
   ],
   "source": [
    "# For loop\n",
    "\n",
    "new_list = []\n",
    "for city in list_of_words:\n",
    "    if len(city) > 7:\n",
    "        new_list.append(city)\n",
    "    else:\n",
    "        new_list.append(city.upper())\n",
    "new_list"
   ]
  },
  {
   "cell_type": "markdown",
   "id": "ac1a5cd6-5368-4809-9b6c-2906c715a30d",
   "metadata": {
    "lang": "en"
   },
   "source": [
    "Be careful with the syntax, in this case it will change, the syntax of the comprehension will be:\n",
    "\n",
    "`[element if / else for element in whatever]`"
   ]
  },
  {
   "cell_type": "code",
   "execution_count": 43,
   "id": "9e203c2d",
   "metadata": {},
   "outputs": [
    {
     "data": {
      "text/plain": [
       "['barcelona', 'MADRID', 'GERONA', 'MURCIA']"
      ]
     },
     "execution_count": 43,
     "metadata": {},
     "output_type": "execute_result"
    }
   ],
   "source": [
    "# Comprehension list\n",
    "\n",
    "new_list = [city if len(city) > 7 else city.upper() for city in list_of_words]\n",
    "new_list "
   ]
  },
  {
   "cell_type": "code",
   "execution_count": 48,
   "id": "1ec8975d",
   "metadata": {},
   "outputs": [
    {
     "ename": "SyntaxError",
     "evalue": "invalid syntax (1843932003.py, line 4)",
     "output_type": "error",
     "traceback": [
      "\u001b[0;36m  Input \u001b[0;32mIn [48]\u001b[0;36m\u001b[0m\n\u001b[0;31m    new_list = [city if len(city) > 7 for city in list_of_words]\u001b[0m\n\u001b[0m                                      ^\u001b[0m\n\u001b[0;31mSyntaxError\u001b[0m\u001b[0;31m:\u001b[0m invalid syntax\n"
     ]
    }
   ],
   "source": [
    "# Q Sergi: can you have if in the middle without an else?\n",
    "# A: no\n",
    "\n",
    "new_list = [city if len(city) > 7 for city in list_of_words]\n",
    "new_list"
   ]
  },
  {
   "cell_type": "code",
   "execution_count": 47,
   "id": "c367889d",
   "metadata": {},
   "outputs": [
    {
     "ename": "SyntaxError",
     "evalue": "invalid syntax (2045864996.py, line 3)",
     "output_type": "error",
     "traceback": [
      "\u001b[0;36m  Input \u001b[0;32mIn [47]\u001b[0;36m\u001b[0m\n\u001b[0;31m    new_list = [city if len(city) > 7 if city.upper() for city in list_of_words]\u001b[0m\n\u001b[0m                                      ^\u001b[0m\n\u001b[0;31mSyntaxError\u001b[0m\u001b[0;31m:\u001b[0m invalid syntax\n"
     ]
    }
   ],
   "source": [
    "# Q: Marc Planas, what if you have myltiple ifs?\n",
    "#A: no\n",
    "\n",
    "new_list = [city if len(city) > 7 if city.upper() for city in list_of_words]\n",
    "new_list"
   ]
  },
  {
   "cell_type": "markdown",
   "id": "652cf9dd-067c-4582-8b0f-7090cdb4f8b8",
   "metadata": {
    "lang": "es"
   },
   "source": [
    "## Nested list comprehensions"
   ]
  },
  {
   "cell_type": "code",
   "execution_count": 49,
   "id": "75349ba8",
   "metadata": {},
   "outputs": [],
   "source": [
    "names = [\"Albert\", \"Clara\", \"Laura\"]\n",
    "cities = [\"Mataró\", \"Poblenou\", \"Barcelona\"]"
   ]
  },
  {
   "cell_type": "code",
   "execution_count": null,
   "id": "1bbe7785",
   "metadata": {},
   "outputs": [],
   "source": [
    "#[[name, city], [name, city], [name, city]]\n",
    "#zip"
   ]
  },
  {
   "cell_type": "markdown",
   "id": "e4c385f8-3590-42cc-bc58-1d28fed203fa",
   "metadata": {},
   "source": [
    "### For loop"
   ]
  },
  {
   "cell_type": "markdown",
   "id": "435d2c05-be19-4fe8-9687-2423502f54de",
   "metadata": {
    "lang": "en"
   },
   "source": [
    "Let's create a list of lists with a for loop"
   ]
  },
  {
   "cell_type": "code",
   "execution_count": null,
   "id": "ongoing-england",
   "metadata": {},
   "outputs": [],
   "source": [
    "new_list = []\n",
    "for a, b in zip(names, cities):\n",
    "    new_list.append([a, b])\n",
    "new_list"
   ]
  },
  {
   "cell_type": "markdown",
   "id": "482943c6-d962-4946-9770-91b832f73b22",
   "metadata": {},
   "source": [
    "### Comprehension list: nested lists"
   ]
  },
  {
   "cell_type": "code",
   "execution_count": 56,
   "id": "88d96730",
   "metadata": {},
   "outputs": [
    {
     "data": {
      "text/plain": [
       "[['Albert', 'Mataró'], ['Clara', 'Poblenou'], ['Laura', 'Barcelona']]"
      ]
     },
     "execution_count": 56,
     "metadata": {},
     "output_type": "execute_result"
    }
   ],
   "source": [
    "nested_comprehension = [[a, b] for a, b in zip(names, cities)]\n",
    "nested_comprehension"
   ]
  },
  {
   "cell_type": "code",
   "execution_count": 58,
   "id": "2565d5b4",
   "metadata": {},
   "outputs": [
    {
     "data": {
      "text/plain": [
       "'Mataró'"
      ]
     },
     "execution_count": 58,
     "metadata": {},
     "output_type": "execute_result"
    }
   ],
   "source": [
    "nested_comprehension[0][1]\n",
    "\n",
    "[\"Abert\", \"Mataró\", \"Clara\", \"Poblenou\"] #unflattened version of my nested list"
   ]
  },
  {
   "cell_type": "markdown",
   "id": "320e72de-e132-436d-8e17-1957b87a8d75",
   "metadata": {},
   "source": [
    "#### Unflattening a nested list with a for loop"
   ]
  },
  {
   "cell_type": "code",
   "execution_count": 62,
   "id": "8c3da52c",
   "metadata": {},
   "outputs": [
    {
     "data": {
      "text/plain": [
       "[['Albert', 'Mataró'], ['Clara', 'Poblenou'], ['Laura', 'Barcelona']]"
      ]
     },
     "execution_count": 62,
     "metadata": {},
     "output_type": "execute_result"
    }
   ],
   "source": [
    "nested_comprehension = [['Albert', 'Mataró'], ['Clara', 'Poblenou'], ['Laura', 'Barcelona']]\n",
    "nested_comprehension"
   ]
  },
  {
   "cell_type": "code",
   "execution_count": null,
   "id": "14e4ea3b",
   "metadata": {},
   "outputs": [],
   "source": [
    "# what i have: [['Albert', 'Mataró'], ['Clara', 'Poblenou'], ['Laura', 'Barcelona']]\n",
    "# goal:        [\"Abert\", \"Mataró\", \"Clara\", \"Poblenou\"]"
   ]
  },
  {
   "cell_type": "code",
   "execution_count": 66,
   "id": "8a317b59",
   "metadata": {},
   "outputs": [
    {
     "name": "stdout",
     "output_type": "stream",
     "text": [
      "Albert\n",
      "Mataró\n"
     ]
    }
   ],
   "source": [
    "i = ['Albert', 'Mataró']\n",
    "for element in i:\n",
    "    print(element)"
   ]
  },
  {
   "cell_type": "code",
   "execution_count": 73,
   "id": "91ab7124",
   "metadata": {},
   "outputs": [
    {
     "data": {
      "text/plain": [
       "['Albert', 'Mataró', 'Clara', 'Bcn', 'Clara', 'Poblenou', 'Laura', 'Barcelona']"
      ]
     },
     "execution_count": 73,
     "metadata": {},
     "output_type": "execute_result"
    }
   ],
   "source": [
    "nested_comprehension = [[['Albert', 'Mataró'], [\"Clara\", \"Bcn\"]], [['Clara', 'Poblenou']], [['Laura', 'Barcelona']]]\n",
    "\n",
    "unflattened = []\n",
    "\n",
    "for i in nested_comprehension:\n",
    "    for element in i:\n",
    "        for x in element:\n",
    "            unflattened.append(x) \n",
    "            \n",
    "unflattened"
   ]
  },
  {
   "cell_type": "markdown",
   "id": "60da3473-8f02-48d6-82f2-4d11b62deb30",
   "metadata": {},
   "source": [
    "#### Unflattening a nested list with a comprehension list"
   ]
  },
  {
   "cell_type": "code",
   "execution_count": 75,
   "id": "a89c12a0",
   "metadata": {},
   "outputs": [
    {
     "data": {
      "text/plain": [
       "['Albert', 'Mataró', 'Clara', 'Bcn', 'Clara', 'Poblenou', 'Laura', 'Barcelona']"
      ]
     },
     "execution_count": 75,
     "metadata": {},
     "output_type": "execute_result"
    }
   ],
   "source": [
    "unflatttened_comp = [x for i in nested_comprehension for element in i for x in element]\n",
    "unflatttened_comp"
   ]
  },
  {
   "cell_type": "markdown",
   "id": "43e5bba4-6315-43d0-a904-6369c29ed147",
   "metadata": {
    "lang": "en"
   },
   "source": [
    "## Dictionary comprehensions"
   ]
  },
  {
   "cell_type": "markdown",
   "id": "c49a9ea9-b900-4cea-8345-df83c3c43736",
   "metadata": {
    "lang": "en"
   },
   "source": [
    "How would we do it with a normal loop?"
   ]
  },
  {
   "cell_type": "code",
   "execution_count": null,
   "id": "a23c3202",
   "metadata": {},
   "outputs": [],
   "source": [
    "# two lists: names, emojis\n",
    "   # [\"venice\", \"sam\"]\n",
    "   # [\"emoji1\", \"emoji2\"] \n",
    "# goal: {\"venice\": \"emoji\", \"sam\":\"emoji\"}"
   ]
  },
  {
   "cell_type": "code",
   "execution_count": 76,
   "id": "5e44b9c5",
   "metadata": {},
   "outputs": [],
   "source": [
    "names = [\"venice\", \"sam\", \"clara\"]\n",
    "emojis = [\"💪\", \"🏠\", \"🤫\"]\n",
    "\n",
    "the_goal = {\"venice\": \"💪\",\n",
    " \"sam\": \"🏠\",\n",
    " \"clara\":\"🤫\" \n",
    "}"
   ]
  },
  {
   "cell_type": "markdown",
   "id": "0901c59a-ada9-4baf-8364-2795e53fbdd7",
   "metadata": {},
   "source": [
    "### For loop"
   ]
  },
  {
   "cell_type": "code",
   "execution_count": 80,
   "id": "tough-peeing",
   "metadata": {
    "scrolled": true
   },
   "outputs": [
    {
     "name": "stdout",
     "output_type": "stream",
     "text": [
      "{'venice': '💪', 'sam': '🏠', 'clara': '🤫'}\n"
     ]
    }
   ],
   "source": [
    "# iterate the two things. two lists\n",
    "    # iterating two lists at once\n",
    "# later I can build the dictionary\n",
    "    # new_dict[key] = value\n",
    "\n",
    "new_dictionary = {\n",
    "    \n",
    "}\n",
    "\n",
    "for person, picture in zip(names, emojis):\n",
    "    new_dictionary[person] = picture\n",
    "    #print(f\"Person: {person}, emoji: {picture}\")\n",
    "print(new_dictionary)"
   ]
  },
  {
   "cell_type": "markdown",
   "id": "f347772a-6f11-409a-8aee-aae943ce2dca",
   "metadata": {
    "lang": "en"
   },
   "source": [
    "### Comprehension dict"
   ]
  },
  {
   "cell_type": "code",
   "execution_count": 82,
   "id": "constitutional-daughter",
   "metadata": {},
   "outputs": [
    {
     "data": {
      "text/plain": [
       "{'venice': '💪', 'sam': '🏠', 'clara': '🤫'}"
      ]
     },
     "execution_count": 82,
     "metadata": {},
     "output_type": "execute_result"
    }
   ],
   "source": [
    "new_dict = {person:picture for person, picture in zip(names, emojis)}\n",
    "new_dict"
   ]
  },
  {
   "cell_type": "code",
   "execution_count": 83,
   "id": "56327cab",
   "metadata": {},
   "outputs": [
    {
     "data": {
      "text/plain": [
       "{'💪': 'venice', '🏠': 'sam', '🤫': 'clara'}"
      ]
     },
     "execution_count": 83,
     "metadata": {},
     "output_type": "execute_result"
    }
   ],
   "source": [
    "new_dict = {picture:person for person, picture in zip(names, emojis)}\n",
    "new_dict"
   ]
  },
  {
   "cell_type": "markdown",
   "id": "6e49f7d0-3d9b-4661-9bd7-edf7525cd292",
   "metadata": {
    "lang": "en"
   },
   "source": [
    "## Challenge 🤔\n",
    "They give you a list of words. Write a dictionary containing the length of each word."
   ]
  },
  {
   "cell_type": "code",
   "execution_count": 84,
   "id": "12333f41",
   "metadata": {},
   "outputs": [],
   "source": [
    "list_of_words = [\"football\", \"climbing\", \"swimming\", \"golf\"]"
   ]
  },
  {
   "cell_type": "code",
   "execution_count": null,
   "id": "23650147",
   "metadata": {},
   "outputs": [],
   "source": [
    "# {footabll: 8}"
   ]
  },
  {
   "cell_type": "markdown",
   "id": "ff0a77f4-7d6c-4723-9d4e-047c2c015c7e",
   "metadata": {},
   "source": [
    "### For loop"
   ]
  },
  {
   "cell_type": "code",
   "execution_count": 86,
   "id": "romantic-tiffany",
   "metadata": {},
   "outputs": [
    {
     "data": {
      "text/plain": [
       "{'football': 8, 'climbing': 8, 'swimming': 8, 'golf': 4}"
      ]
     },
     "execution_count": 86,
     "metadata": {},
     "output_type": "execute_result"
    }
   ],
   "source": [
    "new_dict = {}\n",
    "for s in list_of_words:\n",
    "    new_dict[s] = len(s)\n",
    "new_dict"
   ]
  },
  {
   "cell_type": "markdown",
   "id": "927fe311-4b60-47a8-ab2d-ee665a87cc40",
   "metadata": {},
   "source": [
    "### Comprehension dict"
   ]
  },
  {
   "cell_type": "code",
   "execution_count": 85,
   "id": "2435f19f",
   "metadata": {},
   "outputs": [
    {
     "data": {
      "text/plain": [
       "{'football': 8, 'climbing': 8, 'swimming': 8, 'golf': 4}"
      ]
     },
     "execution_count": 85,
     "metadata": {},
     "output_type": "execute_result"
    }
   ],
   "source": [
    "sports = {s:len(s) for s in list_of_words}\n",
    "sports"
   ]
  },
  {
   "cell_type": "markdown",
   "id": "b388ae3d-a76d-4077-8486-6e06d6765838",
   "metadata": {
    "lang": "en"
   },
   "source": [
    "## Last Challenge: comprehension SET\n",
    "Also output, with a set comprehension, only unique country codes"
   ]
  },
  {
   "cell_type": "code",
   "execution_count": 98,
   "id": "inner-refund",
   "metadata": {},
   "outputs": [],
   "source": [
    "codes_countries = [\"es-91\", \"en-88\", \"fra-12\", \"it-33\", \"ar-55\", \"it-34\", \"es-98\"]"
   ]
  },
  {
   "cell_type": "code",
   "execution_count": 96,
   "id": "30bb8484",
   "metadata": {},
   "outputs": [],
   "source": [
    "# goal = {'AR', 'EN', 'ES', 'FRA', 'IT'}\n",
    "\n",
    "# gettting just the letters\n",
    "# uppercase"
   ]
  },
  {
   "cell_type": "code",
   "execution_count": 108,
   "id": "6eed686c",
   "metadata": {},
   "outputs": [
    {
     "data": {
      "text/plain": [
       "['ES', 'EN', 'FRA', 'IT', 'AR', 'IT', 'ES']"
      ]
     },
     "execution_count": 108,
     "metadata": {},
     "output_type": "execute_result"
    }
   ],
   "source": [
    "new_list = []\n",
    "for element in codes_countries:\n",
    "    new_list.append(element.split(\"-\")[0].upper())\n",
    "\n",
    "new_list"
   ]
  },
  {
   "cell_type": "code",
   "execution_count": 115,
   "id": "e3eeb682",
   "metadata": {},
   "outputs": [
    {
     "data": {
      "text/plain": [
       "{'AR', 'EN', 'ES', 'FRA', 'IT'}"
      ]
     },
     "execution_count": 115,
     "metadata": {},
     "output_type": "execute_result"
    }
   ],
   "source": [
    "my_set = {element.split(\"-\")[0].upper() for element in codes_countries}\n",
    "my_set"
   ]
  },
  {
   "cell_type": "code",
   "execution_count": 116,
   "id": "93522121",
   "metadata": {},
   "outputs": [
    {
     "name": "stdout",
     "output_type": "stream",
     "text": [
      "{'ES', 'FRA', 'AR', 'EN', 'IT'}\n"
     ]
    }
   ],
   "source": [
    "print(my_set)"
   ]
  },
  {
   "cell_type": "raw",
   "id": "bb036007-0d7c-4f87-875e-9cfb6a4156f5",
   "metadata": {},
   "source": [
    "# order when printing changes\n",
    "{1, 100, 6, 50}"
   ]
  },
  {
   "cell_type": "markdown",
   "id": "32925503-a999-4711-8842-b5c83789857d",
   "metadata": {},
   "source": [
    "# RECAP"
   ]
  },
  {
   "cell_type": "markdown",
   "id": "8b7cec96-24f0-4c9c-9b34-8f5993e7d421",
   "metadata": {},
   "source": [
    "- quicker, more comfortable (i think) and readable way to create lists\n",
    "- comprehension lists, sets, dictionaries\n",
    "- flatten and create nested lists\n",
    "- save some steps while we do comprehensions\n",
    "- we can use conditions\n",
    "- IF  we use ELSE: the order changes"
   ]
  }
 ],
 "metadata": {
  "kernelspec": {
   "display_name": "Python 3 (ipykernel)",
   "language": "python",
   "name": "python3"
  },
  "language_info": {
   "codemirror_mode": {
    "name": "ipython",
    "version": 3
   },
   "file_extension": ".py",
   "mimetype": "text/x-python",
   "name": "python",
   "nbconvert_exporter": "python",
   "pygments_lexer": "ipython3",
   "version": "3.9.13"
  }
 },
 "nbformat": 4,
 "nbformat_minor": 5
}

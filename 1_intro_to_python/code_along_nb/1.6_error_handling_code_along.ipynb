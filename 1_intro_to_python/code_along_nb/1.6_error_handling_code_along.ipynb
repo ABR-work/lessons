{
 "cells": [
  {
   "cell_type": "markdown",
   "id": "d35bfe3b-6b3f-4aa3-97ba-d0653e0eb7c6",
   "metadata": {},
   "source": [
    "# Error Handling"
   ]
  },
  {
   "cell_type": "markdown",
   "id": "1096e7fe-04c8-4a2f-a6fb-2352f39767c6",
   "metadata": {},
   "source": [
    "![elgif](https://media.giphy.com/media/WhFfFPCEDXpBe/giphy.gif)"
   ]
  },
  {
   "cell_type": "markdown",
   "id": "3abfd862-ab14-4a55-8c69-c75694cb8e6e",
   "metadata": {},
   "source": [
    "Errors (also known as exceptions) are issues in the code that will interrupt its execution. When an error occurs, the program stops running, and an error message is displayed, indicating the type of error and its location in the code."
   ]
  },
  {
   "cell_type": "code",
   "execution_count": null,
   "id": "10f97a99-c7f1-4427-a6a4-a03f32625de6",
   "metadata": {},
   "outputs": [],
   "source": []
  },
  {
   "cell_type": "markdown",
   "id": "0556ab00-a074-471d-8f04-928169c92d7f",
   "metadata": {},
   "source": [
    "- Errors are a specific type of objects in Python.\n",
    "- Errors can be intentionally raised using the keyword `raise`.\n",
    "\n",
    "```\n",
    "Raising an error (with raise) involves completely stopping the program.\n",
    "```\n",
    "\n",
    "- Errors often contain a message within them.\n",
    "> This message serves to help the user identify the problem and find a solution. Carefully reading the error messages is always necessary to reach a solution quickly."
   ]
  },
  {
   "cell_type": "code",
   "execution_count": null,
   "id": "84248bc9-8dd1-4693-96d7-a7af9566001a",
   "metadata": {},
   "outputs": [],
   "source": []
  },
  {
   "cell_type": "markdown",
   "id": "0f96032e-0bd5-4c98-ae14-5ddfd57e097e",
   "metadata": {},
   "source": [
    "## Different Types of Errors in Python\n",
    "\n",
    "There are many different types of errors in Python:\n",
    "\n",
    "- `AttributeError`: Accessing a non-existent attribute of an object.\n",
    "- `ImportError`: Failing to import a module or package.\n",
    "- `ModuleNotFoundError`: Attempting to import a module that doesn't exist.\n",
    "- `IndexError`: Accessing an index that is out of range in a list or string.\n",
    "- `KeyError`: Accessing a non-existent key in a dictionary.\n",
    "- `KeyboardInterrupt`: Interrupting the program's execution with a keyboard input (e.g., pressing Ctrl+C).\n",
    "- `NameError`: Using a variable or function that is not defined.\n",
    "- `SyntaxError`: Having incorrect syntax in the code.\n",
    "- `TypeError`: Performing an operation with incompatible data types.\n",
    "- `ValueError`: Using an incorrect value or type for a function or operation.\n",
    "- `ZeroDivisionError`: Attempting to divide by zero.\n",
    "\n",
    "These are just a few examples, and you can find more in the Python [documentation](https://docs.python.org/3/library/exceptions.html). \n",
    "\n",
    "Each type of error indicates a specific issue that may occur during program execution."
   ]
  },
  {
   "cell_type": "markdown",
   "id": "ecbf21b5-873f-42ea-9989-53fbf3ced900",
   "metadata": {},
   "source": [
    "### Attribute Error"
   ]
  },
  {
   "cell_type": "code",
   "execution_count": null,
   "id": "39294a8b-3cbf-4529-b81e-979a1b69c508",
   "metadata": {},
   "outputs": [],
   "source": []
  },
  {
   "cell_type": "markdown",
   "id": "799ae865-5236-49e0-9516-3694f9a93b75",
   "metadata": {},
   "source": [
    "### Index Error"
   ]
  },
  {
   "cell_type": "code",
   "execution_count": null,
   "id": "d5a6512d-c0ac-4090-adcc-84750b47a60e",
   "metadata": {},
   "outputs": [],
   "source": []
  },
  {
   "cell_type": "markdown",
   "id": "5d0feb16-41b8-42d4-af53-13f64333fa44",
   "metadata": {},
   "source": [
    "### Key Error"
   ]
  },
  {
   "cell_type": "code",
   "execution_count": null,
   "id": "6b79fda2-c1e3-4dc6-a4e9-44c7c00e1419",
   "metadata": {},
   "outputs": [],
   "source": []
  },
  {
   "cell_type": "markdown",
   "id": "0947b9f3-fdd4-44f1-af51-fe0f36ba1760",
   "metadata": {},
   "source": [
    "### Type Error"
   ]
  },
  {
   "cell_type": "code",
   "execution_count": null,
   "id": "d9c2a37b-4f27-4399-b7ae-03fe6190a73f",
   "metadata": {},
   "outputs": [],
   "source": []
  },
  {
   "cell_type": "markdown",
   "id": "e6846c1f-9a5e-46dd-b79d-2fab0ad9ec58",
   "metadata": {},
   "source": [
    "### Value Error"
   ]
  },
  {
   "cell_type": "code",
   "execution_count": null,
   "id": "549a53f1-ce69-4bce-867e-36d3c9e94557",
   "metadata": {},
   "outputs": [],
   "source": []
  },
  {
   "cell_type": "markdown",
   "id": "43687876-b9f5-477a-bfef-07a40a7ad290",
   "metadata": {
    "lang": "en"
   },
   "source": [
    "## Error handling\n",
    "\n",
    "Error handling is an essential aspect of programming, as it allows you to anticipate and manage potential issues that may arise during program execution. \n",
    "\n",
    "In Python, error handling is achieved using try-except blocks, allowing you to gracefully handle exceptions and prevent unexpected program crashes. \n",
    "\n",
    "\n",
    "\n",
    "**Syntax of Try-Except Block:**\n",
    "```python\n",
    "try:\n",
    "    # Code that may raise an exception\n",
    "except SpecificExceptionType:\n",
    "    # Code to handle the specific exception\n",
    "except AnotherExceptionType:\n",
    "    # Code to handle another specific exception\n",
    "...\n",
    "else:\n",
    "    # Code that will run if no exception occurs\n",
    "finally:\n",
    "    # Code that will always run, regardless of exceptions\n",
    "```\n",
    "\n",
    "**Key Concepts:**\n",
    "\n",
    "1. **Exceptions:**\n",
    "   In Python, when an error occurs during program execution, it raises an exception. Exceptions are objects that represent errors and contain information about what went wrong.\n",
    "\n",
    "2. **Try-Except Block:**\n",
    "   The try-except block is used to handle exceptions in Python. The code that may raise an exception is placed inside the `try` block. If an exception occurs, it is caught and handled in the `except` block.\n",
    "\n",
    "3. **Handling Specific Exceptions:**\n",
    "   You can specify the type of exception you want to catch in the `except` block. This allows you to handle different types of errors differently and provide appropriate error messages.\n",
    "\n",
    "4. **The Else Block**:\n",
    "    The else block, if provided, will be executed only if no exceptions occur in the try block. It allows you to include code that should run when the try block completes successfully.\n",
    "\n",
    "5. **Finally Block:**\n",
    "   The `finally` block, if provided, will be executed regardless of whether an exception occurred or not. It is typically used to perform cleanup actions or close resources."
   ]
  },
  {
   "cell_type": "code",
   "execution_count": null,
   "id": "7b5d8e6a-406b-417e-9e0b-95b218fa1cfb",
   "metadata": {},
   "outputs": [],
   "source": []
  },
  {
   "cell_type": "markdown",
   "id": "c40c2d67-98fe-496f-a5ac-47cb8f95d61b",
   "metadata": {},
   "source": [
    "### Except with no specific exception type\n",
    "\n",
    "The `except` block with no specific exception type (i.e., a general `except` block) is used to catch any exception that occurs in the `try` block that is not caught by previous `except` blocks with specific exception types.\n",
    "\n",
    "Here's the syntax of a general `except` block:\n",
    "\n",
    "```python\n",
    "try:\n",
    "    # Code that may raise an exception\n",
    "except SpecificExceptionType:\n",
    "    # Code to handle a specific exception\n",
    "except AnotherExceptionType:\n",
    "    # Code to handle another specific exception\n",
    "except:\n",
    "    # Code to handle any other exception (general catch-all)\n",
    "```\n"
   ]
  },
  {
   "cell_type": "code",
   "execution_count": null,
   "id": "4ebe8e29-5d0a-4bef-b0d2-640725fe955c",
   "metadata": {},
   "outputs": [],
   "source": []
  },
  {
   "cell_type": "markdown",
   "id": "6b0d1590-46e8-4fc4-b259-83c547918950",
   "metadata": {},
   "source": [
    "### Saving the error with the alias `as`\n",
    "\n",
    "We can also save in a variable the error returned by the Exception."
   ]
  },
  {
   "cell_type": "code",
   "execution_count": null,
   "id": "df169c69-d514-4aa7-9193-0ec1fd6b24a3",
   "metadata": {},
   "outputs": [],
   "source": []
  },
  {
   "cell_type": "markdown",
   "id": "19ea7b91-3524-4af1-afe9-0f7ce6162ab4",
   "metadata": {
    "lang": "en"
   },
   "source": [
    "## Raising errors\n",
    "\n",
    "In Python, you can use the `raise` keyword to intentionally create errors (exceptions). It allows you to handle exceptional cases and provide informative feedback when something unexpected occurs during program execution.\n",
    "\n",
    "**Syntax of Raising Errors:**\n",
    "```python\n",
    "raise ErrorType(\"Optional error message\")\n",
    "```\n"
   ]
  },
  {
   "cell_type": "code",
   "execution_count": null,
   "id": "7dd6437d-f83c-4ca4-8d6b-9a57ae87fdb6",
   "metadata": {},
   "outputs": [],
   "source": []
  },
  {
   "cell_type": "markdown",
   "id": "67ee2d8d-b418-4e37-9fea-3169dd8bb418",
   "metadata": {
    "lang": "en"
   },
   "source": [
    "## Summary\n"
   ]
  },
  {
   "cell_type": "markdown",
   "id": "99e9c59d-274c-4264-8010-6a01b2f6c987",
   "metadata": {},
   "source": [
    "- Exceptions\n",
    "    - Exceptions: logical errors\n",
    "        - Type of exception you get\n",
    "        \n",
    "- Python can give them to you: if you don't want the code to break\n",
    "    - try / except\n",
    "    - specific or not specific\n",
    "        - not specific: try / except\n",
    "        - specific: try / except ValueError -> TypeError\n",
    "        - except Exception -> capture alll the errors\n",
    "            - I can print them and see what it is\n",
    "    \n",
    "- You can force the exceptions to happen: i do want the code to break\n",
    "    - raise Error, pass a message \n",
    "    \n",
    "- READ THE MESSAGES ALL THE TIME\n",
    "    - terminal\n",
    "    - jupyter notebook\n",
    "    - whatever \n",
    "  "
   ]
  },
  {
   "cell_type": "markdown",
   "id": "374d1b6a-22d9-47e6-abd4-9e3513a73bd1",
   "metadata": {
    "lang": "en"
   },
   "source": [
    "## Extra: Data validation with `assert`"
   ]
  },
  {
   "cell_type": "markdown",
   "id": "832a4880-042c-4e4e-bf97-62af0d9624c1",
   "metadata": {
    "lang": "en"
   },
   "source": [
    "Python provides a way to set enforceable conditions, that is, conditions that an object must meet or else an exception will be thrown. It is like a kind of \"safety net\" against possible failures of the programmer. The `assert` statement adds controls for debugging a program. It allows us to express a condition that must always be true, and that, if not, will interrupt the program, generating an exception to handle called AssertionError. The way to call this expression is as follows:\n",
    "```python\n",
    "assert boolean condition\n",
    "```\n",
    "In case the boolean expression is true, assert does nothing. If it is false, it throws an exception. Let's see an example to understand it."
   ]
  },
  {
   "cell_type": "code",
   "execution_count": null,
   "id": "b9ecaab8-4f0c-49a3-b3a8-094521654d21",
   "metadata": {},
   "outputs": [],
   "source": [
    "assert 1 == 2, \"condition is not true\""
   ]
  },
  {
   "cell_type": "code",
   "execution_count": null,
   "id": "a83c1184-8091-4615-b8da-96aca1bba5c9",
   "metadata": {},
   "outputs": [],
   "source": [
    "list_ = [0 , 1, 2, 3, 4, 3]"
   ]
  },
  {
   "cell_type": "code",
   "execution_count": null,
   "id": "725f87e4-46b9-43ca-a09a-796c5e16c2dc",
   "metadata": {},
   "outputs": [],
   "source": [
    "assert len(list_) == 5, \"this is not 5\""
   ]
  },
  {
   "cell_type": "code",
   "execution_count": null,
   "id": "2096e3ea-ed5b-4ba0-9438-bca442fb6e58",
   "metadata": {},
   "outputs": [],
   "source": [
    "result_test = 0\n",
    "result_of_your_function = 255\n",
    "\n",
    "assert result_test == result_of_your_function,  \"0 != 255\"\n",
    "\n",
    "# 0 != 255"
   ]
  },
  {
   "cell_type": "code",
   "execution_count": null,
   "id": "830f637a-f041-4b42-bd43-d9372ef6f828",
   "metadata": {},
   "outputs": [],
   "source": [
    "list_ = [1, 2, 3, 4, 5]\n",
    "\n",
    "new_list = []\n",
    "\n",
    "try:\n",
    "    for n in list_:\n",
    "        assert len(list_) > 3 #this is always met\n",
    "        print(list_)\n",
    "        new_list.append(list_.pop())\n",
    "    \n",
    "except AssertionError:\n",
    "        print(\"something\")\n",
    "\n",
    "print(new_list)"
   ]
  }
 ],
 "metadata": {
  "kernelspec": {
   "display_name": "Python 3 (ipykernel)",
   "language": "python",
   "name": "python3"
  },
  "language_info": {
   "codemirror_mode": {
    "name": "ipython",
    "version": 3
   },
   "file_extension": ".py",
   "mimetype": "text/x-python",
   "name": "python",
   "nbconvert_exporter": "python",
   "pygments_lexer": "ipython3",
   "version": "3.9.13"
  }
 },
 "nbformat": 4,
 "nbformat_minor": 5
}
